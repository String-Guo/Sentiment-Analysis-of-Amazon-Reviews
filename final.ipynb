{
 "cells": [
  {
   "cell_type": "markdown",
   "metadata": {
    "colab_type": "text",
    "id": "RBd_st3UegmP"
   },
   "source": [
    "# Mount Google Drive"
   ]
  },
  {
   "cell_type": "code",
   "execution_count": 2,
   "metadata": {
    "colab": {
     "base_uri": "https://localhost:8080/",
     "height": 52
    },
    "colab_type": "code",
    "id": "CuCK7yC1ozfW",
    "outputId": "cb63167d-199e-40de-a713-09313ba60f1b"
   },
   "outputs": [
    {
     "name": "stdout",
     "output_type": "stream",
     "text": [
      "Mounted at /content/drive\n",
      "Note: using Google CoLab\n"
     ]
    }
   ],
   "source": [
    "try:\n",
    "    from google.colab import drive\n",
    "    drive.mount('/content/drive', force_remount=True)\n",
    "    COLAB = True\n",
    "    print(\"Note: using Google CoLab\")\n",
    "except:\n",
    "    print(\"Note: not using Google CoLab\")\n",
    "    COLAB = False"
   ]
  },
  {
   "cell_type": "markdown",
   "metadata": {
    "colab_type": "text",
    "id": "koQiLN0hejYK"
   },
   "source": [
    "# Import libraries"
   ]
  },
  {
   "cell_type": "code",
   "execution_count": null,
   "metadata": {
    "colab": {},
    "colab_type": "code",
    "id": "f5NDXrN2CtH7"
   },
   "outputs": [],
   "source": [
    "import os\n",
    "import json\n",
    "import gzip\n",
    "from urllib.request import urlopen"
   ]
  },
  {
   "cell_type": "code",
   "execution_count": null,
   "metadata": {
    "colab": {},
    "colab_type": "code",
    "id": "HkyfwQQuxBNy"
   },
   "outputs": [],
   "source": [
    "os.chdir(\"/content/drive/My Drive/Colab Notebooks/Text_Mining\")"
   ]
  },
  {
   "cell_type": "code",
   "execution_count": 3,
   "metadata": {
    "colab": {},
    "colab_type": "code",
    "id": "6DpizIb66ubw"
   },
   "outputs": [],
   "source": [
    "import warnings\n",
    "warnings.filterwarnings(\"ignore\")                     #Ignoring unnecessory warnings\n",
    "\n",
    "import numpy as np                                  #for large and multi-dimensional arrays\n",
    "import pandas as pd                                 #for data manipulation and analysis\n",
    "import nltk                                         #Natural language processing tool-kit\n",
    "from nltk.tokenize import TweetTokenizer\n",
    "from nltk.corpus import stopwords\n",
    "from heapq import nlargest\n",
    "from textblob import TextBlob\n",
    "import matplotlib.pyplot as plt\n",
    "np.random.seed(100)"
   ]
  },
  {
   "cell_type": "code",
   "execution_count": 1,
   "metadata": {
    "collapsed": true,
    "jupyter": {
     "outputs_hidden": true
    }
   },
   "outputs": [
    {
     "name": "stdout",
     "output_type": "stream",
     "text": [
      "Requirement already satisfied: numpy in /opt/anaconda3/lib/python3.7/site-packages (1.17.2)\n",
      "Requirement already satisfied: pandas in /opt/anaconda3/lib/python3.7/site-packages (0.25.1)\n",
      "Requirement already satisfied: numpy>=1.13.3 in /opt/anaconda3/lib/python3.7/site-packages (from pandas) (1.17.2)\n",
      "Requirement already satisfied: pytz>=2017.2 in /opt/anaconda3/lib/python3.7/site-packages (from pandas) (2019.3)\n",
      "Requirement already satisfied: python-dateutil>=2.6.1 in /opt/anaconda3/lib/python3.7/site-packages (from pandas) (2.8.0)\n",
      "Requirement already satisfied: six>=1.5 in /opt/anaconda3/lib/python3.7/site-packages (from python-dateutil>=2.6.1->pandas) (1.12.0)\n",
      "Requirement already satisfied: nltk in /opt/anaconda3/lib/python3.7/site-packages (3.4.5)\n",
      "Requirement already satisfied: six in /opt/anaconda3/lib/python3.7/site-packages (from nltk) (1.12.0)\n",
      "Requirement already satisfied: sklearn in /opt/anaconda3/lib/python3.7/site-packages (0.0)\n",
      "Requirement already satisfied: scikit-learn in /opt/anaconda3/lib/python3.7/site-packages (from sklearn) (0.21.3)\n",
      "Requirement already satisfied: scipy>=0.17.0 in /opt/anaconda3/lib/python3.7/site-packages (from scikit-learn->sklearn) (1.3.1)\n",
      "Requirement already satisfied: joblib>=0.11 in /opt/anaconda3/lib/python3.7/site-packages (from scikit-learn->sklearn) (0.13.2)\n",
      "Requirement already satisfied: numpy>=1.11.0 in /opt/anaconda3/lib/python3.7/site-packages (from scikit-learn->sklearn) (1.17.2)\n",
      "Requirement already satisfied: pyLDAvis in /opt/anaconda3/lib/python3.7/site-packages (2.1.2)\n",
      "Requirement already satisfied: numexpr in /opt/anaconda3/lib/python3.7/site-packages (from pyLDAvis) (2.7.0)\n",
      "Requirement already satisfied: funcy in /opt/anaconda3/lib/python3.7/site-packages (from pyLDAvis) (1.14)\n",
      "Requirement already satisfied: pytest in /opt/anaconda3/lib/python3.7/site-packages (from pyLDAvis) (5.2.1)\n",
      "Requirement already satisfied: jinja2>=2.7.2 in /opt/anaconda3/lib/python3.7/site-packages (from pyLDAvis) (2.10.3)\n",
      "Requirement already satisfied: wheel>=0.23.0 in /opt/anaconda3/lib/python3.7/site-packages (from pyLDAvis) (0.33.6)\n",
      "Requirement already satisfied: scipy>=0.18.0 in /opt/anaconda3/lib/python3.7/site-packages (from pyLDAvis) (1.3.1)\n",
      "Requirement already satisfied: future in /opt/anaconda3/lib/python3.7/site-packages (from pyLDAvis) (0.17.1)\n",
      "Requirement already satisfied: numpy>=1.9.2 in /opt/anaconda3/lib/python3.7/site-packages (from pyLDAvis) (1.17.2)\n",
      "Requirement already satisfied: pandas>=0.17.0 in /opt/anaconda3/lib/python3.7/site-packages (from pyLDAvis) (0.25.1)\n",
      "Requirement already satisfied: joblib>=0.8.4 in /opt/anaconda3/lib/python3.7/site-packages (from pyLDAvis) (0.13.2)\n",
      "Requirement already satisfied: py>=1.5.0 in /opt/anaconda3/lib/python3.7/site-packages (from pytest->pyLDAvis) (1.8.0)\n",
      "Requirement already satisfied: packaging in /opt/anaconda3/lib/python3.7/site-packages (from pytest->pyLDAvis) (19.2)\n",
      "Requirement already satisfied: attrs>=17.4.0 in /opt/anaconda3/lib/python3.7/site-packages (from pytest->pyLDAvis) (19.2.0)\n",
      "Requirement already satisfied: more-itertools>=4.0.0 in /opt/anaconda3/lib/python3.7/site-packages (from pytest->pyLDAvis) (7.2.0)\n",
      "Requirement already satisfied: atomicwrites>=1.0 in /opt/anaconda3/lib/python3.7/site-packages (from pytest->pyLDAvis) (1.3.0)\n",
      "Requirement already satisfied: pluggy<1.0,>=0.12 in /opt/anaconda3/lib/python3.7/site-packages (from pytest->pyLDAvis) (0.13.0)\n",
      "Requirement already satisfied: wcwidth in /opt/anaconda3/lib/python3.7/site-packages (from pytest->pyLDAvis) (0.1.7)\n",
      "Requirement already satisfied: importlib-metadata>=0.12 in /opt/anaconda3/lib/python3.7/site-packages (from pytest->pyLDAvis) (0.23)\n",
      "Requirement already satisfied: MarkupSafe>=0.23 in /opt/anaconda3/lib/python3.7/site-packages (from jinja2>=2.7.2->pyLDAvis) (1.1.1)\n",
      "Requirement already satisfied: python-dateutil>=2.6.1 in /opt/anaconda3/lib/python3.7/site-packages (from pandas>=0.17.0->pyLDAvis) (2.8.0)\n",
      "Requirement already satisfied: pytz>=2017.2 in /opt/anaconda3/lib/python3.7/site-packages (from pandas>=0.17.0->pyLDAvis) (2019.3)\n",
      "Requirement already satisfied: pyparsing>=2.0.2 in /opt/anaconda3/lib/python3.7/site-packages (from packaging->pytest->pyLDAvis) (2.4.2)\n",
      "Requirement already satisfied: six in /opt/anaconda3/lib/python3.7/site-packages (from packaging->pytest->pyLDAvis) (1.12.0)\n",
      "Requirement already satisfied: zipp>=0.5 in /opt/anaconda3/lib/python3.7/site-packages (from importlib-metadata>=0.12->pytest->pyLDAvis) (0.6.0)\n"
     ]
    },
    {
     "name": "stderr",
     "output_type": "stream",
     "text": [
      "/opt/anaconda3/lib/python3.7/site-packages/past/builtins/misc.py:4: DeprecationWarning: Using or importing the ABCs from 'collections' instead of from 'collections.abc' is deprecated, and in 3.8 it will stop working\n",
      "  from collections import Mapping\n"
     ]
    },
    {
     "name": "stdout",
     "output_type": "stream",
     "text": [
      "Collecting html.parser\n",
      "Requirement already satisfied: ply in /opt/anaconda3/lib/python3.7/site-packages (from html.parser) (3.11)\n",
      "Installing collected packages: html.parser\n",
      "Successfully installed html.parser\n",
      "Requirement already satisfied: pattern3 in /opt/anaconda3/lib/python3.7/site-packages (3.0.0)\n",
      "Requirement already satisfied: pdfminer3k in /opt/anaconda3/lib/python3.7/site-packages (from pattern3) (1.3.1)\n",
      "Requirement already satisfied: simplejson in /opt/anaconda3/lib/python3.7/site-packages (from pattern3) (3.17.0)\n",
      "Requirement already satisfied: pdfminer.six in /opt/anaconda3/lib/python3.7/site-packages (from pattern3) (20200124)\n",
      "Requirement already satisfied: cherrypy in /opt/anaconda3/lib/python3.7/site-packages (from pattern3) (18.5.0)\n",
      "Requirement already satisfied: beautifulsoup4 in /opt/anaconda3/lib/python3.7/site-packages (from pattern3) (4.8.0)\n",
      "Requirement already satisfied: feedparser in /opt/anaconda3/lib/python3.7/site-packages (from pattern3) (5.2.1)\n",
      "Requirement already satisfied: docx in /opt/anaconda3/lib/python3.7/site-packages (from pattern3) (0.2.4)\n",
      "Requirement already satisfied: ply>=3.4 in /opt/anaconda3/lib/python3.7/site-packages (from pdfminer3k->pattern3) (3.11)\n",
      "Requirement already satisfied: pytest>=2.0 in /opt/anaconda3/lib/python3.7/site-packages (from pdfminer3k->pattern3) (5.2.1)\n",
      "Requirement already satisfied: chardet; python_version > \"3.0\" in /opt/anaconda3/lib/python3.7/site-packages (from pdfminer.six->pattern3) (3.0.4)\n",
      "Requirement already satisfied: pycryptodome in /opt/anaconda3/lib/python3.7/site-packages (from pdfminer.six->pattern3) (3.9.7)\n",
      "Requirement already satisfied: sortedcontainers in /opt/anaconda3/lib/python3.7/site-packages (from pdfminer.six->pattern3) (2.1.0)\n",
      "Requirement already satisfied: jaraco.collections in /opt/anaconda3/lib/python3.7/site-packages (from cherrypy->pattern3) (3.0.0)\n",
      "Requirement already satisfied: cheroot>=8.2.1 in /opt/anaconda3/lib/python3.7/site-packages (from cherrypy->pattern3) (8.3.0)\n",
      "Requirement already satisfied: more-itertools in /opt/anaconda3/lib/python3.7/site-packages (from cherrypy->pattern3) (7.2.0)\n",
      "Requirement already satisfied: zc.lockfile in /opt/anaconda3/lib/python3.7/site-packages (from cherrypy->pattern3) (2.0)\n",
      "Requirement already satisfied: portend>=2.1.1 in /opt/anaconda3/lib/python3.7/site-packages (from cherrypy->pattern3) (2.6)\n",
      "Requirement already satisfied: soupsieve>=1.2 in /opt/anaconda3/lib/python3.7/site-packages (from beautifulsoup4->pattern3) (1.9.3)\n",
      "Requirement already satisfied: Pillow>=2.0 in /opt/anaconda3/lib/python3.7/site-packages (from docx->pattern3) (6.2.0)\n",
      "Requirement already satisfied: lxml in /opt/anaconda3/lib/python3.7/site-packages (from docx->pattern3) (4.4.1)\n",
      "Requirement already satisfied: py>=1.5.0 in /opt/anaconda3/lib/python3.7/site-packages (from pytest>=2.0->pdfminer3k->pattern3) (1.8.0)\n",
      "Requirement already satisfied: packaging in /opt/anaconda3/lib/python3.7/site-packages (from pytest>=2.0->pdfminer3k->pattern3) (19.2)\n",
      "Requirement already satisfied: attrs>=17.4.0 in /opt/anaconda3/lib/python3.7/site-packages (from pytest>=2.0->pdfminer3k->pattern3) (19.2.0)\n",
      "Requirement already satisfied: atomicwrites>=1.0 in /opt/anaconda3/lib/python3.7/site-packages (from pytest>=2.0->pdfminer3k->pattern3) (1.3.0)\n",
      "Requirement already satisfied: pluggy<1.0,>=0.12 in /opt/anaconda3/lib/python3.7/site-packages (from pytest>=2.0->pdfminer3k->pattern3) (0.13.0)\n",
      "Requirement already satisfied: wcwidth in /opt/anaconda3/lib/python3.7/site-packages (from pytest>=2.0->pdfminer3k->pattern3) (0.1.7)\n",
      "Requirement already satisfied: importlib-metadata>=0.12 in /opt/anaconda3/lib/python3.7/site-packages (from pytest>=2.0->pdfminer3k->pattern3) (0.23)\n",
      "Requirement already satisfied: six>=1.7.0 in /opt/anaconda3/lib/python3.7/site-packages (from jaraco.collections->cherrypy->pattern3) (1.12.0)\n",
      "Requirement already satisfied: jaraco.classes in /opt/anaconda3/lib/python3.7/site-packages (from jaraco.collections->cherrypy->pattern3) (3.1.0)\n",
      "Requirement already satisfied: jaraco.text in /opt/anaconda3/lib/python3.7/site-packages (from jaraco.collections->cherrypy->pattern3) (3.2.0)\n",
      "Requirement already satisfied: jaraco.functools in /opt/anaconda3/lib/python3.7/site-packages (from cheroot>=8.2.1->cherrypy->pattern3) (3.0.0)\n",
      "Requirement already satisfied: setuptools in /opt/anaconda3/lib/python3.7/site-packages (from zc.lockfile->cherrypy->pattern3) (41.4.0)\n",
      "Requirement already satisfied: tempora>=1.8 in /opt/anaconda3/lib/python3.7/site-packages (from portend>=2.1.1->cherrypy->pattern3) (3.0.0)\n",
      "Requirement already satisfied: pyparsing>=2.0.2 in /opt/anaconda3/lib/python3.7/site-packages (from packaging->pytest>=2.0->pdfminer3k->pattern3) (2.4.2)\n",
      "Requirement already satisfied: zipp>=0.5 in /opt/anaconda3/lib/python3.7/site-packages (from importlib-metadata>=0.12->pytest>=2.0->pdfminer3k->pattern3) (0.6.0)\n",
      "Requirement already satisfied: pytz in /opt/anaconda3/lib/python3.7/site-packages (from tempora>=1.8->portend>=2.1.1->cherrypy->pattern3) (2019.3)\n",
      "Requirement already satisfied: pyLDAvis in /opt/anaconda3/lib/python3.7/site-packages (2.1.2)\n",
      "Requirement already satisfied: funcy in /opt/anaconda3/lib/python3.7/site-packages (from pyLDAvis) (1.14)\n",
      "Requirement already satisfied: scipy>=0.18.0 in /opt/anaconda3/lib/python3.7/site-packages (from pyLDAvis) (1.3.1)\n",
      "Requirement already satisfied: pandas>=0.17.0 in /opt/anaconda3/lib/python3.7/site-packages (from pyLDAvis) (0.25.1)\n",
      "Requirement already satisfied: numpy>=1.9.2 in /opt/anaconda3/lib/python3.7/site-packages (from pyLDAvis) (1.17.2)\n",
      "Requirement already satisfied: joblib>=0.8.4 in /opt/anaconda3/lib/python3.7/site-packages (from pyLDAvis) (0.13.2)\n",
      "Requirement already satisfied: numexpr in /opt/anaconda3/lib/python3.7/site-packages (from pyLDAvis) (2.7.0)\n",
      "Requirement already satisfied: jinja2>=2.7.2 in /opt/anaconda3/lib/python3.7/site-packages (from pyLDAvis) (2.10.3)\n",
      "Requirement already satisfied: future in /opt/anaconda3/lib/python3.7/site-packages (from pyLDAvis) (0.17.1)\n",
      "Requirement already satisfied: wheel>=0.23.0 in /opt/anaconda3/lib/python3.7/site-packages (from pyLDAvis) (0.33.6)\n",
      "Requirement already satisfied: pytest in /opt/anaconda3/lib/python3.7/site-packages (from pyLDAvis) (5.2.1)\n",
      "Requirement already satisfied: python-dateutil>=2.6.1 in /opt/anaconda3/lib/python3.7/site-packages (from pandas>=0.17.0->pyLDAvis) (2.8.0)\n",
      "Requirement already satisfied: pytz>=2017.2 in /opt/anaconda3/lib/python3.7/site-packages (from pandas>=0.17.0->pyLDAvis) (2019.3)\n",
      "Requirement already satisfied: MarkupSafe>=0.23 in /opt/anaconda3/lib/python3.7/site-packages (from jinja2>=2.7.2->pyLDAvis) (1.1.1)\n",
      "Requirement already satisfied: py>=1.5.0 in /opt/anaconda3/lib/python3.7/site-packages (from pytest->pyLDAvis) (1.8.0)\n",
      "Requirement already satisfied: packaging in /opt/anaconda3/lib/python3.7/site-packages (from pytest->pyLDAvis) (19.2)\n",
      "Requirement already satisfied: attrs>=17.4.0 in /opt/anaconda3/lib/python3.7/site-packages (from pytest->pyLDAvis) (19.2.0)\n",
      "Requirement already satisfied: more-itertools>=4.0.0 in /opt/anaconda3/lib/python3.7/site-packages (from pytest->pyLDAvis) (7.2.0)\n",
      "Requirement already satisfied: atomicwrites>=1.0 in /opt/anaconda3/lib/python3.7/site-packages (from pytest->pyLDAvis) (1.3.0)\n",
      "Requirement already satisfied: pluggy<1.0,>=0.12 in /opt/anaconda3/lib/python3.7/site-packages (from pytest->pyLDAvis) (0.13.0)\n",
      "Requirement already satisfied: wcwidth in /opt/anaconda3/lib/python3.7/site-packages (from pytest->pyLDAvis) (0.1.7)\n",
      "Requirement already satisfied: importlib-metadata>=0.12 in /opt/anaconda3/lib/python3.7/site-packages (from pytest->pyLDAvis) (0.23)\n",
      "Requirement already satisfied: six>=1.5 in /opt/anaconda3/lib/python3.7/site-packages (from python-dateutil>=2.6.1->pandas>=0.17.0->pyLDAvis) (1.12.0)\n",
      "Requirement already satisfied: pyparsing>=2.0.2 in /opt/anaconda3/lib/python3.7/site-packages (from packaging->pytest->pyLDAvis) (2.4.2)\n",
      "Requirement already satisfied: zipp>=0.5 in /opt/anaconda3/lib/python3.7/site-packages (from importlib-metadata>=0.12->pytest->pyLDAvis) (0.6.0)\n"
     ]
    },
    {
     "name": "stderr",
     "output_type": "stream",
     "text": [
      "[nltk_data] Downloading package stopwords to\n",
      "[nltk_data]     /Users/string/nltk_data...\n",
      "[nltk_data]   Package stopwords is already up-to-date!\n",
      "[nltk_data] Downloading package punkt to /Users/string/nltk_data...\n",
      "[nltk_data]   Package punkt is already up-to-date!\n",
      "[nltk_data] Downloading package averaged_perceptron_tagger to\n",
      "[nltk_data]     /Users/string/nltk_data...\n",
      "[nltk_data]   Package averaged_perceptron_tagger is already up-to-\n",
      "[nltk_data]       date!\n",
      "[nltk_data] Downloading package wordnet to /Users/string/nltk_data...\n",
      "[nltk_data]   Package wordnet is already up-to-date!\n"
     ]
    },
    {
     "name": "stdout",
     "output_type": "stream",
     "text": [
      "Original:   <p>The circus dog in a plissé skirt jumped over Python who wasn't that large, just 3 feet long.</p>\n",
      "Processed:  ['<', 'p', '>', 'The', 'circus', 'dog', 'in', 'a', 'plissé', 'skirt', 'jumped', 'over', 'Python', 'who', 'was', \"n't\", 'that', 'large', ',', 'just', '3', 'feet', 'long.', '<', '/p', '>']\n",
      "Original:   <p>The circus dog in a plissé skirt jumped over Python who wasn't that large, just 3 feet long.</p>\n",
      "Processed:  <p>The circus dog in a plissé skirt jumped over Python who was not that large, just 3 feet long.</p>\n",
      "Original:   <p>The circus dog in a plissé skirt jumped over Python who wasn't that large, just 3 feet long.</p>\n",
      "Processed:  [('<', 'a'), ('p', 'n'), ('>', 'v'), ('the', None), ('circus', 'n'), ('dog', 'n'), ('in', None), ('a', None), ('plissé', 'n'), ('skirt', 'n'), ('jumped', 'v'), ('over', None), ('python', 'n'), ('who', None), ('was', 'v'), (\"n't\", 'r'), ('that', None), ('large', 'a'), (',', None), ('just', 'r'), ('3', None), ('feet', 'n'), ('long.', 'a'), ('<', 'n'), ('/p', 'n'), ('>', 'n')]\n",
      "Original:   <p>The circus dog in a plissé skirt jumped over Python who wasn't that large, just 3 feet long.</p>\n",
      "Processed:  < p > the circus dog in a plissé skirt jump over python who be n't that large , just 3 foot long. < /p >\n",
      "Original:   <p>The circus dog in a plissé skirt jumped over Python who wasn't that large, just 3 feet long.</p>\n",
      "Processed:    p   The circus dog in a plissé skirt jumped over Python who was n t that large   just 3 feet long     p  \n",
      "Original:   <p>The circus dog in a plissé skirt jumped over Python who wasn't that large, just 3 feet long.</p>\n",
      "Processed:  < p > The circus dog plissé skirt jumped Python n't large , 3 feet long. < /p >\n",
      "Original:   <p>The circus dog in a plissé skirt jumped over Python who wasn't that large, just 3 feet long.</p>\n",
      "Processed:  p The circus dog in a plissé skirt jumped over Python who was n't that large just feet long. /p\n",
      "Original:   <p>The circus dog in a plissé skirt jumped over Python who wasn't that large, just 3 feet long.</p>\n",
      "Processed:  The circus dog in a plissé skirt jumped over Python who wasn't that large, just 3 feet long.\n",
      "Original:   <p>The circus dog in a plissé skirt jumped over Python who wasn't that large, just 3 feet long.</p>\n",
      "Processed:  <p>The circus dog in a plisse skirt jumped over Python who wasn't that large, just 3 feet long.</p>\n"
     ]
    }
   ],
   "source": [
    "#the module 'sys' allows istalling module from inside Jupyter\n",
    "import sys\n",
    "\n",
    "!{sys.executable} -m pip install numpy\n",
    "import numpy as np\n",
    "\n",
    "!{sys.executable} -m pip install pandas\n",
    "import pandas as pd\n",
    "\n",
    "#Natrual Language ToolKit (NLTK)\n",
    "!{sys.executable} -m pip install nltk\n",
    "import nltk\n",
    "\n",
    "!{sys.executable} -m pip install sklearn\n",
    "from sklearn import metrics\n",
    "#from sklearn.model_selection import GridSearchCV\n",
    "from sklearn.feature_extraction.text import  CountVectorizer #bag-of-words vectorizer \n",
    "from sklearn.decomposition import LatentDirichletAllocation #package for LDA\n",
    "\n",
    "# Plotting tools\n",
    "\n",
    "from pprint import pprint\n",
    "!{sys.executable} -m pip install pyLDAvis #visualizing LDA\n",
    "import pyLDAvis\n",
    "import pyLDAvis.sklearn\n",
    "\n",
    "import matplotlib.pyplot as plt\n",
    "%matplotlib inline\n",
    "\n",
    "#ignore warnings about future changes in functions as they take too much space\n",
    "import warnings\n",
    "warnings.simplefilter(action='ignore', category=FutureWarning)\n",
    "\n",
    "#define text normalization function\n",
    "%run ./Text_Normalization_Function.ipynb #defining text normalization function"
   ]
  },
  {
   "cell_type": "markdown",
   "metadata": {
    "colab_type": "text",
    "id": "SmN6mXFCemBu"
   },
   "source": [
    "# Pre-process json"
   ]
  },
  {
   "cell_type": "code",
   "execution_count": null,
   "metadata": {
    "colab": {
     "base_uri": "https://localhost:8080/",
     "height": 72
    },
    "colab_type": "code",
    "id": "7igYuRaV4bF7",
    "outputId": "df1e7e1b-8317-4735-a9e7-d045f9adccc0"
   },
   "outputs": [
    {
     "name": "stdout",
     "output_type": "stream",
     "text": [
      "544442\n",
      "{'category': ['CDs & Vinyl', 'Christian'], 'title': 'Songs for the Shepherd', 'also_buy': ['B0016CP2GS', 'B0000075PB', 'B0000275QQ', 'B00000I7JO', '0001388312', 'B00P826ZRM', 'B00000I9AH', '1595551646', 'B00NYHPSZI', 'B000075A86', '0917143140', 'B0001YY7P4', 'B000BJSBR4', '5558154950', 'B00Z9HS7TU', '0736903208', 'B000008KJ3', 'B0002EZZMC', 'B00IDQ0C9C', 'B000002YVZ', '0006920055', 'B00083B7MO'], 'brand': 'Keith Green', 'rank': '123,896inCDsVinyl(', 'also_view': ['B0016CP2GS', 'B00000I7JO', 'B00000I9AH', 'B00P826ZRM', 'B0000275QQ', 'B0002EZZMC', 'B0000075PB', '0001388312', '1595551646', 'B0001YY7P4', 'B00412UE18', 'B000000V4U', 'B000GIVLLI', 'B000075A86', 'B00000053E', 'B000OJKH78', '1423442733', 'B002S1CJ2Q'], 'asin': '0001393774'}\n"
     ]
    }
   ],
   "source": [
    "data = []\n",
    "with gzip.open('meta_CDs_and_Vinyl.json.gz') as f:\n",
    "    for l in f:\n",
    "        data.append(json.loads(l.strip()))\n",
    "    \n",
    "# total length of list, this number equals total number of products\n",
    "print(len(data))\n",
    "\n",
    "# first row of the list\n",
    "print(data[0])"
   ]
  },
  {
   "cell_type": "code",
   "execution_count": null,
   "metadata": {
    "colab": {
     "base_uri": "https://localhost:8080/",
     "height": 69
    },
    "colab_type": "code",
    "id": "knpHP22w4scK",
    "outputId": "a21bedea-8802-443b-a938-6a5f36dd7446"
   },
   "outputs": [
    {
     "name": "stdout",
     "output_type": "stream",
     "text": [
      "544442\n",
      "6828\n",
      "537614\n"
     ]
    }
   ],
   "source": [
    "## convert list into pandas dataframe\n",
    "df = pd.DataFrame.from_dict(data)\n",
    "print(len(df))\n",
    "\n",
    "## remove rows with unformatted title (i.e. some 'title' may still contain html style content)\n",
    "df3 = df.fillna('')\n",
    "meta_unformatted = df3[df3.title.str.contains('getTime')] # unformatted rows\n",
    "meta_formatted = df3[~df3.title.str.contains('getTime')] # filter those unformatted rows\n",
    "print(len(meta_unformatted))\n",
    "print(len(meta_formatted))"
   ]
  },
  {
   "cell_type": "code",
   "execution_count": null,
   "metadata": {
    "colab": {
     "base_uri": "https://localhost:8080/",
     "height": 328
    },
    "colab_type": "code",
    "id": "7Vq32rQd5D9W",
    "outputId": "e229bcaf-76ae-4e91-a9e9-8928b13b1afa"
   },
   "outputs": [
    {
     "data": {
      "text/plain": [
       "category                    [CDs & Vinyl, Folk, Traditional Folk]\n",
       "title           var aPageStart = (new Date()).getTime();\\nvar ...\n",
       "also_buy                                                         \n",
       "brand                            Explorer Series: East Asia/Japan\n",
       "rank                                           665,247inCDsVinyl(\n",
       "also_view                                                        \n",
       "asin                                                   B0013F2M84\n",
       "main_cat                                                         \n",
       "description     ['Flower Dance: Japanese Folk Melodies', the l...\n",
       "price                                                            \n",
       "image                                                            \n",
       "details         \\n  <div class=\"content\">\\n\\n\\n\\n\\n\\n\\n\\n<ul>\\...\n",
       "feature                                                          \n",
       "date                                                             \n",
       "tech1                                                            \n",
       "tech2                                                            \n",
       "similar_item                                                     \n",
       "Name: 399261, dtype: object"
      ]
     },
     "execution_count": 13,
     "metadata": {
      "tags": []
     },
     "output_type": "execute_result"
    }
   ],
   "source": [
    "# how those unformatted rows look like\n",
    "meta_unformatted.iloc[0]"
   ]
  },
  {
   "cell_type": "code",
   "execution_count": null,
   "metadata": {
    "colab": {},
    "colab_type": "code",
    "id": "6LBLzsFU5LJ_"
   },
   "outputs": [],
   "source": [
    "meta_formatted\n",
    "meta_formatted.to_csv(\"meta_formatted.csv\",index=False)"
   ]
  },
  {
   "cell_type": "code",
   "execution_count": null,
   "metadata": {
    "colab": {
     "base_uri": "https://localhost:8080/",
     "height": 72
    },
    "colab_type": "code",
    "id": "WqZcdGp-5cui",
    "outputId": "a5d699e9-6fa2-4f23-9ff8-6ddd60155534"
   },
   "outputs": [
    {
     "name": "stdout",
     "output_type": "stream",
     "text": [
      "4543369\n",
      "{'reviewerID': 'A171I27YBM4FL6', 'asin': '0001393774', 'reviewerName': 'Eline Mann', 'verified': True, 'reviewText': 'I love this CD.  So inspiring!', 'overall': 5.0, 'reviewTime': '04 29, 2016', 'summary': 'Five Stars', 'unixReviewTime': 1461888000}\n"
     ]
    }
   ],
   "source": [
    "## load the review data\n",
    "data = []\n",
    "with gzip.open('CDs_and_Vinyl.json.gz') as f:\n",
    "    for l in f:\n",
    "        data.append(json.loads(l.strip()))\n",
    "    \n",
    "## total length of list, this number equals total number of products\n",
    "print(len(data))\n",
    "\n",
    "## first row of the list\n",
    "print(data[0])"
   ]
  },
  {
   "cell_type": "code",
   "execution_count": null,
   "metadata": {
    "colab": {
     "base_uri": "https://localhost:8080/",
     "height": 35
    },
    "colab_type": "code",
    "id": "gz1nqBsxq7j8",
    "outputId": "c2af6de4-8c64-41fa-d46b-ea1a5ec2a561"
   },
   "outputs": [
    {
     "name": "stdout",
     "output_type": "stream",
     "text": [
      "4543369\n"
     ]
    }
   ],
   "source": [
    "## convert list into pandas dataframe\n",
    "review = pd.DataFrame.from_dict(data)\n",
    "print(len(review))\n",
    "review.to_csv(\"review.csv\",index=False)"
   ]
  },
  {
   "cell_type": "code",
   "execution_count": null,
   "metadata": {
    "colab": {
     "base_uri": "https://localhost:8080/",
     "height": 35
    },
    "colab_type": "code",
    "id": "52aeM-HlzXgZ",
    "outputId": "14791029-4713-4043-a1df-2622ad5aa6fa"
   },
   "outputs": [
    {
     "data": {
      "text/plain": [
       "3230799"
      ]
     },
     "execution_count": 18,
     "metadata": {
      "tags": []
     },
     "output_type": "execute_result"
    }
   ],
   "source": [
    "import numpy as np\n",
    "sum(review[\"vote\"].isnull())"
   ]
  },
  {
   "cell_type": "markdown",
   "metadata": {
    "colab_type": "text",
    "id": "pZfM0TfqeEUn"
   },
   "source": [
    "## Merge the 2 pre-processed dataframes and output for next time"
   ]
  },
  {
   "cell_type": "code",
   "execution_count": null,
   "metadata": {
    "colab": {},
    "colab_type": "code",
    "id": "D8W9rgS73ShL"
   },
   "outputs": [],
   "source": [
    "merge_df=review.merge(meta_formatted, \n",
    "                      how  = \"left\", \n",
    "                      on  = \"asin\" ).loc[:,[\"asin\", \"verified\", \"reviewText\", \n",
    "                                            \"overall\", \"summary\", \"vote\",\n",
    "                                            \"category\", \"title\", \"brand\", \n",
    "                                            \"rank\", \"price\"]]\n",
    "merge_df.head(5)\n",
    "merge_df.to_csv(\"merge_meta_review.csv\",index=False)"
   ]
  },
  {
   "cell_type": "code",
   "execution_count": null,
   "metadata": {
    "colab": {
     "base_uri": "https://localhost:8080/",
     "height": 35
    },
    "colab_type": "code",
    "id": "4-fWbg2ByqoW",
    "outputId": "18d348fe-4891-42d0-c444-10f7f14d0455"
   },
   "outputs": [
    {
     "data": {
      "text/plain": [
       "1636"
      ]
     },
     "execution_count": 17,
     "metadata": {
      "tags": []
     },
     "output_type": "execute_result"
    }
   ],
   "source": [
    "# remove rows of nan\n",
    "sum(merge_df[\"reviewText\"].isnull())"
   ]
  },
  {
   "cell_type": "markdown",
   "metadata": {
    "colab_type": "text",
    "id": "LzCXsAyldy_D"
   },
   "source": [
    "# Normalized, Stopwords, Stemming"
   ]
  },
  {
   "cell_type": "markdown",
   "metadata": {
    "colab_type": "text",
    "id": "glql0TU36jNO"
   },
   "source": [
    "Converting all words to lowercase and removing punctuations and html tags if any\n",
    "\n",
    "**Stemming**- Converting the words into their base word or stem word ( Ex - tastefully, tasty,  these words are converted to stem word called 'tasti'). This reduces the vector dimension because we dont consider all similar words  \n",
    "\n",
    "**Stopwords** - Stopwords are the unnecessary words that even if they are removed the sentiment of the sentence dosent change.\n",
    "\n",
    "Ex -    This pasta is so tasty ==> pasta tasty    ( This , is, so are stopwords so they are removed)\n",
    "\n",
    "To see all the stopwords see the below code cell."
   ]
  },
  {
   "cell_type": "code",
   "execution_count": 7,
   "metadata": {
    "colab": {
     "base_uri": "https://localhost:8080/",
     "height": 1000
    },
    "colab_type": "code",
    "collapsed": true,
    "id": "4qw5GXfDMPM9",
    "jupyter": {
     "outputs_hidden": true
    },
    "outputId": "45b2d9fe-032b-4ace-d8b7-ccf5f0e9da9e"
   },
   "outputs": [
    {
     "name": "stdout",
     "output_type": "stream",
     "text": [
      "Processing /root/.cache/pip/wheels/f5/5e/9f/dbce0d6a89f44b3f30fba0a9b1b24a288882ea2e235e515d7b/html_parser-0.2-cp36-none-any.whl\n",
      "Requirement already satisfied: ply in /usr/local/lib/python3.6/dist-packages (from html.parser) (3.11)\n",
      "Installing collected packages: html.parser\n",
      "Successfully installed html.parser\n",
      "Requirement already satisfied: pattern3 in /usr/local/lib/python3.6/dist-packages (3.0.0)\n",
      "Requirement already satisfied: simplejson in /usr/local/lib/python3.6/dist-packages (from pattern3) (3.17.0)\n",
      "Requirement already satisfied: cherrypy in /usr/local/lib/python3.6/dist-packages (from pattern3) (18.6.0)\n",
      "Requirement already satisfied: beautifulsoup4 in /usr/local/lib/python3.6/dist-packages (from pattern3) (4.6.3)\n",
      "Requirement already satisfied: pdfminer.six in /usr/local/lib/python3.6/dist-packages (from pattern3) (20200402)\n",
      "Requirement already satisfied: pdfminer3k in /usr/local/lib/python3.6/dist-packages (from pattern3) (1.3.1)\n",
      "Requirement already satisfied: feedparser in /usr/local/lib/python3.6/dist-packages (from pattern3) (5.2.1)\n",
      "Requirement already satisfied: docx in /usr/local/lib/python3.6/dist-packages (from pattern3) (0.2.4)\n",
      "Requirement already satisfied: jaraco.collections in /usr/local/lib/python3.6/dist-packages (from cherrypy->pattern3) (3.0.0)\n",
      "Requirement already satisfied: portend>=2.1.1 in /usr/local/lib/python3.6/dist-packages (from cherrypy->pattern3) (2.6)\n",
      "Requirement already satisfied: more-itertools in /usr/local/lib/python3.6/dist-packages (from cherrypy->pattern3) (8.2.0)\n",
      "Requirement already satisfied: cheroot>=8.2.1 in /usr/local/lib/python3.6/dist-packages (from cherrypy->pattern3) (8.3.0)\n",
      "Requirement already satisfied: zc.lockfile in /usr/local/lib/python3.6/dist-packages (from cherrypy->pattern3) (2.0)\n",
      "Requirement already satisfied: chardet; python_version > \"3.0\" in /usr/local/lib/python3.6/dist-packages (from pdfminer.six->pattern3) (3.0.4)\n",
      "Requirement already satisfied: pycryptodome in /usr/local/lib/python3.6/dist-packages (from pdfminer.six->pattern3) (3.9.7)\n",
      "Requirement already satisfied: sortedcontainers in /usr/local/lib/python3.6/dist-packages (from pdfminer.six->pattern3) (2.1.0)\n",
      "Requirement already satisfied: pytest>=2.0 in /usr/local/lib/python3.6/dist-packages (from pdfminer3k->pattern3) (3.6.4)\n",
      "Requirement already satisfied: ply>=3.4 in /usr/local/lib/python3.6/dist-packages (from pdfminer3k->pattern3) (3.11)\n",
      "Requirement already satisfied: Pillow>=2.0 in /usr/local/lib/python3.6/dist-packages (from docx->pattern3) (7.0.0)\n",
      "Requirement already satisfied: lxml in /usr/local/lib/python3.6/dist-packages (from docx->pattern3) (4.2.6)\n",
      "Requirement already satisfied: jaraco.text in /usr/local/lib/python3.6/dist-packages (from jaraco.collections->cherrypy->pattern3) (3.2.0)\n",
      "Requirement already satisfied: six>=1.7.0 in /usr/local/lib/python3.6/dist-packages (from jaraco.collections->cherrypy->pattern3) (1.12.0)\n",
      "Requirement already satisfied: jaraco.classes in /usr/local/lib/python3.6/dist-packages (from jaraco.collections->cherrypy->pattern3) (3.1.0)\n",
      "Requirement already satisfied: tempora>=1.8 in /usr/local/lib/python3.6/dist-packages (from portend>=2.1.1->cherrypy->pattern3) (3.0.0)\n",
      "Requirement already satisfied: jaraco.functools in /usr/local/lib/python3.6/dist-packages (from cheroot>=8.2.1->cherrypy->pattern3) (3.0.1)\n",
      "Requirement already satisfied: setuptools in /usr/local/lib/python3.6/dist-packages (from zc.lockfile->cherrypy->pattern3) (46.1.3)\n",
      "Requirement already satisfied: pluggy<0.8,>=0.5 in /usr/local/lib/python3.6/dist-packages (from pytest>=2.0->pdfminer3k->pattern3) (0.7.1)\n",
      "Requirement already satisfied: py>=1.5.0 in /usr/local/lib/python3.6/dist-packages (from pytest>=2.0->pdfminer3k->pattern3) (1.8.1)\n",
      "Requirement already satisfied: atomicwrites>=1.0 in /usr/local/lib/python3.6/dist-packages (from pytest>=2.0->pdfminer3k->pattern3) (1.3.0)\n",
      "Requirement already satisfied: attrs>=17.4.0 in /usr/local/lib/python3.6/dist-packages (from pytest>=2.0->pdfminer3k->pattern3) (19.3.0)\n",
      "Requirement already satisfied: importlib-resources; python_version < \"3.7\" in /usr/local/lib/python3.6/dist-packages (from jaraco.text->jaraco.collections->cherrypy->pattern3) (1.5.0)\n",
      "Requirement already satisfied: pytz in /usr/local/lib/python3.6/dist-packages (from tempora>=1.8->portend>=2.1.1->cherrypy->pattern3) (2018.9)\n",
      "Requirement already satisfied: zipp>=0.4; python_version < \"3.8\" in /usr/local/lib/python3.6/dist-packages (from importlib-resources; python_version < \"3.7\"->jaraco.text->jaraco.collections->cherrypy->pattern3) (3.1.0)\n",
      "Requirement already satisfied: importlib-metadata; python_version < \"3.8\" in /usr/local/lib/python3.6/dist-packages (from importlib-resources; python_version < \"3.7\"->jaraco.text->jaraco.collections->cherrypy->pattern3) (1.6.0)\n",
      "Requirement already satisfied: pyLDAvis in /usr/local/lib/python3.6/dist-packages (2.1.2)\n",
      "Requirement already satisfied: numexpr in /usr/local/lib/python3.6/dist-packages (from pyLDAvis) (2.7.1)\n",
      "Requirement already satisfied: pandas>=0.17.0 in /usr/local/lib/python3.6/dist-packages (from pyLDAvis) (1.0.3)\n",
      "Requirement already satisfied: future in /usr/local/lib/python3.6/dist-packages (from pyLDAvis) (0.16.0)\n",
      "Requirement already satisfied: pytest in /usr/local/lib/python3.6/dist-packages (from pyLDAvis) (3.6.4)\n",
      "Requirement already satisfied: joblib>=0.8.4 in /usr/local/lib/python3.6/dist-packages (from pyLDAvis) (0.14.1)\n",
      "Requirement already satisfied: funcy in /usr/local/lib/python3.6/dist-packages (from pyLDAvis) (1.14)\n",
      "Requirement already satisfied: jinja2>=2.7.2 in /usr/local/lib/python3.6/dist-packages (from pyLDAvis) (2.11.2)\n",
      "Requirement already satisfied: wheel>=0.23.0 in /usr/local/lib/python3.6/dist-packages (from pyLDAvis) (0.34.2)\n",
      "Requirement already satisfied: numpy>=1.9.2 in /usr/local/lib/python3.6/dist-packages (from pyLDAvis) (1.18.3)\n",
      "Requirement already satisfied: scipy>=0.18.0 in /usr/local/lib/python3.6/dist-packages (from pyLDAvis) (1.4.1)\n",
      "Requirement already satisfied: pytz>=2017.2 in /usr/local/lib/python3.6/dist-packages (from pandas>=0.17.0->pyLDAvis) (2018.9)\n",
      "Requirement already satisfied: python-dateutil>=2.6.1 in /usr/local/lib/python3.6/dist-packages (from pandas>=0.17.0->pyLDAvis) (2.8.1)\n",
      "Requirement already satisfied: py>=1.5.0 in /usr/local/lib/python3.6/dist-packages (from pytest->pyLDAvis) (1.8.1)\n",
      "Requirement already satisfied: attrs>=17.4.0 in /usr/local/lib/python3.6/dist-packages (from pytest->pyLDAvis) (19.3.0)\n",
      "Requirement already satisfied: atomicwrites>=1.0 in /usr/local/lib/python3.6/dist-packages (from pytest->pyLDAvis) (1.3.0)\n",
      "Requirement already satisfied: pluggy<0.8,>=0.5 in /usr/local/lib/python3.6/dist-packages (from pytest->pyLDAvis) (0.7.1)\n",
      "Requirement already satisfied: more-itertools>=4.0.0 in /usr/local/lib/python3.6/dist-packages (from pytest->pyLDAvis) (8.2.0)\n",
      "Requirement already satisfied: six>=1.10.0 in /usr/local/lib/python3.6/dist-packages (from pytest->pyLDAvis) (1.12.0)\n",
      "Requirement already satisfied: setuptools in /usr/local/lib/python3.6/dist-packages (from pytest->pyLDAvis) (46.1.3)\n",
      "Requirement already satisfied: MarkupSafe>=0.23 in /usr/local/lib/python3.6/dist-packages (from jinja2>=2.7.2->pyLDAvis) (1.1.1)\n",
      "[nltk_data] Downloading package stopwords to /root/nltk_data...\n",
      "[nltk_data]   Package stopwords is already up-to-date!\n",
      "[nltk_data] Downloading package punkt to /root/nltk_data...\n",
      "[nltk_data]   Package punkt is already up-to-date!\n",
      "Original:   <p>The circus dog in a plissé skirt jumped over Python who wasn't that large, just 3 feet long.</p>\n",
      "Processed:  ['<', 'p', '>', 'The', 'circus', 'dog', 'in', 'a', 'plissé', 'skirt', 'jumped', 'over', 'Python', 'who', 'was', \"n't\", 'that', 'large', ',', 'just', '3', 'feet', 'long.', '<', '/p', '>']\n",
      "Original:   <p>The circus dog in a plissé skirt jumped over Python who wasn't that large, just 3 feet long.</p>\n",
      "Processed:  <p>The circus dog in a plissé skirt jumped over Python who was not that large, just 3 feet long.</p>\n",
      "[nltk_data] Downloading package averaged_perceptron_tagger to\n",
      "[nltk_data]     /root/nltk_data...\n",
      "[nltk_data]   Package averaged_perceptron_tagger is already up-to-\n",
      "[nltk_data]       date!\n",
      "[nltk_data] Downloading package wordnet to /root/nltk_data...\n",
      "[nltk_data]   Package wordnet is already up-to-date!\n",
      "Original:   <p>The circus dog in a plissé skirt jumped over Python who wasn't that large, just 3 feet long.</p>\n",
      "Processed:  [('<', 'a'), ('p', 'n'), ('>', 'v'), ('the', None), ('circus', 'n'), ('dog', 'n'), ('in', None), ('a', None), ('plissé', 'n'), ('skirt', 'n'), ('jumped', 'v'), ('over', None), ('python', 'n'), ('who', None), ('was', 'v'), (\"n't\", 'r'), ('that', None), ('large', 'a'), (',', None), ('just', 'r'), ('3', None), ('feet', 'n'), ('long.', 'a'), ('<', 'n'), ('/p', 'n'), ('>', 'n')]\n",
      "Original:   <p>The circus dog in a plissé skirt jumped over Python who wasn't that large, just 3 feet long.</p>\n",
      "Processed:  < p > the circus dog in a plissé skirt jump over python who be n't that large , just 3 foot long. < /p >\n",
      "Original:   <p>The circus dog in a plissé skirt jumped over Python who wasn't that large, just 3 feet long.</p>\n",
      "Processed:    p   The circus dog in a plissé skirt jumped over Python who was n t that large   just 3 feet long     p  \n",
      "Original:   <p>The circus dog in a plissé skirt jumped over Python who wasn't that large, just 3 feet long.</p>\n",
      "Processed:  < p > The circus dog plissé skirt jumped Python n't large , 3 feet long. < /p >\n",
      "Original:   <p>The circus dog in a plissé skirt jumped over Python who wasn't that large, just 3 feet long.</p>\n",
      "Processed:  p The circus dog in a plissé skirt jumped over Python who was n't that large just feet long. /p\n",
      "Original:   <p>The circus dog in a plissé skirt jumped over Python who wasn't that large, just 3 feet long.</p>\n",
      "Processed:  The circus dog in a plissé skirt jumped over Python who wasn't that large, just 3 feet long.\n",
      "Original:   <p>The circus dog in a plissé skirt jumped over Python who wasn't that large, just 3 feet long.</p>\n",
      "Processed:  <p>The circus dog in a plisse skirt jumped over Python who wasn't that large, just 3 feet long.</p>\n"
     ]
    }
   ],
   "source": [
    "#text normalization function\n",
    "%run Text_Normalization_Function.ipynb"
   ]
  },
  {
   "cell_type": "code",
   "execution_count": null,
   "metadata": {
    "colab": {},
    "colab_type": "code",
    "id": "F2VXJNKpw5A1"
   },
   "outputs": [],
   "source": [
    "merge_df=pd.read_csv(\"merged_verified_with_votes.csv\")"
   ]
  },
  {
   "cell_type": "code",
   "execution_count": null,
   "metadata": {
    "colab": {},
    "colab_type": "code",
    "id": "zFZ6McQLxbSV"
   },
   "outputs": [],
   "source": [
    "# # remove rows of nan\n",
    "merge_df=merge_df.loc[merge_df[\"reviewText\"].isnull()==False,]\n",
    "print(\"done\")\n",
    "\n",
    "normalized_cd_corpus = normalize_corpus(merge_df[\"reviewText\"]) "
   ]
  },
  {
   "cell_type": "markdown",
   "metadata": {
    "colab_type": "text",
    "id": "Oy08-F55d6Ve"
   },
   "source": [
    "### Output for next time"
   ]
  },
  {
   "cell_type": "code",
   "execution_count": 13,
   "metadata": {
    "colab": {
     "base_uri": "https://localhost:8080/",
     "height": 52
    },
    "colab_type": "code",
    "id": "Zvl9LSYG7Cby",
    "outputId": "55c248ee-45bc-478a-f97d-9081cfa9fdba"
   },
   "outputs": [
    {
     "name": "stdout",
     "output_type": "stream",
     "text": [
      "done\n",
      "done\n"
     ]
    }
   ],
   "source": [
    "merge_df.drop(columns=\"reviewText\").to_csv(\"merge_df_other_info.csv\",index=False)\n",
    "print(\"done\")\n",
    "pd.DataFrame(normalized_cd_corpus).to_csv(\"normalized_cd_corpus.csv\",index=False)\n",
    "print(\"done\")\n",
    "pd.DataFrame({\"asin\":merge_df[\"asin\"],\"normalized_cd_corpus\":normalized_cd_corpus}).to_csv(\"normalized_asin_corpus.csv\",index=False) ## two columns \n",
    "print(\"done\")"
   ]
  },
  {
   "cell_type": "markdown",
   "metadata": {},
   "source": [
    "# Topic Modeling"
   ]
  },
  {
   "cell_type": "code",
   "execution_count": 2,
   "metadata": {},
   "outputs": [],
   "source": [
    "def display_topics(model, feature_names, no_top_words):\n",
    "    for topic_idx, topic in enumerate(model.components_):\n",
    "        print(\"Topic %d:\" % (topic_idx))\n",
    "        print(\" \".join([feature_names[i]\n",
    "                        for i in topic.argsort()[:-no_top_words - 1:-1]]))\n",
    "        \n",
    "def get_topic_words(vectorizer, lda_model, n_words):\n",
    "    keywords = np.array(vectorizer.get_feature_names())\n",
    "    topic_words = []\n",
    "    for topic_weights in lda_model.components_:\n",
    "        top_word_locs = (-topic_weights).argsort()[:n_words]\n",
    "        topic_words.append(keywords.take(top_word_locs).tolist())\n",
    "    return topic_words"
   ]
  },
  {
   "cell_type": "code",
   "execution_count": 3,
   "metadata": {},
   "outputs": [],
   "source": [
    "#normalize data\n",
    "normalized_cd_corpus = pd.read_csv(\"normalized_cd_corpus.csv\")"
   ]
  },
  {
   "cell_type": "markdown",
   "metadata": {},
   "source": [
    "## Randomly sample 100,000 reviews from normalized_cd_corpus"
   ]
  },
  {
   "cell_type": "code",
   "execution_count": 4,
   "metadata": {},
   "outputs": [],
   "source": [
    "#normalize data\n",
    "normalized_cd_corpus = pd.read_csv(\"normalized_cd_corpus.csv\")\n",
    "\n",
    "import random\n",
    "sampling = random.choices(normalized_cd_corpus['0'], k=100000)\n",
    "pd.DataFrame(sampling).to_csv('sampling.csv',index=False)\n",
    "sampling = pd.read_csv('sampling.csv')"
   ]
  },
  {
   "cell_type": "markdown",
   "metadata": {},
   "source": [
    "## Latent Dirichlet Allocation function for 3, 5, 7 Topics successively."
   ]
  },
  {
   "cell_type": "code",
   "execution_count": 7,
   "metadata": {},
   "outputs": [],
   "source": [
    "normalized_cd_corpus=pd.read_csv(\"sampling.csv\",dtype={\"0\":str})[\"0\"].apply(lambda x: np.str_(x))\n",
    "count_vect = CountVectorizer(max_features=1000)  \n",
    "bow_data = count_vect.fit_transform(normalized_cd_corpus)"
   ]
  },
  {
   "cell_type": "markdown",
   "metadata": {},
   "source": [
    "### 3 Topics Model (via Latent Dirichlet Allocation) "
   ]
  },
  {
   "cell_type": "code",
   "execution_count": null,
   "metadata": {},
   "outputs": [],
   "source": [
    "lda_corpus_3 = LatentDirichletAllocation(n_components=3, max_iter=100,\n",
    "                                           doc_topic_prior = 0.9,\n",
    "                                           topic_word_prior = 0.3).fit(bow_data)"
   ]
  },
  {
   "cell_type": "markdown",
   "metadata": {},
   "source": [
    "### 5 Topics Model (via Latent Dirichlet Allocation) "
   ]
  },
  {
   "cell_type": "code",
   "execution_count": 20,
   "metadata": {},
   "outputs": [],
   "source": [
    "lda_corpus_5 = LatentDirichletAllocation(n_components=5, max_iter=100,\n",
    "                                           doc_topic_prior = 0.9,\n",
    "                                           topic_word_prior = 0.3).fit(bow_data)"
   ]
  },
  {
   "cell_type": "code",
   "execution_count": 21,
   "metadata": {
    "scrolled": true
   },
   "outputs": [
    {
     "name": "stdout",
     "output_type": "stream",
     "text": [
      "Topic 0:\n",
      "band rock great guitar record best vocal live blue hit jazz time tune classic year\n",
      "Topic 1:\n",
      "album song like good really sound think track first much even time lyric well way\n",
      "Topic 2:\n",
      "music cd love song great hear voice buy time sing enjoy year favorite beautiful every\n",
      "Topic 3:\n",
      "music recording work performance piece sound play well piano musical hear first orchestra symphony record\n",
      "Topic 4:\n",
      "cd version sound good set original disc track release quality dvd record collection great buy\n"
     ]
    }
   ],
   "source": [
    "no_top_words = 15\n",
    "display_topics(lda_corpus_5, count_vect.get_feature_names(), no_top_words)"
   ]
  },
  {
   "cell_type": "code",
   "execution_count": 22,
   "metadata": {
    "scrolled": true
   },
   "outputs": [
    {
     "data": {
      "text/html": [
       "<div>\n",
       "<style scoped>\n",
       "    .dataframe tbody tr th:only-of-type {\n",
       "        vertical-align: middle;\n",
       "    }\n",
       "\n",
       "    .dataframe tbody tr th {\n",
       "        vertical-align: top;\n",
       "    }\n",
       "\n",
       "    .dataframe thead th {\n",
       "        text-align: right;\n",
       "    }\n",
       "</style>\n",
       "<table border=\"1\" class=\"dataframe\">\n",
       "  <thead>\n",
       "    <tr style=\"text-align: right;\">\n",
       "      <th></th>\n",
       "      <th>2nd</th>\n",
       "      <th>60s</th>\n",
       "      <th>70s</th>\n",
       "      <th>80s</th>\n",
       "      <th>90s</th>\n",
       "      <th>ability</th>\n",
       "      <th>able</th>\n",
       "      <th>absolute</th>\n",
       "      <th>absolutely</th>\n",
       "      <th>accompany</th>\n",
       "      <th>...</th>\n",
       "      <th>worthy</th>\n",
       "      <th>wow</th>\n",
       "      <th>write</th>\n",
       "      <th>writing</th>\n",
       "      <th>wrong</th>\n",
       "      <th>year</th>\n",
       "      <th>yes</th>\n",
       "      <th>yet</th>\n",
       "      <th>york</th>\n",
       "      <th>young</th>\n",
       "    </tr>\n",
       "  </thead>\n",
       "  <tbody>\n",
       "    <tr>\n",
       "      <td>0</td>\n",
       "      <td>4.313179e-07</td>\n",
       "      <td>2.040457e-03</td>\n",
       "      <td>3.284910e-03</td>\n",
       "      <td>2.904046e-03</td>\n",
       "      <td>9.899547e-04</td>\n",
       "      <td>7.523064e-04</td>\n",
       "      <td>4.372509e-07</td>\n",
       "      <td>0.000388</td>\n",
       "      <td>4.296754e-07</td>\n",
       "      <td>1.815070e-04</td>\n",
       "      <td>...</td>\n",
       "      <td>3.221384e-04</td>\n",
       "      <td>4.091250e-05</td>\n",
       "      <td>1.808959e-03</td>\n",
       "      <td>2.137527e-04</td>\n",
       "      <td>7.343069e-07</td>\n",
       "      <td>0.010065</td>\n",
       "      <td>1.067014e-03</td>\n",
       "      <td>0.000917</td>\n",
       "      <td>7.948109e-04</td>\n",
       "      <td>2.254746e-03</td>\n",
       "    </tr>\n",
       "    <tr>\n",
       "      <td>1</td>\n",
       "      <td>2.078069e-04</td>\n",
       "      <td>3.013655e-07</td>\n",
       "      <td>3.053287e-07</td>\n",
       "      <td>5.968364e-04</td>\n",
       "      <td>3.749238e-04</td>\n",
       "      <td>1.499823e-04</td>\n",
       "      <td>4.425795e-04</td>\n",
       "      <td>0.000101</td>\n",
       "      <td>3.406243e-04</td>\n",
       "      <td>3.084031e-07</td>\n",
       "      <td>...</td>\n",
       "      <td>3.897481e-04</td>\n",
       "      <td>1.585270e-04</td>\n",
       "      <td>2.695080e-03</td>\n",
       "      <td>4.932702e-04</td>\n",
       "      <td>1.747322e-03</td>\n",
       "      <td>0.000322</td>\n",
       "      <td>2.329539e-03</td>\n",
       "      <td>0.002768</td>\n",
       "      <td>3.002913e-07</td>\n",
       "      <td>3.100684e-07</td>\n",
       "    </tr>\n",
       "    <tr>\n",
       "      <td>2</td>\n",
       "      <td>4.333787e-07</td>\n",
       "      <td>4.418299e-07</td>\n",
       "      <td>4.269999e-07</td>\n",
       "      <td>4.322001e-07</td>\n",
       "      <td>4.273973e-07</td>\n",
       "      <td>1.786154e-04</td>\n",
       "      <td>1.608491e-03</td>\n",
       "      <td>0.000435</td>\n",
       "      <td>3.250529e-03</td>\n",
       "      <td>4.335853e-07</td>\n",
       "      <td>...</td>\n",
       "      <td>4.320566e-07</td>\n",
       "      <td>1.870951e-03</td>\n",
       "      <td>1.340603e-03</td>\n",
       "      <td>4.402503e-07</td>\n",
       "      <td>2.994322e-04</td>\n",
       "      <td>0.013513</td>\n",
       "      <td>4.419055e-07</td>\n",
       "      <td>0.000327</td>\n",
       "      <td>4.390169e-07</td>\n",
       "      <td>3.021845e-03</td>\n",
       "    </tr>\n",
       "    <tr>\n",
       "      <td>3</td>\n",
       "      <td>7.395462e-04</td>\n",
       "      <td>3.851729e-07</td>\n",
       "      <td>3.766475e-07</td>\n",
       "      <td>3.679337e-07</td>\n",
       "      <td>3.834659e-07</td>\n",
       "      <td>8.462668e-04</td>\n",
       "      <td>8.494538e-04</td>\n",
       "      <td>0.000260</td>\n",
       "      <td>5.780630e-04</td>\n",
       "      <td>1.217630e-03</td>\n",
       "      <td>...</td>\n",
       "      <td>4.484232e-04</td>\n",
       "      <td>3.905853e-07</td>\n",
       "      <td>4.456517e-03</td>\n",
       "      <td>5.811627e-04</td>\n",
       "      <td>6.101324e-05</td>\n",
       "      <td>0.002011</td>\n",
       "      <td>3.481519e-04</td>\n",
       "      <td>0.003106</td>\n",
       "      <td>5.702535e-04</td>\n",
       "      <td>1.083536e-03</td>\n",
       "    </tr>\n",
       "    <tr>\n",
       "      <td>4</td>\n",
       "      <td>4.152649e-04</td>\n",
       "      <td>2.641387e-04</td>\n",
       "      <td>4.942750e-07</td>\n",
       "      <td>4.286015e-05</td>\n",
       "      <td>4.743346e-05</td>\n",
       "      <td>4.596437e-07</td>\n",
       "      <td>6.537524e-04</td>\n",
       "      <td>0.000124</td>\n",
       "      <td>5.606845e-04</td>\n",
       "      <td>4.930248e-07</td>\n",
       "      <td>...</td>\n",
       "      <td>1.044610e-04</td>\n",
       "      <td>1.225714e-05</td>\n",
       "      <td>4.801816e-07</td>\n",
       "      <td>4.642970e-07</td>\n",
       "      <td>1.296141e-03</td>\n",
       "      <td>0.003129</td>\n",
       "      <td>9.409910e-04</td>\n",
       "      <td>0.000022</td>\n",
       "      <td>4.835767e-07</td>\n",
       "      <td>4.722329e-07</td>\n",
       "    </tr>\n",
       "  </tbody>\n",
       "</table>\n",
       "<p>5 rows × 1000 columns</p>\n",
       "</div>"
      ],
      "text/plain": [
       "            2nd           60s           70s           80s           90s  \\\n",
       "0  4.313179e-07  2.040457e-03  3.284910e-03  2.904046e-03  9.899547e-04   \n",
       "1  2.078069e-04  3.013655e-07  3.053287e-07  5.968364e-04  3.749238e-04   \n",
       "2  4.333787e-07  4.418299e-07  4.269999e-07  4.322001e-07  4.273973e-07   \n",
       "3  7.395462e-04  3.851729e-07  3.766475e-07  3.679337e-07  3.834659e-07   \n",
       "4  4.152649e-04  2.641387e-04  4.942750e-07  4.286015e-05  4.743346e-05   \n",
       "\n",
       "        ability          able  absolute    absolutely     accompany  ...  \\\n",
       "0  7.523064e-04  4.372509e-07  0.000388  4.296754e-07  1.815070e-04  ...   \n",
       "1  1.499823e-04  4.425795e-04  0.000101  3.406243e-04  3.084031e-07  ...   \n",
       "2  1.786154e-04  1.608491e-03  0.000435  3.250529e-03  4.335853e-07  ...   \n",
       "3  8.462668e-04  8.494538e-04  0.000260  5.780630e-04  1.217630e-03  ...   \n",
       "4  4.596437e-07  6.537524e-04  0.000124  5.606845e-04  4.930248e-07  ...   \n",
       "\n",
       "         worthy           wow         write       writing         wrong  \\\n",
       "0  3.221384e-04  4.091250e-05  1.808959e-03  2.137527e-04  7.343069e-07   \n",
       "1  3.897481e-04  1.585270e-04  2.695080e-03  4.932702e-04  1.747322e-03   \n",
       "2  4.320566e-07  1.870951e-03  1.340603e-03  4.402503e-07  2.994322e-04   \n",
       "3  4.484232e-04  3.905853e-07  4.456517e-03  5.811627e-04  6.101324e-05   \n",
       "4  1.044610e-04  1.225714e-05  4.801816e-07  4.642970e-07  1.296141e-03   \n",
       "\n",
       "       year           yes       yet          york         young  \n",
       "0  0.010065  1.067014e-03  0.000917  7.948109e-04  2.254746e-03  \n",
       "1  0.000322  2.329539e-03  0.002768  3.002913e-07  3.100684e-07  \n",
       "2  0.013513  4.419055e-07  0.000327  4.390169e-07  3.021845e-03  \n",
       "3  0.002011  3.481519e-04  0.003106  5.702535e-04  1.083536e-03  \n",
       "4  0.003129  9.409910e-04  0.000022  4.835767e-07  4.722329e-07  \n",
       "\n",
       "[5 rows x 1000 columns]"
      ]
     },
     "execution_count": 22,
     "metadata": {},
     "output_type": "execute_result"
    }
   ],
   "source": [
    "word_weights = lda_corpus_5.components_ / lda_corpus_5.components_.sum(axis=1)[:, np.newaxis]\n",
    "pd.DataFrame(word_weights.T, index = count_vect.get_feature_names()).T"
   ]
  },
  {
   "cell_type": "markdown",
   "metadata": {},
   "source": [
    "### 7 Topics Model (via Latent Dirichlet Allocation) "
   ]
  },
  {
   "cell_type": "code",
   "execution_count": null,
   "metadata": {},
   "outputs": [],
   "source": [
    "lda_corpus_7 = LatentDirichletAllocation(n_components=7, max_iter=100,\n",
    "                                           doc_topic_prior = 0.9,\n",
    "                                           topic_word_prior = 0.3).fit(bow_data)"
   ]
  },
  {
   "cell_type": "markdown",
   "metadata": {},
   "source": [
    "## How To Find Dominant Topic in a Document"
   ]
  },
  {
   "cell_type": "markdown",
   "metadata": {},
   "source": [
    "### Dominant Topic in 3 Topics"
   ]
  },
  {
   "cell_type": "code",
   "execution_count": null,
   "metadata": {},
   "outputs": [],
   "source": [
    "lda_news_topic_weights = lda_corpus_3.transform(bow_data)\n",
    "#array of document \"names\" and topic \"names\" (\"names\" are just indecies)\n",
    "doc_names = [\"Doc_\" + str(i) for i in range(len(normalized_cd_corpus))]\n",
    "topic_names = [\"Topic_\" + str(i) for i in range(3)]\n",
    "\n",
    "#convert to dataframe\n",
    "df_document_topic = pd.DataFrame(np.round(lda_news_topic_weights, 2), columns=topic_names, index=doc_names)\n",
    "\n",
    "#vector of indecies for columns with the highest value by each row in df_document_topic\n",
    "dominant_topic = np.argmax(df_document_topic.values, axis=1)\n",
    "\n",
    "#add dominant_topic as a column to df_document_topic\n",
    "df_document_topic['dominant_topic'] = dominant_topic\n",
    "df_document_topic"
   ]
  },
  {
   "cell_type": "markdown",
   "metadata": {},
   "source": [
    "### Dominant Topic in 5 Topics"
   ]
  },
  {
   "cell_type": "code",
   "execution_count": 24,
   "metadata": {},
   "outputs": [
    {
     "data": {
      "text/html": [
       "<div>\n",
       "<style scoped>\n",
       "    .dataframe tbody tr th:only-of-type {\n",
       "        vertical-align: middle;\n",
       "    }\n",
       "\n",
       "    .dataframe tbody tr th {\n",
       "        vertical-align: top;\n",
       "    }\n",
       "\n",
       "    .dataframe thead th {\n",
       "        text-align: right;\n",
       "    }\n",
       "</style>\n",
       "<table border=\"1\" class=\"dataframe\">\n",
       "  <thead>\n",
       "    <tr style=\"text-align: right;\">\n",
       "      <th></th>\n",
       "      <th>Topic_0</th>\n",
       "      <th>Topic_1</th>\n",
       "      <th>Topic_2</th>\n",
       "      <th>Topic_3</th>\n",
       "      <th>Topic_4</th>\n",
       "      <th>dominant_topic</th>\n",
       "    </tr>\n",
       "  </thead>\n",
       "  <tbody>\n",
       "    <tr>\n",
       "      <td>Doc_0</td>\n",
       "      <td>0.25</td>\n",
       "      <td>0.13</td>\n",
       "      <td>0.32</td>\n",
       "      <td>0.07</td>\n",
       "      <td>0.23</td>\n",
       "      <td>2</td>\n",
       "    </tr>\n",
       "    <tr>\n",
       "      <td>Doc_1</td>\n",
       "      <td>0.05</td>\n",
       "      <td>0.05</td>\n",
       "      <td>0.81</td>\n",
       "      <td>0.04</td>\n",
       "      <td>0.05</td>\n",
       "      <td>2</td>\n",
       "    </tr>\n",
       "    <tr>\n",
       "      <td>Doc_2</td>\n",
       "      <td>0.02</td>\n",
       "      <td>0.13</td>\n",
       "      <td>0.36</td>\n",
       "      <td>0.17</td>\n",
       "      <td>0.32</td>\n",
       "      <td>2</td>\n",
       "    </tr>\n",
       "    <tr>\n",
       "      <td>Doc_3</td>\n",
       "      <td>0.04</td>\n",
       "      <td>0.06</td>\n",
       "      <td>0.30</td>\n",
       "      <td>0.30</td>\n",
       "      <td>0.31</td>\n",
       "      <td>4</td>\n",
       "    </tr>\n",
       "    <tr>\n",
       "      <td>Doc_4</td>\n",
       "      <td>0.09</td>\n",
       "      <td>0.39</td>\n",
       "      <td>0.25</td>\n",
       "      <td>0.17</td>\n",
       "      <td>0.10</td>\n",
       "      <td>1</td>\n",
       "    </tr>\n",
       "    <tr>\n",
       "      <td>...</td>\n",
       "      <td>...</td>\n",
       "      <td>...</td>\n",
       "      <td>...</td>\n",
       "      <td>...</td>\n",
       "      <td>...</td>\n",
       "      <td>...</td>\n",
       "    </tr>\n",
       "    <tr>\n",
       "      <td>Doc_99995</td>\n",
       "      <td>0.59</td>\n",
       "      <td>0.09</td>\n",
       "      <td>0.04</td>\n",
       "      <td>0.19</td>\n",
       "      <td>0.08</td>\n",
       "      <td>0</td>\n",
       "    </tr>\n",
       "    <tr>\n",
       "      <td>Doc_99996</td>\n",
       "      <td>0.16</td>\n",
       "      <td>0.37</td>\n",
       "      <td>0.29</td>\n",
       "      <td>0.08</td>\n",
       "      <td>0.10</td>\n",
       "      <td>1</td>\n",
       "    </tr>\n",
       "    <tr>\n",
       "      <td>Doc_99997</td>\n",
       "      <td>0.34</td>\n",
       "      <td>0.47</td>\n",
       "      <td>0.06</td>\n",
       "      <td>0.03</td>\n",
       "      <td>0.10</td>\n",
       "      <td>1</td>\n",
       "    </tr>\n",
       "    <tr>\n",
       "      <td>Doc_99998</td>\n",
       "      <td>0.15</td>\n",
       "      <td>0.14</td>\n",
       "      <td>0.28</td>\n",
       "      <td>0.09</td>\n",
       "      <td>0.35</td>\n",
       "      <td>4</td>\n",
       "    </tr>\n",
       "    <tr>\n",
       "      <td>Doc_99999</td>\n",
       "      <td>0.44</td>\n",
       "      <td>0.03</td>\n",
       "      <td>0.25</td>\n",
       "      <td>0.08</td>\n",
       "      <td>0.20</td>\n",
       "      <td>0</td>\n",
       "    </tr>\n",
       "  </tbody>\n",
       "</table>\n",
       "<p>100000 rows × 6 columns</p>\n",
       "</div>"
      ],
      "text/plain": [
       "           Topic_0  Topic_1  Topic_2  Topic_3  Topic_4  dominant_topic\n",
       "Doc_0         0.25     0.13     0.32     0.07     0.23               2\n",
       "Doc_1         0.05     0.05     0.81     0.04     0.05               2\n",
       "Doc_2         0.02     0.13     0.36     0.17     0.32               2\n",
       "Doc_3         0.04     0.06     0.30     0.30     0.31               4\n",
       "Doc_4         0.09     0.39     0.25     0.17     0.10               1\n",
       "...            ...      ...      ...      ...      ...             ...\n",
       "Doc_99995     0.59     0.09     0.04     0.19     0.08               0\n",
       "Doc_99996     0.16     0.37     0.29     0.08     0.10               1\n",
       "Doc_99997     0.34     0.47     0.06     0.03     0.10               1\n",
       "Doc_99998     0.15     0.14     0.28     0.09     0.35               4\n",
       "Doc_99999     0.44     0.03     0.25     0.08     0.20               0\n",
       "\n",
       "[100000 rows x 6 columns]"
      ]
     },
     "execution_count": 24,
     "metadata": {},
     "output_type": "execute_result"
    }
   ],
   "source": [
    "lda_news_topic_weights = lda_corpus_5.transform(bow_data)\n",
    "#array of document \"names\" and topic \"names\" (\"names\" are just indecies)\n",
    "doc_names = [\"Doc_\" + str(i) for i in range(len(normalized_cd_corpus))]\n",
    "topic_names = [\"Topic_\" + str(i) for i in range(5)]\n",
    "\n",
    "#convert to dataframe\n",
    "df_document_topic = pd.DataFrame(np.round(lda_news_topic_weights, 2), columns=topic_names, index=doc_names)\n",
    "\n",
    "#vector of indecies for columns with the highest value by each row in df_document_topic\n",
    "dominant_topic = np.argmax(df_document_topic.values, axis=1)\n",
    "\n",
    "#add dominant_topic as a column to df_document_topic\n",
    "df_document_topic['dominant_topic'] = dominant_topic\n",
    "df_document_topic"
   ]
  },
  {
   "cell_type": "markdown",
   "metadata": {},
   "source": [
    "### Dominant Topic in 7 Topics"
   ]
  },
  {
   "cell_type": "code",
   "execution_count": null,
   "metadata": {},
   "outputs": [],
   "source": [
    "lda_news_topic_weights = lda_corpus_7.transform(bow_data)\n",
    "#array of document \"names\" and topic \"names\" (\"names\" are just indecies)\n",
    "doc_names = [\"Doc_\" + str(i) for i in range(len(normalized_cd_corpus))]\n",
    "topic_names = [\"Topic_\" + str(i) for i in range(7)]\n",
    "\n",
    "#convert to dataframe\n",
    "df_document_topic = pd.DataFrame(np.round(lda_news_topic_weights, 2), columns=topic_names, index=doc_names)\n",
    "\n",
    "#vector of indecies for columns with the highest value by each row in df_document_topic\n",
    "dominant_topic = np.argmax(df_document_topic.values, axis=1)\n",
    "\n",
    "#add dominant_topic as a column to df_document_topic\n",
    "df_document_topic['dominant_topic'] = dominant_topic\n",
    "df_document_topic"
   ]
  },
  {
   "cell_type": "markdown",
   "metadata": {},
   "source": [
    "## Topic Model Visualization"
   ]
  },
  {
   "cell_type": "markdown",
   "metadata": {},
   "source": [
    "### 3 Topics Model Visualization"
   ]
  },
  {
   "cell_type": "code",
   "execution_count": null,
   "metadata": {},
   "outputs": [],
   "source": [
    "#prepare to display result in the Jupyter notebook\n",
    "pyLDAvis.enable_notebook()\n",
    "\n",
    "#run the visualization [mds is a function to use for visualizing the \"distance\" between topics]\n",
    "pyLDAvis.sklearn.prepare(lda_corpus_3, bow_data , count_vect, mds='tsne')"
   ]
  },
  {
   "cell_type": "markdown",
   "metadata": {},
   "source": [
    "### 5 Topics Model Visualization"
   ]
  },
  {
   "cell_type": "code",
   "execution_count": 25,
   "metadata": {
    "scrolled": true
   },
   "outputs": [
    {
     "data": {
      "text/html": [
       "\n",
       "<link rel=\"stylesheet\" type=\"text/css\" href=\"https://cdn.rawgit.com/bmabey/pyLDAvis/files/ldavis.v1.0.0.css\">\n",
       "\n",
       "\n",
       "<div id=\"ldavis_el4507112822857808937087120\"></div>\n",
       "<script type=\"text/javascript\">\n",
       "\n",
       "var ldavis_el4507112822857808937087120_data = {\"mdsDat\": {\"x\": [39.60542678833008, 152.93321228027344, 88.80021667480469, -24.4169979095459, -53.737518310546875], \"y\": [45.0804557800293, -7.874372482299805, -110.37741088867188, -152.8304901123047, -31.226255416870117], \"topics\": [1, 2, 3, 4, 5], \"cluster\": [1, 1, 1, 1, 1], \"Freq\": [25.27254061262475, 20.698672741354752, 19.26966193972627, 17.97135822501979, 16.78776648127443]}, \"tinfo\": {\"Category\": [\"Default\", \"Default\", \"Default\", \"Default\", \"Default\", \"Default\", \"Default\", \"Default\", \"Default\", \"Default\", \"Default\", \"Default\", \"Default\", \"Default\", \"Default\", \"Default\", \"Default\", \"Default\", \"Default\", \"Default\", \"Default\", \"Default\", \"Default\", \"Default\", \"Default\", \"Default\", \"Default\", \"Default\", \"Default\", \"Default\", \"Topic1\", \"Topic1\", \"Topic1\", \"Topic1\", \"Topic1\", \"Topic1\", \"Topic1\", \"Topic1\", \"Topic1\", \"Topic1\", \"Topic1\", \"Topic1\", \"Topic1\", \"Topic1\", \"Topic1\", \"Topic1\", \"Topic1\", \"Topic1\", \"Topic1\", \"Topic1\", \"Topic1\", \"Topic1\", \"Topic1\", \"Topic1\", \"Topic1\", \"Topic1\", \"Topic1\", \"Topic1\", \"Topic1\", \"Topic1\", \"Topic1\", \"Topic1\", \"Topic1\", \"Topic1\", \"Topic1\", \"Topic1\", \"Topic1\", \"Topic1\", \"Topic1\", \"Topic1\", \"Topic1\", \"Topic1\", \"Topic1\", \"Topic1\", \"Topic1\", \"Topic1\", \"Topic1\", \"Topic1\", \"Topic1\", \"Topic1\", \"Topic1\", \"Topic1\", \"Topic1\", \"Topic1\", \"Topic1\", \"Topic1\", \"Topic1\", \"Topic1\", \"Topic1\", \"Topic2\", \"Topic2\", \"Topic2\", \"Topic2\", \"Topic2\", \"Topic2\", \"Topic2\", \"Topic2\", \"Topic2\", \"Topic2\", \"Topic2\", \"Topic2\", \"Topic2\", \"Topic2\", \"Topic2\", \"Topic2\", \"Topic2\", \"Topic2\", \"Topic2\", \"Topic2\", \"Topic2\", \"Topic2\", \"Topic2\", \"Topic2\", \"Topic2\", \"Topic2\", \"Topic2\", \"Topic2\", \"Topic2\", \"Topic2\", \"Topic2\", \"Topic2\", \"Topic2\", \"Topic2\", \"Topic2\", \"Topic2\", \"Topic2\", \"Topic2\", \"Topic2\", \"Topic2\", \"Topic2\", \"Topic2\", \"Topic2\", \"Topic2\", \"Topic2\", \"Topic2\", \"Topic2\", \"Topic2\", \"Topic2\", \"Topic2\", \"Topic2\", \"Topic2\", \"Topic2\", \"Topic2\", \"Topic2\", \"Topic3\", \"Topic3\", \"Topic3\", \"Topic3\", \"Topic3\", \"Topic3\", \"Topic3\", \"Topic3\", \"Topic3\", \"Topic3\", \"Topic3\", \"Topic3\", \"Topic3\", \"Topic3\", \"Topic3\", \"Topic3\", \"Topic3\", \"Topic3\", \"Topic3\", \"Topic3\", \"Topic3\", \"Topic3\", \"Topic3\", \"Topic3\", \"Topic3\", \"Topic3\", \"Topic3\", \"Topic3\", \"Topic3\", \"Topic3\", \"Topic3\", \"Topic3\", \"Topic3\", \"Topic3\", \"Topic3\", \"Topic3\", \"Topic3\", \"Topic3\", \"Topic3\", \"Topic3\", \"Topic3\", \"Topic3\", \"Topic3\", \"Topic3\", \"Topic3\", \"Topic3\", \"Topic3\", \"Topic3\", \"Topic3\", \"Topic3\", \"Topic3\", \"Topic3\", \"Topic3\", \"Topic3\", \"Topic3\", \"Topic3\", \"Topic3\", \"Topic3\", \"Topic3\", \"Topic3\", \"Topic3\", \"Topic3\", \"Topic3\", \"Topic3\", \"Topic3\", \"Topic3\", \"Topic3\", \"Topic3\", \"Topic4\", \"Topic4\", \"Topic4\", \"Topic4\", \"Topic4\", \"Topic4\", \"Topic4\", \"Topic4\", \"Topic4\", \"Topic4\", \"Topic4\", \"Topic4\", \"Topic4\", \"Topic4\", \"Topic4\", \"Topic4\", \"Topic4\", \"Topic4\", \"Topic4\", \"Topic4\", \"Topic4\", \"Topic4\", \"Topic4\", \"Topic4\", \"Topic4\", \"Topic4\", \"Topic4\", \"Topic4\", \"Topic4\", \"Topic4\", \"Topic4\", \"Topic4\", \"Topic4\", \"Topic4\", \"Topic4\", \"Topic4\", \"Topic4\", \"Topic4\", \"Topic4\", \"Topic4\", \"Topic4\", \"Topic4\", \"Topic4\", \"Topic4\", \"Topic4\", \"Topic4\", \"Topic4\", \"Topic4\", \"Topic4\", \"Topic4\", \"Topic4\", \"Topic4\", \"Topic4\", \"Topic4\", \"Topic4\", \"Topic4\", \"Topic4\", \"Topic4\", \"Topic4\", \"Topic4\", \"Topic4\", \"Topic5\", \"Topic5\", \"Topic5\", \"Topic5\", \"Topic5\", \"Topic5\", \"Topic5\", \"Topic5\", \"Topic5\", \"Topic5\", \"Topic5\", \"Topic5\", \"Topic5\", \"Topic5\", \"Topic5\", \"Topic5\", \"Topic5\", \"Topic5\", \"Topic5\", \"Topic5\", \"Topic5\", \"Topic5\", \"Topic5\", \"Topic5\", \"Topic5\", \"Topic5\", \"Topic5\", \"Topic5\", \"Topic5\", \"Topic5\", \"Topic5\", \"Topic5\", \"Topic5\", \"Topic5\", \"Topic5\", \"Topic5\", \"Topic5\", \"Topic5\", \"Topic5\", \"Topic5\", \"Topic5\", \"Topic5\", \"Topic5\", \"Topic5\", \"Topic5\", \"Topic5\", \"Topic5\", \"Topic5\", \"Topic5\", \"Topic5\", \"Topic5\", \"Topic5\", \"Topic5\", \"Topic5\", \"Topic5\", \"Topic5\", \"Topic5\", \"Topic5\", \"Topic5\"], \"Freq\": [92732.0, 71879.0, 71344.0, 82116.0, 37439.0, 27242.0, 18573.0, 26685.0, 57559.0, 16948.0, 52122.0, 15781.0, 18045.0, 18087.0, 13808.0, 21251.0, 14933.0, 43858.0, 15364.0, 25132.0, 11209.0, 34401.0, 49338.0, 12917.0, 20484.0, 12137.0, 26779.0, 17003.0, 9901.0, 23472.0, 5261.940885158802, 2383.9035645945037, 1717.8869136866954, 1264.0797927791168, 1067.702093596325, 4600.689183025885, 91427.94746577276, 9636.567872845826, 1494.8499927862788, 2506.992858657799, 3974.4326849472154, 3586.6496449789174, 1167.077146664564, 1340.3122151382738, 7962.289185744515, 1145.909625546757, 1061.0032389830185, 8587.870481197693, 4129.843974397359, 1973.927756726144, 3670.1791827485736, 3872.9384854684477, 2631.4235359256368, 4403.743679145168, 8876.417339718899, 18701.615824588007, 966.6310309229285, 882.4354450923628, 3287.915810677742, 1188.775030587138, 44602.01335096174, 14384.843577170355, 2721.042760719304, 5979.239700555575, 5652.046764217104, 47142.770472473145, 23378.838854928254, 3469.2233476477954, 6095.209469770334, 5657.179204849816, 9244.848860651015, 6390.168659672851, 5586.52912088443, 10425.642240479514, 10040.237501927686, 12686.58279784393, 14281.525217501083, 17768.728012425156, 6651.239059571567, 8388.651113393567, 7174.680110678965, 9511.774725694477, 9829.158001872454, 6545.946759059727, 7338.533088975325, 6537.419133110907, 6093.757892745313, 6084.267114939297, 5885.221767678522, 9900.630516616018, 8538.76752196272, 6473.719453771811, 6497.036143295471, 4918.036260956255, 4856.107239869215, 4608.502758322794, 4877.301626361503, 4286.768357843087, 3868.6905162785315, 3534.778792525655, 3545.8869406702456, 3192.7965302154594, 3022.284650595287, 2819.384676849958, 2670.1489503286202, 2416.5387881209485, 2286.630834160925, 2233.8634666309304, 2301.8048191728694, 2092.804124078866, 2245.9467502528646, 2109.020945740053, 1994.3425745917846, 1884.7698433566825, 1870.5357799363178, 1741.655992297031, 1622.9673449701513, 1695.9392365420779, 1621.8756591879894, 15699.705597010574, 3828.2688662350024, 22461.569869898536, 3105.4114772170506, 18099.138765218016, 7715.943637676996, 3510.5270430910923, 3566.5993352034006, 23162.145524046835, 3898.1474557518964, 8655.948824056368, 4019.6299142538305, 8591.467326058404, 9841.390680910332, 7603.253925528947, 6927.174291940405, 4451.550833547834, 6397.822329390283, 4766.162397252002, 4778.050778291043, 4473.884590384118, 4706.090199559421, 3934.51386967003, 4244.261965696352, 3983.646222882798, 13807.206061651385, 16946.207147320136, 9185.279315885298, 8775.694007531552, 3112.56817497783, 2699.918026401586, 2114.0140733959556, 1818.9498705096264, 1663.8498148639173, 1638.495175854503, 1649.6308896377855, 1624.3059266695834, 1593.9128780280412, 1620.2500402950668, 1536.1362038643192, 1558.384891294786, 1452.9846348866238, 1457.0286695618242, 1406.3608170615978, 1431.6606546767664, 1345.5494870790476, 1358.6819680648919, 1342.4719974373272, 1796.122109867474, 1273.4961972692042, 1223.8696385682244, 1266.4037498397342, 1194.4891132317255, 1230.9341280361093, 1185.3076234571324, 26923.076443223446, 4747.958804351867, 8350.334479904597, 7173.32968342349, 2619.0174217103136, 1664.305867516358, 1457.6877556983145, 8339.88783652283, 2816.9418523017002, 8994.19626041633, 4584.460777439112, 5080.440023096008, 2454.2428355716725, 2724.3405463230274, 5394.1669356674565, 6234.807084546546, 9691.814363371828, 1942.0861981054486, 3857.4121685291093, 9558.434628427409, 4470.390322830393, 7530.2021403777, 4186.781391268946, 6101.725931991013, 4396.974017349069, 11143.438335700721, 16254.01263847887, 10363.702369575492, 4139.2517863554685, 8272.182844816565, 4726.508480082873, 7251.374829736093, 7347.294277491418, 8361.031152258443, 7822.974384485073, 6541.55802625813, 6179.8060666576475, 4682.53686455512, 4450.874831065068, 2502.8772699827923, 1359.0149458157186, 1232.0316083677296, 1038.5810594864026, 1904.6226034009583, 2357.8761343566866, 36911.47833586389, 2335.997295615144, 2275.53963004563, 2547.1005404573157, 2123.261893878741, 972.5581994008201, 914.9956922784409, 11111.811172811485, 1105.7029242703798, 1558.5549374218986, 1007.0969927007941, 3378.8250036954605, 1434.1557154529457, 15550.327879557068, 2625.0297120996884, 10614.478964838469, 998.833315179336, 870.6251402037516, 2298.787483586341, 1559.1231368667732, 820.5680653890677, 1579.3873792569125, 3089.4880179882985, 4156.548210406457, 7816.918199337547, 6510.750127701963, 46025.29311293867, 44513.78165689375, 9445.321565492846, 13389.774094284321, 6514.74175415072, 6375.319801470981, 7545.505493979631, 3835.3754483559064, 24104.66079860836, 33533.62326723235, 7522.814761174577, 15551.665467198545, 10358.555634020788, 3547.6258187402905, 5865.390372047437, 11511.147374378219, 7541.011490915277, 4387.128060522537, 4346.0964173310895, 6009.83770819236, 7345.428074815215, 3797.1339333198225, 5150.535779884106, 5587.25191152744, 4782.196088655145, 5763.917679259219, 4894.035771087468, 4809.23783730963, 11208.48618205203, 5288.199864493682, 5223.499527432, 5106.338314304003, 5182.069513435205, 5241.642596616178, 4700.284872960255, 4361.843579729318, 3098.2385642554086, 3044.7140310652885, 2738.624461421214, 2527.538278753083, 2420.4281603373956, 2220.4118042758582, 2041.6460893107953, 2050.698860421372, 1916.3312673063417, 1740.6737360833647, 1427.525504269039, 1505.2150481698459, 1310.2941650199843, 1265.8920287766834, 1297.1642523555608, 1257.7701950087442, 1217.4044301045524, 1251.7051458409326, 1129.5327874403981, 1123.4054958072345, 1434.7905732151023, 18541.01505728802, 4294.490295221713, 1648.4625085487123, 3542.351533105151, 13534.045818398892, 11289.665587150083, 5770.253384480657, 12754.367665703736, 14333.02482340051, 2378.427553915481, 3137.9642561490773, 3673.33139619858, 6470.127566113326, 6465.623648932473, 2757.640850796213, 11458.959610712223, 8621.146805656736, 27365.195669632383, 17948.32812033584, 7062.791673364633, 15590.603077692509, 12296.583482203883, 9237.178392126307, 7017.312019326954, 7817.938210197478, 7438.307633429386, 8567.177291916423, 4350.839496489047, 4434.285222321735, 4444.002134317666], \"Term\": [\"album\", \"cd\", \"music\", \"song\", \"love\", \"band\", \"version\", \"recording\", \"like\", \"rock\", \"great\", \"performance\", \"voice\", \"set\", \"guitar\", \"buy\", \"original\", \"good\", \"disc\", \"work\", \"dvd\", \"track\", \"sound\", \"quality\", \"release\", \"sing\", \"record\", \"live\", \"piece\", \"really\", \"metal\", \"catchy\", \"hook\", \"rap\", \"hate\", \"beat\", \"album\", \"lyric\", \"hip\", \"hop\", \"maybe\", \"heavy\", \"hell\", \"stick\", \"something\", \"weak\", \"electronic\", \"feel\", \"kind\", \"dark\", \"anything\", \"stuff\", \"head\", \"pretty\", \"thing\", \"really\", \"personally\", \"strange\", \"rest\", \"finish\", \"like\", \"think\", \"previous\", \"start\", \"bad\", \"song\", \"good\", \"definitely\", \"lot\", \"bit\", \"way\", \"seem\", \"different\", \"much\", \"even\", \"first\", \"track\", \"sound\", \"little\", \"still\", \"give\", \"well\", \"time\", \"could\", \"fan\", \"new\", \"take\", \"know\", \"hear\", \"piece\", \"piano\", \"symphony\", \"orchestra\", \"concerto\", \"composer\", \"movement\", \"instrument\", \"score\", \"opera\", \"classical\", \"major\", \"de\", \"composition\", \"violin\", \"minor\", \"sonata\", \"bach\", \"beethoven\", \"interpretation\", \"conductor\", \"century\", \"quartet\", \"pianist\", \"mozart\", \"orchestral\", \"ensemble\", \"op\", \"cast\", \"role\", \"performance\", \"string\", \"recording\", \"la\", \"work\", \"musical\", \"theme\", \"listener\", \"music\", \"perform\", \"play\", \"fine\", \"well\", \"sound\", \"hear\", \"first\", \"note\", \"record\", \"even\", \"much\", \"many\", \"time\", \"write\", \"like\", \"give\", \"guitar\", \"rock\", \"blue\", \"jazz\", \"roll\", \"70s\", \"guitarist\", \"steve\", \"electric\", \"stone\", \"hot\", \"jam\", \"joe\", \"bob\", \"drummer\", \"bill\", \"dylan\", \"swing\", \"chart\", \"jones\", \"funk\", \"mile\", \"lee\", \"vocalist\", \"tom\", \"jimmy\", \"wilson\", \"sax\", \"green\", \"mike\", \"band\", \"drum\", \"tune\", \"group\", \"member\", \"johnny\", \"club\", \"classic\", \"king\", \"hit\", \"john\", \"bass\", \"paul\", \"tour\", \"top\", \"solo\", \"vocal\", \"james\", \"lead\", \"live\", \"musician\", \"show\", \"feature\", \"early\", \"late\", \"record\", \"great\", \"best\", \"man\", \"year\", \"big\", \"release\", \"play\", \"time\", \"track\", \"fan\", \"new\", \"well\", \"christmas\", \"thank\", \"relax\", \"daughter\", \"holiday\", \"family\", \"gift\", \"love\", \"kid\", \"memory\", \"car\", \"child\", \"mother\", \"tire\", \"sing\", \"sleep\", \"person\", \"gospel\", \"friend\", \"wow\", \"voice\", \"god\", \"enjoy\", \"wife\", \"christian\", \"glad\", \"learn\", \"father\", \"thanks\", \"happy\", \"amazing\", \"beautiful\", \"wonderful\", \"music\", \"cd\", \"favorite\", \"buy\", \"recommend\", \"artist\", \"every\", \"anyone\", \"great\", \"song\", \"old\", \"hear\", \"year\", \"heart\", \"day\", \"time\", \"know\", \"singer\", \"life\", \"never\", \"play\", \"highly\", \"want\", \"many\", \"ever\", \"best\", \"fan\", \"like\", \"dvd\", \"vinyl\", \"price\", \"lp\", \"video\", \"movie\", \"box\", \"soundtrack\", \"stereo\", \"audio\", \"edition\", \"remastered\", \"tape\", \"package\", \"reissue\", \"product\", \"extra\", \"mono\", \"packaging\", \"poor\", \"photo\", \"remastering\", \"print\", \"collector\", \"item\", \"mp3\", \"sleeve\", \"cheap\", \"format\", \"version\", \"copy\", \"download\", \"bonus\", \"original\", \"quality\", \"amazon\", \"disc\", \"set\", \"booklet\", \"money\", \"available\", \"worth\", \"concert\", \"issue\", \"release\", \"collection\", \"cd\", \"sound\", \"include\", \"good\", \"track\", \"record\", \"live\", \"buy\", \"well\", \"great\", \"purchase\", \"review\", \"first\"], \"Total\": [92732.0, 71879.0, 71344.0, 82116.0, 37439.0, 27242.0, 18573.0, 26685.0, 57559.0, 16948.0, 52122.0, 15781.0, 18045.0, 18087.0, 13808.0, 21251.0, 14933.0, 43858.0, 15364.0, 25132.0, 11209.0, 34401.0, 49338.0, 12917.0, 20484.0, 12137.0, 26779.0, 17003.0, 9901.0, 23472.0, 5263.2272679591715, 2385.2127368082765, 1719.2345972495077, 1265.3816304223883, 1069.0420225501682, 4619.421256847162, 92732.7769949163, 9824.551273055002, 1526.7012963791772, 2661.0754371094113, 4284.775031553171, 3896.193200191474, 1280.222766101614, 1489.1184369229136, 9117.12340242462, 1358.9722025703811, 1263.0615598249913, 10229.993125428944, 5006.034156566634, 2432.4367062126685, 4541.550562336326, 4797.884886546292, 3268.575046827189, 5477.645408156834, 11091.828475298553, 23472.131582778715, 1218.6104540222425, 1115.77358478454, 4160.470386583139, 1504.9246318440325, 57559.07718269826, 19442.892267839583, 3505.107161069136, 8196.940935830835, 7804.491314054719, 82116.6869837251, 43858.74620143481, 4664.015436368395, 9244.100436628083, 8578.708025342996, 16456.299528084233, 10452.089955421668, 8832.712510093928, 20560.12047511396, 19712.771194198674, 28232.92475271485, 34401.744771916645, 49338.648701002574, 11688.49896146251, 17295.116446235268, 16123.4929436754, 32419.31629279331, 37020.575463964946, 15327.49630482505, 22964.30253434478, 21578.65047368565, 16337.162361164937, 20133.087322677475, 32781.61713012282, 9901.946151666389, 8540.0767984652, 6474.947807215913, 6498.287987213465, 4919.250409411526, 4857.3467401026455, 4609.734222009909, 4878.655621608668, 4288.040097531414, 3869.940171718049, 3536.0681126396803, 3547.2307882897044, 3194.0791212068916, 3023.591355948756, 2820.6309164421095, 2671.453784420503, 2417.7535301720977, 2287.858089339474, 2235.088300852404, 2303.0792401438084, 2094.030224451565, 2247.264475884567, 2110.2669401059766, 1995.5937072843824, 1885.9949514409261, 1871.7872648750404, 1742.9070452028611, 1624.1753193169964, 1697.239612191958, 1623.1591096777393, 15781.359796204832, 3864.830407351705, 26685.510082800123, 3272.054706176636, 25132.99576742153, 9600.791701743074, 4004.047626949246, 4187.553934734021, 71344.72124492048, 5209.308471678967, 25470.215458340404, 6975.001674517726, 32419.31629279331, 49338.648701002574, 32781.61713012282, 28232.92475271485, 9170.751569450476, 26779.103785009822, 19712.771194198674, 20560.12047511396, 18137.874333123873, 37020.575463964946, 9354.4765054123, 57559.07718269826, 16123.4929436754, 13808.508451618743, 16948.242018090183, 9186.571970610568, 8776.99479199525, 3113.879832129953, 2701.2609274019524, 2115.2827908243457, 1820.2646516667319, 1665.1529700600179, 1639.8074000480005, 1650.9589496354909, 1625.6140928904365, 1595.20038745596, 1621.559042564196, 1537.4137981529886, 1559.7169358462922, 1454.2811835851337, 1458.3367476010415, 1407.646505166239, 1432.9910582983043, 1346.8183838261157, 1359.9976758772993, 1343.7765335110857, 1797.9471294616505, 1274.8370320205665, 1225.1615203457498, 1267.7410785984746, 1195.761949298384, 1232.257831668724, 1186.6366382316796, 27242.793913277474, 4760.990642332359, 8464.853254804462, 7389.191054863832, 2655.6748624762263, 1679.8225054088778, 1465.2607733147415, 9325.598381218793, 2959.9204481363863, 10461.811980150482, 5155.230620053918, 6106.629413941603, 2647.718928030803, 3005.3954316177947, 6663.90065492271, 8082.33104548097, 13840.817136354062, 2046.4443975755757, 5038.815588176793, 17003.165426402014, 6497.031584386643, 13434.168295870166, 6025.825968097735, 10361.499239257764, 6656.57212061041, 26779.103785009822, 52122.410099190325, 25558.791853805018, 6121.810246692161, 22993.590845613842, 8487.431890593396, 20484.997042398605, 25470.215458340404, 37020.575463964946, 34401.744771916645, 22964.30253434478, 21578.65047368565, 32419.31629279331, 4452.1554228891955, 2504.265730970091, 1360.3403178023345, 1233.346015246579, 1039.9254232824146, 1915.5564803850032, 2377.971171397554, 37439.90873047882, 2397.4014577480393, 2340.567827848686, 2620.8596648389644, 2243.8629619416183, 1041.4018841817563, 984.9221626261508, 12137.117278354042, 1227.7020560170974, 1748.4986077441672, 1148.578901501268, 3873.3088702289892, 1647.7894311150499, 18045.311325295414, 3053.587029239876, 12768.003746180166, 1219.006766392075, 1068.370087007507, 2904.146259199305, 1977.5597531485216, 1058.5279497115098, 2049.9598534175348, 4045.7021901031803, 5447.327474637339, 10314.907164941089, 8610.00705958586, 71344.72124492048, 71879.98570047406, 13644.05374657354, 21251.30549767223, 9426.82000253469, 9347.859429675333, 11810.719350582192, 5358.833199208943, 52122.410099190325, 82116.6869837251, 12618.647544903462, 32781.61713012282, 22993.590845613842, 5133.990018949292, 11817.677404742217, 37020.575463964946, 20133.087322677475, 7970.652792582288, 7837.849970383839, 15006.70453267932, 25470.215458340404, 6097.465618459254, 13580.008548012378, 18137.874333123873, 12409.551877985507, 25558.791853805018, 22964.30253434478, 57559.07718269826, 11209.776413870233, 5289.470974245402, 5224.823284421123, 5107.649605859866, 5183.407388272921, 5243.00405072987, 4701.582215319894, 4363.1912446161305, 3099.5339612790353, 3045.9976703845628, 2739.9315713564965, 2528.8169376356445, 2421.7436789217604, 2221.7402095383063, 2042.9500312071768, 2052.0396730676944, 1917.694059150536, 1741.9347881529256, 1428.7974924813645, 1506.5757782148182, 1311.6233755603741, 1267.1787456462146, 1298.4920185080462, 1259.0975927132938, 1218.692681550184, 1253.0358367908843, 1130.8125755091346, 1124.7509191153297, 1436.8817029430948, 18573.686182729292, 4325.807035825382, 1653.9534361268768, 3631.7262523935633, 14933.10780694204, 12917.317483170527, 6381.85427112333, 15364.322349875563, 18087.807531134244, 2513.271670089805, 3437.886420895885, 4158.351797749603, 8177.943562974182, 8197.34467715399, 3015.86973817667, 20484.997042398605, 14525.282676251969, 71879.98570047406, 49338.648701002574, 12471.008376503916, 43858.74620143481, 34401.744771916645, 26779.103785009822, 17003.165426402014, 21251.30549767223, 32419.31629279331, 52122.410099190325, 8122.828976866715, 9070.447188453636, 28232.92475271485], \"loglift\": [30.0, 29.0, 28.0, 27.0, 26.0, 25.0, 24.0, 23.0, 22.0, 21.0, 20.0, 19.0, 18.0, 17.0, 16.0, 15.0, 14.0, 13.0, 12.0, 11.0, 10.0, 9.0, 8.0, 7.0, 6.0, 5.0, 4.0, 3.0, 2.0, 1.0, 1.3752, 1.3749, 1.3747, 1.3744, 1.3742, 1.3714, 1.3613, 1.3561, 1.3544, 1.3158, 1.3003, 1.2927, 1.2829, 1.2702, 1.24, 1.2049, 1.2011, 1.2005, 1.183, 1.1666, 1.1624, 1.1613, 1.1586, 1.1572, 1.1526, 1.1482, 1.1438, 1.1408, 1.1401, 1.1396, 1.1204, 1.0741, 1.1222, 1.06, 1.0528, 0.8205, 0.7463, 1.0795, 0.959, 0.9591, 0.7988, 0.8834, 0.9173, 0.6964, 0.7008, 0.5755, 0.4963, 0.3542, 0.8116, 0.6519, 0.5657, 0.1492, 0.0493, 0.5246, 0.2346, 0.1813, 0.3893, 0.1788, -0.342, 1.575, 1.5749, 1.5749, 1.5749, 1.5749, 1.5748, 1.5748, 1.5748, 1.5748, 1.5748, 1.5747, 1.5747, 1.5747, 1.5747, 1.5747, 1.5746, 1.5746, 1.5746, 1.5746, 1.5745, 1.5745, 1.5745, 1.5745, 1.5745, 1.5745, 1.5744, 1.5744, 1.5744, 1.5743, 1.5743, 1.5699, 1.5656, 1.4028, 1.5228, 1.2468, 1.3565, 1.4436, 1.4146, 0.4501, 1.2852, 0.4958, 1.024, 0.2471, -0.037, 0.1138, 0.1701, 0.8523, 0.1434, 0.1554, 0.1158, 0.1754, -0.4875, 0.709, -1.0321, 0.177, 1.6465, 1.6465, 1.6465, 1.6465, 1.6462, 1.6461, 1.646, 1.6459, 1.6459, 1.6458, 1.6458, 1.6458, 1.6458, 1.6458, 1.6458, 1.6458, 1.6457, 1.6457, 1.6457, 1.6457, 1.6457, 1.6457, 1.6457, 1.6456, 1.6456, 1.6456, 1.6456, 1.6456, 1.6456, 1.6455, 1.6348, 1.6439, 1.633, 1.617, 1.6327, 1.6374, 1.6415, 1.5349, 1.5971, 1.4955, 1.5293, 1.4627, 1.5708, 1.5485, 1.4353, 1.3871, 1.2903, 1.5943, 1.3795, 1.0707, 1.2728, 1.0678, 1.2825, 1.1171, 1.232, 0.7699, 0.4814, 0.744, 1.2553, 0.6243, 1.0612, 0.6081, 0.4035, 0.1587, 0.1656, 0.3909, 0.3962, -0.2883, 1.7161, 1.7158, 1.7154, 1.7153, 1.7151, 1.7107, 1.7079, 1.7022, 1.6904, 1.6882, 1.6878, 1.6611, 1.648, 1.6427, 1.6281, 1.6117, 1.6014, 1.5849, 1.5798, 1.5775, 1.5676, 1.5652, 1.5317, 1.5172, 1.5117, 1.4826, 1.4787, 1.4618, 1.4556, 1.4467, 1.446, 1.4391, 1.4369, 1.2781, 1.2372, 1.3486, 1.2545, 1.3469, 1.3337, 1.2683, 1.3819, 0.9452, 0.8208, 1.1992, 0.9707, 0.919, 1.3468, 1.0159, 0.5482, 0.7344, 1.1193, 1.1267, 0.8013, 0.473, 1.2428, 0.7469, 0.5389, 0.7628, 0.227, 0.1705, -0.7659, 1.7844, 1.7843, 1.7843, 1.7843, 1.7843, 1.7843, 1.7842, 1.7842, 1.7841, 1.7841, 1.784, 1.784, 1.784, 1.7839, 1.7839, 1.7839, 1.7838, 1.7838, 1.7836, 1.7836, 1.7835, 1.7835, 1.7835, 1.7835, 1.7835, 1.7835, 1.7834, 1.7833, 1.7831, 1.7828, 1.7773, 1.7812, 1.7596, 1.6861, 1.6498, 1.6838, 1.5983, 1.5518, 1.7294, 1.6932, 1.6605, 1.5503, 1.5472, 1.695, 1.2036, 1.2628, 0.8188, 0.7733, 1.216, 0.7502, 0.7557, 0.7201, 0.8995, 0.7845, 0.3124, -0.0211, 1.1602, 1.0689, -0.0644], \"logprob\": [30.0, 29.0, 28.0, 27.0, 26.0, 25.0, 24.0, 23.0, 22.0, 21.0, 20.0, 19.0, 18.0, 17.0, 16.0, 15.0, 14.0, 13.0, 12.0, 11.0, 10.0, 9.0, 8.0, 7.0, 6.0, 5.0, 4.0, 3.0, 2.0, 1.0, -5.3223, -6.1141, -6.4417, -6.7485, -6.9173, -5.4566, -2.4673, -4.7173, -6.5808, -6.0637, -5.6029, -5.7056, -6.8283, -6.6899, -4.9081, -6.8466, -6.9236, -4.8325, -5.5646, -6.3028, -5.6826, -5.6288, -6.0153, -5.5004, -4.7994, -4.0542, -7.0168, -7.1079, -5.7926, -6.8099, -3.185, -4.3166, -5.9818, -5.1945, -5.2508, -3.1296, -3.831, -5.7389, -5.1753, -5.2499, -4.7588, -5.1281, -5.2625, -4.6386, -4.6762, -4.4423, -4.3239, -4.1054, -5.088, -4.8559, -5.0123, -4.7303, -4.6975, -5.104, -4.9897, -5.1053, -5.1756, -5.1771, -5.2104, -4.4906, -4.6386, -4.9154, -4.9118, -5.1903, -5.2029, -5.2553, -5.1986, -5.3276, -5.4303, -5.5205, -5.5174, -5.6223, -5.6772, -5.7467, -5.801, -5.9008, -5.9561, -5.9794, -5.9495, -6.0447, -5.974, -6.037, -6.0929, -6.1494, -6.157, -6.2283, -6.2989, -6.2549, -6.2996, -4.0295, -5.4408, -3.6714, -5.65, -3.8873, -4.7399, -5.5274, -5.5116, -3.6407, -5.4227, -4.6249, -5.392, -4.6324, -4.4966, -4.7546, -4.8477, -5.2899, -4.9272, -5.2216, -5.2191, -5.2849, -5.2343, -5.4134, -5.3376, -5.401, -4.0864, -3.8816, -4.494, -4.5397, -5.5762, -5.7184, -5.963, -6.1134, -6.2025, -6.2179, -6.2111, -6.2266, -6.2454, -6.2291, -6.2824, -6.268, -6.338, -6.3352, -6.3706, -6.3528, -6.4148, -6.4051, -6.4171, -6.126, -6.4699, -6.5096, -6.4755, -6.5339, -6.5039, -6.5416, -3.4187, -5.1539, -4.5893, -4.7413, -5.7488, -6.2022, -6.3348, -4.5906, -5.676, -4.5151, -5.189, -5.0862, -5.8138, -5.7094, -5.0263, -4.8815, -4.4404, -6.0479, -5.3616, -4.4542, -5.2142, -4.6927, -5.2797, -4.9031, -5.2307, -4.3008, -3.9233, -4.3733, -5.2911, -4.5987, -5.1585, -4.7304, -4.7173, -4.5881, -4.6546, -4.8335, -4.8904, -5.1678, -5.1488, -5.7244, -6.3351, -6.4332, -6.604, -5.9976, -5.7841, -3.0334, -5.7934, -5.8197, -5.7069, -5.8889, -6.6697, -6.7307, -4.2339, -6.5414, -6.1981, -6.6348, -5.4244, -6.2813, -3.8978, -5.6768, -4.2797, -6.6431, -6.7804, -5.8095, -6.1978, -6.8396, -6.1848, -5.5139, -5.2172, -4.5856, -4.7684, -2.8127, -2.8461, -4.3964, -4.0474, -4.7678, -4.7895, -4.6209, -5.2976, -3.4595, -3.1293, -4.6239, -3.8977, -4.3041, -5.3756, -4.8728, -4.1986, -4.6215, -5.1632, -5.1726, -4.8485, -4.6478, -5.3076, -5.0028, -4.9214, -5.077, -4.8903, -5.0539, -5.0713, -4.1571, -4.9083, -4.9206, -4.9433, -4.9286, -4.9171, -5.0261, -5.1009, -5.4429, -5.4603, -5.5663, -5.6465, -5.6898, -5.7761, -5.86, -5.8556, -5.9233, -6.0195, -6.2178, -6.1648, -6.3035, -6.338, -6.3136, -6.3444, -6.377, -6.3492, -6.452, -6.4574, -6.2127, -3.6538, -5.1164, -6.0739, -5.309, -3.9685, -4.1499, -4.821, -4.0279, -3.9112, -5.7073, -5.4302, -5.2727, -4.7066, -4.7073, -5.5594, -4.135, -4.4195, -3.2645, -3.6863, -4.6189, -3.8271, -4.0644, -4.3505, -4.6254, -4.5173, -4.5671, -4.4258, -5.1034, -5.0844, -5.0822]}, \"token.table\": {\"Topic\": [3, 1, 3, 1, 2, 3, 4, 5, 4, 5, 1, 2, 3, 4, 5, 1, 2, 3, 4, 5, 1, 2, 3, 4, 5, 5, 2, 5, 2, 1, 5, 1, 3, 2, 3, 1, 3, 2, 4, 2, 1, 2, 3, 4, 5, 1, 2, 3, 4, 5, 3, 1, 2, 3, 5, 3, 3, 1, 3, 5, 2, 5, 5, 1, 4, 5, 1, 4, 5, 2, 1, 4, 5, 2, 3, 5, 1, 2, 3, 4, 1, 2, 4, 4, 2, 3, 4, 5, 2, 1, 3, 2, 3, 4, 5, 5, 2, 2, 2, 3, 4, 5, 2, 2, 4, 5, 1, 2, 3, 4, 5, 1, 2, 4, 1, 2, 3, 4, 5, 2, 1, 2, 4, 5, 1, 2, 3, 4, 5, 2, 5, 1, 5, 1, 3, 3, 5, 3, 2, 3, 5, 5, 3, 1, 2, 1, 2, 4, 5, 2, 1, 2, 3, 4, 5, 1, 2, 3, 4, 5, 1, 2, 3, 4, 5, 5, 3, 4, 1, 3, 4, 5, 2, 3, 4, 1, 2, 3, 4, 2, 3, 5, 1, 2, 4, 2, 3, 5, 1, 2, 3, 1, 2, 3, 4, 5, 2, 5, 2, 3, 4, 3, 2, 4, 1, 2, 3, 4, 5, 4, 5, 1, 4, 1, 2, 3, 4, 5, 3, 4, 1, 2, 3, 4, 5, 3, 2, 3, 4, 3, 3, 1, 2, 4, 5, 1, 1, 2, 3, 1, 2, 3, 4, 5, 1, 2, 3, 4, 1, 2, 3, 1, 2, 3, 2, 3, 4, 5, 1, 2, 1, 3, 4, 5, 4, 1, 1, 5, 3, 2, 3, 5, 2, 2, 2, 5, 5, 3, 2, 3, 3, 3, 3, 2, 3, 3, 4, 3, 1, 4, 1, 2, 3, 4, 5, 2, 3, 1, 2, 3, 4, 5, 2, 3, 2, 3, 5, 1, 2, 3, 1, 2, 3, 4, 5, 3, 1, 2, 3, 4, 1, 2, 3, 4, 5, 1, 2, 3, 1, 2, 3, 4, 5, 2, 3, 5, 1, 2, 3, 4, 5, 1, 3, 4, 5, 1, 4, 2, 1, 2, 3, 4, 1, 2, 3, 4, 5, 1, 2, 5, 2, 3, 2, 3, 4, 1, 3, 3, 2, 1, 5, 5, 1, 3, 4, 2, 5, 2, 5, 1, 2, 3, 4, 5, 1, 2, 3, 4, 5, 1, 2, 3, 4, 2, 3, 4, 1, 2, 3, 4, 5, 1, 2, 3, 4, 5, 1, 2, 3, 5, 1, 2, 3, 4, 5, 2, 2, 2, 2, 2, 3, 5, 5, 5, 2, 3, 2, 3, 4, 5, 2, 5, 1, 2, 4, 1, 2, 5, 5, 2, 2, 2, 2, 3, 4, 5, 5, 1, 2, 3, 5, 1, 2, 5, 5, 5, 5, 4, 5, 2, 5, 2, 1, 1, 2, 4, 5, 2, 4, 5, 2, 3, 5, 2, 5, 5, 4, 1, 3, 5, 5, 5, 1, 2, 3, 4, 5, 1, 2, 5, 1, 3, 2, 3, 3, 2, 1, 2, 5, 2, 3, 5, 1, 2, 3, 4, 5, 1, 2, 3, 4, 2, 3, 4, 1, 4, 5, 2, 3, 1, 2, 4, 5, 2, 1, 3, 4, 5, 1, 2, 3, 5, 5, 1, 2, 3, 4, 5, 5, 3, 1, 2, 3, 5, 1, 2, 3, 4, 5, 3, 1, 2, 3, 5, 2, 3, 1, 3, 5, 3, 2, 1, 2, 3, 4, 5, 5, 4, 2, 3, 4, 5, 1, 2, 1, 2, 3, 5, 1, 2, 4, 5, 1, 2, 3, 4, 5, 1, 4, 3, 1, 2, 3, 5, 3, 5, 1, 3, 5, 2, 3, 2, 5, 5, 5, 2, 1, 2, 3, 1, 3, 1, 2, 4, 1, 2, 3, 4, 5, 1, 2, 3, 4, 5, 1, 2, 3, 1, 2, 3, 4, 5, 2, 3, 4, 3, 2, 4, 1, 2, 3, 4, 1, 2, 3, 4, 5, 1, 3, 4, 5, 1, 2, 3, 4, 1, 2, 3, 4, 5], \"Freq\": [0.9995332078478012, 0.9859297107538596, 0.01406191038656684, 0.10225197633029816, 0.0031207964050539833, 0.11859026339205136, 0.7631265091652593, 0.012850338138457578, 0.09574019932806334, 0.9041259412813837, 0.04758498548483323, 0.15339160026875653, 0.005598233586450969, 0.7156408601346488, 0.07762883906545343, 0.8080940528188304, 0.10458982972450802, 0.00022018911520949058, 0.05967125022177194, 0.027303450285976832, 0.027278972466197707, 0.019469697995482284, 0.25727815208315874, 0.6819743116549427, 0.014013903502242743, 0.999672465151808, 0.11639226874982747, 0.8832826510704882, 0.9996249376902036, 0.7241983843100185, 0.2756105316084306, 0.011709518524989729, 0.9882613393363588, 0.16785036892199431, 0.8318828040231523, 0.9960122154220387, 0.003896592018603933, 0.24207682726287155, 0.7578352257564545, 0.9995130837327596, 0.14480340155237112, 0.09699206496847555, 0.4054964749226626, 0.225519266832712, 0.12723606102359117, 0.20394861747502963, 0.04536118875094535, 0.5569411408460225, 0.00023564253896594988, 0.19346252449104484, 0.9988992003569156, 0.6594233051513395, 0.19315262800703017, 0.0002331353385721547, 0.1471083986390296, 0.9998288838735931, 0.9990385533161157, 0.014868962098784345, 0.009637290249212076, 0.975293773220262, 0.05331695796945496, 0.9461770600848052, 0.999663471731976, 0.002023405103498701, 0.6300789380429677, 0.3678832813756476, 0.0015262167805714143, 0.9718185350288481, 0.026327239464856895, 0.9992696304145546, 0.9994915603167962, 0.6192822600924143, 0.380704026765263, 0.9994373266261554, 0.9988303134627934, 0.9984432827877066, 0.0004456600144309608, 0.0031196201010167254, 0.05035958163069857, 0.9461362106369298, 0.013104073363953729, 0.1712889589716809, 0.8152605642859784, 0.9997404801091949, 0.013189502160817344, 0.8943125855383467, 0.009221928340083672, 0.08331905023540713, 0.9996979377643032, 0.004777306625198505, 0.9950447227913458, 0.040687676320836925, 0.06560973863579964, 0.30009742991967536, 0.5935168486665569, 0.9991282703424692, 0.9997227416170382, 0.9994736868308527, 0.09429882851630626, 0.08661341299686603, 0.030253699187637716, 0.788792011884135, 0.9997458130187613, 0.9995080183468532, 0.006935122105897606, 0.9926471440908106, 0.4270756208200382, 0.1345947152080261, 0.04886642835230807, 0.22358511343572732, 0.16591098437906465, 0.8115319074729556, 0.18787744767737624, 0.9989086475085339, 0.15180647927316926, 0.013708277392560435, 0.28025811558123553, 0.49629041300843796, 0.0577947744390048, 0.9996621495066522, 0.7437796995588664, 0.02186956741280034, 0.19039388100555588, 0.04373913482560068, 0.6325350217858032, 0.18612628885195284, 0.00011321550416785452, 0.0004528620166714181, 0.18091837566023153, 0.16980898607748426, 0.8301049476551301, 0.0024184477704323683, 0.9964004814181359, 0.0025204838449590663, 0.9972714413221373, 0.9990804049276212, 0.9998415299463034, 0.9991190262243679, 0.2798822769790348, 0.5889109152158863, 0.13115862566017528, 0.9996600019627369, 0.999307589103975, 0.8400223977578822, 0.15913713661577222, 0.06759083229891641, 0.06015035829150382, 0.8312967485755489, 0.040883446651256504, 0.9994795791288138, 0.5093144896317114, 0.2417721969705913, 0.02313221187968729, 0.04073501346357214, 0.18500696650267445, 0.12909410555283155, 0.13062518420795252, 0.29485351574145485, 0.38534832256781554, 0.060114982985276115, 0.25917134334828745, 0.075016599218093, 0.003979435850169719, 0.6389111260719298, 0.0230299266222588, 0.9991166165726735, 0.005220415112996367, 0.994489079025808, 0.3195829696557948, 0.2848769297572162, 0.21311337423292817, 0.18245709808663038, 0.21444875410409933, 0.009447081678594685, 0.7756054058126236, 0.27367233150468406, 0.028730464367926124, 0.005277024067578268, 0.6922429488649546, 0.21457639282074736, 0.6948425032795585, 0.09060998490342465, 0.8394922552442972, 0.07067453429688249, 0.08973613068400847, 0.5763439476561782, 0.2894622960989612, 0.13405014702948423, 0.7900727882585589, 0.1614698801907736, 0.048507412567598655, 0.44936895879977967, 0.2453518387015113, 0.09074511487704229, 0.05713187755529634, 0.157404875298039, 0.0006959515163647423, 0.9986904259834052, 0.01678151734802322, 0.11075801449695324, 0.8723807249072378, 0.9993923576957787, 0.00799000434846884, 0.9916015922994488, 0.4450028306561492, 0.2470928609524876, 0.024126285871113873, 0.1308649439281498, 0.15300654818518747, 0.7916267965904209, 0.20797850593328152, 0.14016302659843996, 0.8596447308899647, 0.5330521737357637, 0.05542794107325556, 0.022298859057854357, 0.033744694688777555, 0.3554821181707641, 0.12276039531607601, 0.8767355892431812, 0.010436969414206933, 0.0508802258942588, 0.31184283246051375, 0.46246902156150393, 0.1643630826682184, 0.9989792463586774, 0.028690556033255356, 0.9707422567289654, 0.0004059984344328588, 0.9998907592645485, 0.9993935606010174, 0.05709762833386128, 0.00988703520932663, 0.763526294040249, 0.16931547795971852, 0.9990252744717345, 0.8049379201355391, 0.018050679318888943, 0.17652952486438847, 0.1795213450465295, 0.23192876574150614, 0.04691653843357049, 0.47441222738549305, 0.06720229789932107, 0.08161293622572165, 0.04947419045664271, 0.17783439325557007, 0.6910804241738912, 0.9206422309406322, 0.02001954112444085, 0.05928864102238251, 0.9115601057100501, 0.003905570290103042, 0.08436031826622571, 0.30094470634566356, 0.019024297512859386, 0.6227177384166128, 0.05723689510334418, 0.9792354297108662, 0.020305216268252074, 0.0020073004599818795, 0.8596981112893821, 0.009558573618961331, 0.12865840091121952, 0.9991101061079037, 0.9992818913419478, 0.9421003121667323, 0.05749555156023536, 0.999419155978589, 0.1760082211263288, 0.257637546459633, 0.5663535607358817, 0.999660639787458, 0.9995313925265806, 0.08521588208759197, 0.9144957307298781, 0.9986110677648191, 0.9990070872924296, 0.050331198894054574, 0.9489629927403299, 0.9998866591562573, 0.999051945130123, 0.9992475005238217, 0.11056731347433657, 0.8891939736251909, 0.9905808468704695, 0.008929514845587166, 0.9993083988259626, 0.025027097487610624, 0.9743883288509736, 0.8250043589060411, 0.11805752448268046, 0.015780955049292313, 0.03735491891414762, 0.0037954195688171383, 0.04797426231147715, 0.9517147671227545, 0.3021891229343209, 0.11771667017658455, 0.07549761125249305, 0.37455755687832243, 0.13003470148620183, 0.9489450143173682, 0.05073264810843257, 0.3148767807247608, 0.6605501931520864, 0.024487077890332064, 0.002976890052336185, 0.2312051273981104, 0.7654576621240444, 0.009607800709814018, 0.13046382016484298, 0.00455106349412243, 0.7883453319263186, 0.06725460496869813, 0.9986779546548235, 0.2231479304412288, 0.15705837757184257, 0.06519645080358372, 0.5544887968539625, 0.7748908110258405, 0.0737329402715947, 0.03167180728442911, 0.08354894198070191, 0.03615415850734886, 0.14447575110180105, 0.8518099242646683, 0.0038208463101302753, 0.5690208830003439, 0.12662019348075612, 0.1282457229916577, 0.04200710472908869, 0.13414896174177404, 0.02511297098462425, 0.5621306245223386, 0.4126878627613779, 0.6593394394385483, 0.012873075191663207, 0.03894375688234247, 0.0906524118538972, 0.19828862879259376, 0.013862213279849588, 0.00024038520138467494, 0.9858731298121929, 0.999677032297209, 0.9809099400224636, 0.01903394819800775, 0.999653028414794, 0.06452339815880981, 0.0037570586269686725, 0.6761072024792755, 0.2556433370089553, 0.09764098964815035, 0.2466661703477271, 0.2171147471679368, 0.3080294800475528, 0.1305555412122078, 0.9274699303313202, 0.0007001534451419126, 0.07164903588618905, 0.01355587632683038, 0.9861900027769102, 0.023925818057352322, 0.003417974008193189, 0.9724136053309623, 0.999766822161254, 0.9986207755778395, 0.9992664135424675, 0.9994558077594375, 0.08697204136315913, 0.9127701197243925, 0.999463362142324, 0.000960244085582497, 0.0652965978196098, 0.9343174952717695, 0.999840723570048, 0.9998084970524236, 0.9994724527548889, 0.9991733382554028, 0.5070981958797209, 0.23239163436728436, 0.001799600349851302, 0.06590428308239228, 0.19280042667055572, 0.005340268955457248, 0.3246491064207369, 0.011942018766534317, 0.6451072931100258, 0.012965219904981506, 0.02968505190548575, 0.8036837210622036, 0.13248907376764166, 0.0340596911336626, 0.29613523884102166, 0.688006506039172, 0.015699477319014662, 0.15419774507860287, 0.1532648287298127, 0.20990617847778698, 0.40048766115920625, 0.08222991245764734, 0.302938314329324, 0.07349857220839955, 0.28639418426728197, 0.18087322025812322, 0.15631190672063788, 0.00021808463405140988, 0.4854563953984384, 0.18428151577344135, 0.33007109363680887, 0.08867828315340753, 0.02234787832820458, 0.1377326685617715, 0.5961811654719257, 0.15500868797861048, 0.9992763593295516, 0.9997570578157978, 0.9998017959167091, 0.9995794047273353, 0.00020089589111553676, 0.09341658936872459, 0.9063083301192248, 0.9992167358132894, 0.9994418435883594, 0.07251525000155391, 0.9268355390823609, 0.7482759028750067, 0.05586154123566622, 0.19503548417675903, 0.0005758921776872806, 0.9948445636335852, 0.005132637557600025, 0.07892485552392935, 0.029167881389278234, 0.8916220997232308, 0.7935267556652276, 0.12391162368712447, 0.08206067793849302, 0.9987623157755323, 0.999201386896258, 0.9998739123206254, 0.9999044479083307, 0.3398479299932868, 0.2884545681216125, 0.28837604503242736, 0.08327373608084118, 0.9989540664083386, 0.8039950876414793, 0.0018256019247081727, 0.00018256019247081727, 0.19387892440400795, 0.7762958092185787, 0.10128078363564698, 0.12239283430899311, 0.9996510342413761, 0.9988509605859877, 0.9994933465072144, 0.4642471250766896, 0.5356508197318155, 0.1259549439827391, 0.8740204779134139, 0.999399630406041, 0.9989081314370534, 0.7967746744280133, 0.015124318758525544, 0.09415420973617311, 0.09394119116210937, 0.17078930111820337, 0.6911132278168292, 0.1381165652521123, 0.2389176296326025, 0.41610802547610026, 0.3449331267452875, 0.8417302097769401, 0.15825067562496742, 0.9995349709035147, 0.9990147187547158, 0.08659996368699895, 0.35396636792245173, 0.5593849965554233, 0.9996769486855746, 0.9990697873916647, 0.7902952537778617, 0.09950797903407382, 0.005528221057448546, 0.030044679660046446, 0.07451080555691518, 0.42357338289679175, 0.0874267810091504, 0.4888402862478851, 5.90031697053076e-05, 0.9998677138261426, 0.9992858927563981, 0.999717448271165, 0.9985265049624485, 0.999757442209551, 0.6113609839997027, 0.3655728200098379, 0.022961914892007614, 0.20571868611467167, 0.001824433389353444, 0.7924122354425126, 0.0004466223638008522, 0.050542764170129775, 0.5605110665700695, 0.13696419156559467, 0.25159726494114676, 0.0037076349324114475, 0.0767068471572235, 0.004037202481959132, 0.9155386526434668, 0.1560725366381159, 0.2934514977464253, 0.5503940661024231, 0.09855811465572303, 0.9008700397456999, 0.9992814233527879, 0.22852318094947413, 0.7714358598917007, 0.8733017694904266, 0.11407106760487863, 0.012503943948996312, 0.00010968371885084484, 0.9996883345788997, 0.5740976862515579, 0.017231576820438972, 0.4083701039551947, 0.00030444482014909844, 0.3601436291391363, 0.19945823931331197, 0.07661336699566297, 0.36377161662385155, 0.9997269785921943, 0.7294184558368998, 0.1110170253907976, 0.15713178978389813, 0.0020739444303775373, 0.000365990193596036, 0.9995050993800364, 0.9993052374743563, 0.8998612647419442, 0.04096383369347656, 0.0026861530290804305, 0.055737675353418926, 0.4850502178507207, 0.07759415810652846, 0.19230862135790883, 0.10656187286909981, 0.13847839691887903, 0.998897797358429, 0.7904829546312637, 0.14608698594659408, 0.039434523813804544, 0.024198457794834604, 0.9904703690796766, 0.009314768361250876, 0.8072307051092964, 0.1500661264339513, 0.04251873582295287, 0.9990833752195847, 0.9998536193272699, 0.3730145949021138, 0.2085429479539714, 0.24000496006091043, 0.11464659275544127, 0.0637809661778803, 0.9992799903074231, 0.9994945700232855, 0.05414740186982168, 0.08536752547043959, 0.7702589869589949, 0.08975785535177648, 0.12287566129048855, 0.8768626967294822, 0.800228746754136, 0.08618957659947657, 0.025424121967628024, 0.08808286227791695, 0.739859060156095, 0.096076240832227, 0.07473167983363267, 0.08928712745436085, 0.2655010052333558, 0.12711849940260173, 0.2258473806853279, 0.31093519902748584, 0.07058237121525676, 0.07005629746011766, 0.9290074228406907, 0.9985590063871498, 0.025210459864208244, 0.13775715568656646, 0.8094358363544004, 0.027611456041751886, 0.9063699143688655, 0.09316577680737237, 0.41515336197886393, 0.22740125688003449, 0.3574528001858346, 0.013467451421593887, 0.9864317488623593, 0.0017228674849559557, 0.9982401887052617, 0.999728482025915, 0.999721905224064, 0.9994217901985678, 0.2778015172168402, 0.021964021127157198, 0.7002476735671301, 0.0005561898810113646, 0.9989170262964109, 0.0009974890250171579, 0.1372101569968046, 0.8617196855009337, 0.3120763867722521, 0.013254778107363231, 0.00022091296845605385, 0.37930756683904443, 0.2951397258572879, 0.5617909411664835, 0.1915983599240587, 0.08057704575302943, 0.09273044631909723, 0.0733457724162191, 0.8432843569812818, 0.08020767444237321, 0.07579257309692149, 0.2934053239770044, 0.2649963349754463, 0.1444509180176947, 0.06770654816332261, 0.22943111855981485, 0.1361764385371825, 0.04429835952414371, 0.8195196511966586, 0.998626629184881, 0.24366995119524484, 0.7562130849534029, 0.18943225248823753, 0.7201290354515041, 0.09039909213469348, 3.9788332805762975e-05, 0.18696631839360947, 0.01748605855479801, 0.00024456025950766444, 0.0040352442818764635, 0.7911524395072945, 0.10377539555177585, 0.020633704378715666, 0.8702568258552431, 0.005461862923777676, 0.31054650661843336, 0.42065421808727543, 0.15896132713996916, 0.10989391008734922, 0.015091161808082369, 0.0771954242344271, 0.3597524221223555, 0.45051684487010163, 0.09741845086485448], \"Term\": [\"70s\", \"album\", \"album\", \"amazing\", \"amazing\", \"amazing\", \"amazing\", \"amazing\", \"amazon\", \"amazon\", \"anyone\", \"anyone\", \"anyone\", \"anyone\", \"anyone\", \"anything\", \"anything\", \"anything\", \"anything\", \"anything\", \"artist\", \"artist\", \"artist\", \"artist\", \"artist\", \"audio\", \"available\", \"available\", \"bach\", \"bad\", \"bad\", \"band\", \"band\", \"bass\", \"bass\", \"beat\", \"beat\", \"beautiful\", \"beautiful\", \"beethoven\", \"best\", \"best\", \"best\", \"best\", \"best\", \"big\", \"big\", \"big\", \"big\", \"big\", \"bill\", \"bit\", \"bit\", \"bit\", \"bit\", \"blue\", \"bob\", \"bonus\", \"bonus\", \"bonus\", \"booklet\", \"booklet\", \"box\", \"buy\", \"buy\", \"buy\", \"car\", \"car\", \"car\", \"cast\", \"catchy\", \"cd\", \"cd\", \"century\", \"chart\", \"cheap\", \"child\", \"child\", \"child\", \"child\", \"christian\", \"christian\", \"christian\", \"christmas\", \"classic\", \"classic\", \"classic\", \"classic\", \"classical\", \"club\", \"club\", \"collection\", \"collection\", \"collection\", \"collection\", \"collector\", \"composer\", \"composition\", \"concert\", \"concert\", \"concert\", \"concert\", \"concerto\", \"conductor\", \"copy\", \"copy\", \"could\", \"could\", \"could\", \"could\", \"could\", \"dark\", \"dark\", \"daughter\", \"day\", \"day\", \"day\", \"day\", \"day\", \"de\", \"definitely\", \"definitely\", \"definitely\", \"definitely\", \"different\", \"different\", \"different\", \"different\", \"different\", \"disc\", \"disc\", \"download\", \"download\", \"drum\", \"drum\", \"drummer\", \"dvd\", \"dylan\", \"early\", \"early\", \"early\", \"edition\", \"electric\", \"electronic\", \"electronic\", \"enjoy\", \"enjoy\", \"enjoy\", \"enjoy\", \"ensemble\", \"even\", \"even\", \"even\", \"even\", \"even\", \"ever\", \"ever\", \"ever\", \"ever\", \"ever\", \"every\", \"every\", \"every\", \"every\", \"every\", \"extra\", \"family\", \"family\", \"fan\", \"fan\", \"fan\", \"fan\", \"father\", \"father\", \"father\", \"favorite\", \"favorite\", \"favorite\", \"favorite\", \"feature\", \"feature\", \"feature\", \"feel\", \"feel\", \"feel\", \"fine\", \"fine\", \"fine\", \"finish\", \"finish\", \"finish\", \"first\", \"first\", \"first\", \"first\", \"first\", \"format\", \"format\", \"friend\", \"friend\", \"friend\", \"funk\", \"gift\", \"gift\", \"give\", \"give\", \"give\", \"give\", \"give\", \"glad\", \"glad\", \"god\", \"god\", \"good\", \"good\", \"good\", \"good\", \"good\", \"gospel\", \"gospel\", \"great\", \"great\", \"great\", \"great\", \"great\", \"green\", \"group\", \"group\", \"group\", \"guitar\", \"guitarist\", \"happy\", \"happy\", \"happy\", \"happy\", \"hate\", \"head\", \"head\", \"head\", \"hear\", \"hear\", \"hear\", \"hear\", \"hear\", \"heart\", \"heart\", \"heart\", \"heart\", \"heavy\", \"heavy\", \"heavy\", \"hell\", \"hell\", \"hell\", \"highly\", \"highly\", \"highly\", \"highly\", \"hip\", \"hip\", \"hit\", \"hit\", \"hit\", \"hit\", \"holiday\", \"hook\", \"hop\", \"hop\", \"hot\", \"include\", \"include\", \"include\", \"instrument\", \"interpretation\", \"issue\", \"issue\", \"item\", \"jam\", \"james\", \"james\", \"jazz\", \"jimmy\", \"joe\", \"john\", \"john\", \"johnny\", \"johnny\", \"jones\", \"kid\", \"kid\", \"kind\", \"kind\", \"kind\", \"kind\", \"kind\", \"king\", \"king\", \"know\", \"know\", \"know\", \"know\", \"know\", \"la\", \"la\", \"late\", \"late\", \"late\", \"lead\", \"lead\", \"lead\", \"learn\", \"learn\", \"learn\", \"learn\", \"learn\", \"lee\", \"life\", \"life\", \"life\", \"life\", \"like\", \"like\", \"like\", \"like\", \"like\", \"listener\", \"listener\", \"listener\", \"little\", \"little\", \"little\", \"little\", \"little\", \"live\", \"live\", \"live\", \"lot\", \"lot\", \"lot\", \"lot\", \"lot\", \"love\", \"love\", \"love\", \"lp\", \"lyric\", \"lyric\", \"major\", \"man\", \"man\", \"man\", \"man\", \"many\", \"many\", \"many\", \"many\", \"many\", \"maybe\", \"maybe\", \"maybe\", \"member\", \"member\", \"memory\", \"memory\", \"memory\", \"metal\", \"mike\", \"mile\", \"minor\", \"money\", \"money\", \"mono\", \"mother\", \"mother\", \"mother\", \"movement\", \"movie\", \"mozart\", \"mp3\", \"much\", \"much\", \"much\", \"much\", \"much\", \"music\", \"music\", \"music\", \"music\", \"music\", \"musical\", \"musical\", \"musical\", \"musical\", \"musician\", \"musician\", \"musician\", \"never\", \"never\", \"never\", \"never\", \"never\", \"new\", \"new\", \"new\", \"new\", \"new\", \"note\", \"note\", \"note\", \"note\", \"old\", \"old\", \"old\", \"old\", \"old\", \"op\", \"opera\", \"orchestra\", \"orchestral\", \"original\", \"original\", \"original\", \"package\", \"packaging\", \"paul\", \"paul\", \"perform\", \"perform\", \"perform\", \"perform\", \"performance\", \"performance\", \"person\", \"person\", \"person\", \"personally\", \"personally\", \"personally\", \"photo\", \"pianist\", \"piano\", \"piece\", \"play\", \"play\", \"play\", \"play\", \"poor\", \"pretty\", \"pretty\", \"pretty\", \"pretty\", \"previous\", \"previous\", \"previous\", \"price\", \"print\", \"product\", \"purchase\", \"purchase\", \"quality\", \"quality\", \"quartet\", \"rap\", \"really\", \"really\", \"really\", \"really\", \"recommend\", \"recommend\", \"recommend\", \"record\", \"record\", \"record\", \"recording\", \"recording\", \"reissue\", \"relax\", \"release\", \"release\", \"release\", \"remastered\", \"remastering\", \"rest\", \"rest\", \"rest\", \"rest\", \"rest\", \"review\", \"review\", \"review\", \"rock\", \"rock\", \"role\", \"roll\", \"sax\", \"score\", \"seem\", \"seem\", \"seem\", \"set\", \"set\", \"set\", \"show\", \"show\", \"show\", \"show\", \"show\", \"sing\", \"sing\", \"sing\", \"sing\", \"singer\", \"singer\", \"singer\", \"sleep\", \"sleep\", \"sleeve\", \"solo\", \"solo\", \"something\", \"something\", \"something\", \"something\", \"sonata\", \"song\", \"song\", \"song\", \"song\", \"sound\", \"sound\", \"sound\", \"sound\", \"soundtrack\", \"start\", \"start\", \"start\", \"start\", \"start\", \"stereo\", \"steve\", \"stick\", \"stick\", \"stick\", \"stick\", \"still\", \"still\", \"still\", \"still\", \"still\", \"stone\", \"strange\", \"strange\", \"strange\", \"strange\", \"string\", \"string\", \"stuff\", \"stuff\", \"stuff\", \"swing\", \"symphony\", \"take\", \"take\", \"take\", \"take\", \"take\", \"tape\", \"thank\", \"thanks\", \"thanks\", \"thanks\", \"thanks\", \"theme\", \"theme\", \"thing\", \"thing\", \"thing\", \"thing\", \"think\", \"think\", \"think\", \"think\", \"time\", \"time\", \"time\", \"time\", \"time\", \"tire\", \"tire\", \"tom\", \"top\", \"top\", \"top\", \"top\", \"tour\", \"tour\", \"track\", \"track\", \"track\", \"tune\", \"tune\", \"version\", \"version\", \"video\", \"vinyl\", \"violin\", \"vocal\", \"vocal\", \"vocal\", \"vocalist\", \"vocalist\", \"voice\", \"voice\", \"voice\", \"want\", \"want\", \"want\", \"want\", \"want\", \"way\", \"way\", \"way\", \"way\", \"way\", \"weak\", \"weak\", \"weak\", \"well\", \"well\", \"well\", \"well\", \"well\", \"wife\", \"wife\", \"wife\", \"wilson\", \"wonderful\", \"wonderful\", \"work\", \"work\", \"work\", \"work\", \"worth\", \"worth\", \"worth\", \"worth\", \"worth\", \"wow\", \"wow\", \"wow\", \"wow\", \"write\", \"write\", \"write\", \"write\", \"year\", \"year\", \"year\", \"year\", \"year\"]}, \"R\": 30, \"lambda.step\": 0.01, \"plot.opts\": {\"xlab\": \"PC1\", \"ylab\": \"PC2\"}, \"topic.order\": [2, 4, 1, 3, 5]};\n",
       "\n",
       "function LDAvis_load_lib(url, callback){\n",
       "  var s = document.createElement('script');\n",
       "  s.src = url;\n",
       "  s.async = true;\n",
       "  s.onreadystatechange = s.onload = callback;\n",
       "  s.onerror = function(){console.warn(\"failed to load library \" + url);};\n",
       "  document.getElementsByTagName(\"head\")[0].appendChild(s);\n",
       "}\n",
       "\n",
       "if(typeof(LDAvis) !== \"undefined\"){\n",
       "   // already loaded: just create the visualization\n",
       "   !function(LDAvis){\n",
       "       new LDAvis(\"#\" + \"ldavis_el4507112822857808937087120\", ldavis_el4507112822857808937087120_data);\n",
       "   }(LDAvis);\n",
       "}else if(typeof define === \"function\" && define.amd){\n",
       "   // require.js is available: use it to load d3/LDAvis\n",
       "   require.config({paths: {d3: \"https://cdnjs.cloudflare.com/ajax/libs/d3/3.5.5/d3.min\"}});\n",
       "   require([\"d3\"], function(d3){\n",
       "      window.d3 = d3;\n",
       "      LDAvis_load_lib(\"https://cdn.rawgit.com/bmabey/pyLDAvis/files/ldavis.v1.0.0.js\", function(){\n",
       "        new LDAvis(\"#\" + \"ldavis_el4507112822857808937087120\", ldavis_el4507112822857808937087120_data);\n",
       "      });\n",
       "    });\n",
       "}else{\n",
       "    // require.js not available: dynamically load d3 & LDAvis\n",
       "    LDAvis_load_lib(\"https://cdnjs.cloudflare.com/ajax/libs/d3/3.5.5/d3.min.js\", function(){\n",
       "         LDAvis_load_lib(\"https://cdn.rawgit.com/bmabey/pyLDAvis/files/ldavis.v1.0.0.js\", function(){\n",
       "                 new LDAvis(\"#\" + \"ldavis_el4507112822857808937087120\", ldavis_el4507112822857808937087120_data);\n",
       "            })\n",
       "         });\n",
       "}\n",
       "</script>"
      ],
      "text/plain": [
       "PreparedData(topic_coordinates=                x           y  topics  cluster       Freq\n",
       "topic                                                    \n",
       "1       39.605427   45.080456       1        1  25.272541\n",
       "3      152.933212   -7.874372       2        1  20.698673\n",
       "0       88.800217 -110.377411       3        1  19.269662\n",
       "2      -24.416998 -152.830490       4        1  17.971358\n",
       "4      -53.737518  -31.226255       5        1  16.787766, topic_info=    Category          Freq      Term         Total  loglift  logprob\n",
       "24   Default  92732.000000     album  92732.000000  30.0000  30.0000\n",
       "120  Default  71879.000000        cd  71879.000000  29.0000  29.0000\n",
       "562  Default  71344.000000     music  71344.000000  28.0000  28.0000\n",
       "816  Default  82116.000000      song  82116.000000  27.0000  27.0000\n",
       "496  Default  37439.000000      love  37439.000000  26.0000  26.0000\n",
       "..       ...           ...       ...           ...      ...      ...\n",
       "967   Topic5   7438.307633      well  32419.316293   0.3124  -4.5671\n",
       "365   Topic5   8567.177292     great  52122.410099  -0.0211  -4.4258\n",
       "681   Topic5   4350.839496  purchase   8122.828977   1.1602  -5.1034\n",
       "734   Topic5   4434.285222    review   9070.447188   1.0689  -5.0844\n",
       "320   Topic5   4444.002134     first  28232.924753  -0.0644  -5.0822\n",
       "\n",
       "[332 rows x 6 columns], token_table=      Topic      Freq     Term\n",
       "term                          \n",
       "2         3  0.999533      70s\n",
       "24        1  0.985930    album\n",
       "24        3  0.014062    album\n",
       "34        1  0.102252  amazing\n",
       "34        2  0.003121  amazing\n",
       "...     ...       ...      ...\n",
       "995       1  0.015091     year\n",
       "995       2  0.077195     year\n",
       "995       3  0.359752     year\n",
       "995       4  0.450517     year\n",
       "995       5  0.097418     year\n",
       "\n",
       "[660 rows x 3 columns], R=30, lambda_step=0.01, plot_opts={'xlab': 'PC1', 'ylab': 'PC2'}, topic_order=[2, 4, 1, 3, 5])"
      ]
     },
     "execution_count": 25,
     "metadata": {},
     "output_type": "execute_result"
    }
   ],
   "source": [
    "#prepare to display result in the Jupyter notebook\n",
    "pyLDAvis.enable_notebook()\n",
    "\n",
    "#run the visualization [mds is a function to use for visualizing the \"distance\" between topics]\n",
    "pyLDAvis.sklearn.prepare(lda_corpus_5, bow_data , count_vect, mds='tsne')\n",
    "\n",
    "# lamba = 0: topic 1 : rock topic 2: classic music topic 3:genre and singer  topic 4:ballad topic 5: format and quality\n",
    "# lamba = 0.5: topic 1 : general evaluation topic 2: classic music topic 3: genre  topic 4:appreciation topic 5: format and quality \n",
    "# lamba = 1: topic 1 : general evaluation topic 2: classic music topic 3:genre topic 4:appreciation topic 5: format and quality "
   ]
  },
  {
   "cell_type": "markdown",
   "metadata": {},
   "source": [
    "### 7 Topics Model Visualization"
   ]
  },
  {
   "cell_type": "code",
   "execution_count": null,
   "metadata": {},
   "outputs": [],
   "source": [
    "#prepare to display result in the Jupyter notebook\n",
    "pyLDAvis.enable_notebook()\n",
    "\n",
    "#run the visualization [mds is a function to use for visualizing the \"distance\" between topics]\n",
    "pyLDAvis.sklearn.prepare(lda_corpus_7, bow_data , count_vect, mds='tsne')"
   ]
  },
  {
   "cell_type": "markdown",
   "metadata": {},
   "source": [
    "## Topic Model Evaluation: Log-likelihood, Perplexity and Coherence Scores"
   ]
  },
  {
   "cell_type": "code",
   "execution_count": 26,
   "metadata": {
    "scrolled": true
   },
   "outputs": [
    {
     "name": "stdout",
     "output_type": "stream",
     "text": [
      "Requirement already satisfied: gensim in /opt/anaconda3/lib/python3.7/site-packages (3.8.2)\n",
      "Requirement already satisfied: scipy>=1.0.0 in /opt/anaconda3/lib/python3.7/site-packages (from gensim) (1.3.1)\n",
      "Requirement already satisfied: numpy>=1.11.3 in /opt/anaconda3/lib/python3.7/site-packages (from gensim) (1.17.2)\n",
      "Requirement already satisfied: six>=1.5.0 in /opt/anaconda3/lib/python3.7/site-packages (from gensim) (1.12.0)\n",
      "Requirement already satisfied: smart-open>=1.8.1 in /opt/anaconda3/lib/python3.7/site-packages (from gensim) (1.11.1)\n",
      "Requirement already satisfied: boto in /opt/anaconda3/lib/python3.7/site-packages (from smart-open>=1.8.1->gensim) (2.49.0)\n",
      "Requirement already satisfied: requests in /opt/anaconda3/lib/python3.7/site-packages (from smart-open>=1.8.1->gensim) (2.22.0)\n",
      "Requirement already satisfied: boto3 in /opt/anaconda3/lib/python3.7/site-packages (from smart-open>=1.8.1->gensim) (1.12.39)\n",
      "Requirement already satisfied: chardet<3.1.0,>=3.0.2 in /opt/anaconda3/lib/python3.7/site-packages (from requests->smart-open>=1.8.1->gensim) (3.0.4)\n",
      "Requirement already satisfied: urllib3!=1.25.0,!=1.25.1,<1.26,>=1.21.1 in /opt/anaconda3/lib/python3.7/site-packages (from requests->smart-open>=1.8.1->gensim) (1.24.2)\n",
      "Requirement already satisfied: idna<2.9,>=2.5 in /opt/anaconda3/lib/python3.7/site-packages (from requests->smart-open>=1.8.1->gensim) (2.8)\n",
      "Requirement already satisfied: certifi>=2017.4.17 in /opt/anaconda3/lib/python3.7/site-packages (from requests->smart-open>=1.8.1->gensim) (2019.9.11)\n",
      "Requirement already satisfied: s3transfer<0.4.0,>=0.3.0 in /opt/anaconda3/lib/python3.7/site-packages (from boto3->smart-open>=1.8.1->gensim) (0.3.3)\n",
      "Requirement already satisfied: jmespath<1.0.0,>=0.7.1 in /opt/anaconda3/lib/python3.7/site-packages (from boto3->smart-open>=1.8.1->gensim) (0.9.5)\n",
      "Requirement already satisfied: botocore<1.16.0,>=1.15.39 in /opt/anaconda3/lib/python3.7/site-packages (from boto3->smart-open>=1.8.1->gensim) (1.15.39)\n",
      "Requirement already satisfied: docutils<0.16,>=0.10 in /opt/anaconda3/lib/python3.7/site-packages (from botocore<1.16.0,>=1.15.39->boto3->smart-open>=1.8.1->gensim) (0.15.2)\n",
      "Requirement already satisfied: python-dateutil<3.0.0,>=2.1 in /opt/anaconda3/lib/python3.7/site-packages (from botocore<1.16.0,>=1.15.39->boto3->smart-open>=1.8.1->gensim) (2.8.0)\n"
     ]
    }
   ],
   "source": [
    "!{sys.executable} -m pip install gensim\n",
    "import gensim\n",
    "\n",
    "from gensim.models.coherencemodel import CoherenceModel\n",
    "from gensim.corpora.dictionary import Dictionary"
   ]
  },
  {
   "cell_type": "markdown",
   "metadata": {},
   "source": [
    "## Coherence score "
   ]
  },
  {
   "cell_type": "markdown",
   "metadata": {},
   "source": [
    "### 3 Topics"
   ]
  },
  {
   "cell_type": "code",
   "execution_count": null,
   "metadata": {},
   "outputs": [],
   "source": [
    "#tokenizing the corpus\n",
    "news_corpus_tokenized = [tokenize_text(normalized_cd_corpus[doc_id]) for doc_id in range(len(normalized_cd_corpus))]\n",
    "\n",
    "#Dictionary of the corpus:\n",
    "news_dictionary = Dictionary(news_corpus_tokenized)\n",
    "\n",
    "#Bag-of-words representation for each document of the corpus:\n",
    "news_corpus_bow = [news_dictionary.doc2bow(doc) for doc in news_corpus_tokenized]\n",
    "\n",
    "#top 20 words for each topic (using the function defined in session prep)\n",
    "topic_topwords = get_topic_words(vectorizer = count_vect, lda_model = lda_corpus_3, n_words=20)\n",
    "\n",
    "cm = CoherenceModel(topics=topic_topwords, \n",
    "                    corpus = news_corpus_bow , \n",
    "                    dictionary = news_dictionary, coherence='u_mass')\n",
    "print(\"Coherence score for the model: \", np.round(cm.get_coherence(), 4))  \n",
    "\n",
    "print(\"Coherence score by topic (higher values are better): \", np.round(cm.get_coherence_per_topic(),4))"
   ]
  },
  {
   "cell_type": "markdown",
   "metadata": {},
   "source": [
    "### 5 Topics"
   ]
  },
  {
   "cell_type": "code",
   "execution_count": 28,
   "metadata": {},
   "outputs": [
    {
     "name": "stdout",
     "output_type": "stream",
     "text": [
      "Coherence score for the model:  -1.6868\n"
     ]
    }
   ],
   "source": [
    "#tokenizing the corpus\n",
    "news_corpus_tokenized = [tokenize_text(normalized_cd_corpus[doc_id]) for doc_id in range(len(normalized_cd_corpus))]\n",
    "\n",
    "#Dictionary of the corpus:\n",
    "news_dictionary = Dictionary(news_corpus_tokenized)\n",
    "\n",
    "#Bag-of-words representation for each document of the corpus:\n",
    "news_corpus_bow = [news_dictionary.doc2bow(doc) for doc in news_corpus_tokenized]\n",
    "\n",
    "#top 20 words for each topic (using the function defined in session prep)\n",
    "topic_topwords = get_topic_words(vectorizer = count_vect, lda_model = lda_corpus_5, n_words=20)\n",
    "\n",
    "cm = CoherenceModel(topics=topic_topwords, \n",
    "                    corpus = news_corpus_bow , \n",
    "                    dictionary = news_dictionary, coherence='u_mass')\n",
    "print(\"Coherence score for the model: \", np.round(cm.get_coherence(), 4))  # get coherence value"
   ]
  },
  {
   "cell_type": "code",
   "execution_count": 29,
   "metadata": {},
   "outputs": [
    {
     "name": "stdout",
     "output_type": "stream",
     "text": [
      "Coherence score by topic (higher values are better):  [-1.691  -1.483  -1.7701 -1.7831 -1.7069]\n"
     ]
    }
   ],
   "source": [
    "print(\"Coherence score by topic (higher values are better): \", np.round(cm.get_coherence_per_topic(),4))"
   ]
  },
  {
   "cell_type": "markdown",
   "metadata": {},
   "source": [
    "### 7 Topics"
   ]
  },
  {
   "cell_type": "code",
   "execution_count": null,
   "metadata": {},
   "outputs": [],
   "source": [
    "#tokenizing the corpus\n",
    "news_corpus_tokenized = [tokenize_text(normalized_cd_corpus[doc_id]) for doc_id in range(len(normalized_cd_corpus))]\n",
    "\n",
    "#Dictionary of the corpus:\n",
    "news_dictionary = Dictionary(news_corpus_tokenized)\n",
    "\n",
    "#Bag-of-words representation for each document of the corpus:\n",
    "news_corpus_bow = [news_dictionary.doc2bow(doc) for doc in news_corpus_tokenized]\n",
    "\n",
    "#top 20 words for each topic (using the function defined in session prep)\n",
    "topic_topwords = get_topic_words(vectorizer = count_vect, lda_model = lda_corpus_7, n_words=20)\n",
    "\n",
    "cm = CoherenceModel(topics=topic_topwords, \n",
    "                    corpus = news_corpus_bow , \n",
    "                    dictionary = news_dictionary, coherence='u_mass')\n",
    "print(\"Coherence score for the model: \", np.round(cm.get_coherence(), 4)) \n",
    "\n",
    "print(\"Coherence score by topic (higher values are better): \", np.round(cm.get_coherence_per_topic(),4))"
   ]
  },
  {
   "cell_type": "markdown",
   "metadata": {},
   "source": [
    "## Log-Likelihood Score"
   ]
  },
  {
   "cell_type": "markdown",
   "metadata": {},
   "source": [
    "### 3 Topics"
   ]
  },
  {
   "cell_type": "code",
   "execution_count": null,
   "metadata": {},
   "outputs": [],
   "source": [
    "print(\"Log-Likelihood (higher values are better): \", lda_corpus_3.score(bow_data))"
   ]
  },
  {
   "cell_type": "markdown",
   "metadata": {},
   "source": [
    "### 5 Topics"
   ]
  },
  {
   "cell_type": "code",
   "execution_count": 30,
   "metadata": {
    "scrolled": true
   },
   "outputs": [
    {
     "name": "stdout",
     "output_type": "stream",
     "text": [
      "Log-Likelihood (higher values are better):  -26558455.66116012\n"
     ]
    }
   ],
   "source": [
    "print(\"Log-Likelihood (higher values are better): \", lda_corpus_5.score(bow_data))"
   ]
  },
  {
   "cell_type": "markdown",
   "metadata": {},
   "source": [
    "### 7 Topics"
   ]
  },
  {
   "cell_type": "code",
   "execution_count": null,
   "metadata": {},
   "outputs": [],
   "source": [
    "print(\"Log-Likelihood (higher values are better): \", lda_corpus_7.score(bow_data))"
   ]
  },
  {
   "cell_type": "markdown",
   "metadata": {},
   "source": [
    "## Perplexity Score"
   ]
  },
  {
   "cell_type": "markdown",
   "metadata": {},
   "source": [
    "### 3 Topics"
   ]
  },
  {
   "cell_type": "code",
   "execution_count": null,
   "metadata": {},
   "outputs": [],
   "source": [
    "print(\"Perplexity (lower values are better): \", lda_corpus_3.perplexity(bow_data))"
   ]
  },
  {
   "cell_type": "markdown",
   "metadata": {},
   "source": [
    "### 5 Topics"
   ]
  },
  {
   "cell_type": "code",
   "execution_count": 31,
   "metadata": {},
   "outputs": [
    {
     "name": "stdout",
     "output_type": "stream",
     "text": [
      "Perplexity (lower values are better):  506.0233830751827\n"
     ]
    }
   ],
   "source": [
    "print(\"Perplexity (lower values are better): \", lda_corpus_5.perplexity(bow_data))"
   ]
  },
  {
   "cell_type": "markdown",
   "metadata": {},
   "source": [
    "### 7 Topics"
   ]
  },
  {
   "cell_type": "code",
   "execution_count": null,
   "metadata": {},
   "outputs": [],
   "source": [
    "print(\"Perplexity (lower values are better): \", lda_corpus_7.perplexity(bow_data))"
   ]
  },
  {
   "cell_type": "markdown",
   "metadata": {},
   "source": [
    "# Sentiment Analysis"
   ]
  },
  {
   "cell_type": "markdown",
   "metadata": {
    "colab_type": "text",
    "id": "9fpu7__sd-BT"
   },
   "source": [
    "## Feature Extraction"
   ]
  },
  {
   "cell_type": "code",
   "execution_count": null,
   "metadata": {
    "colab": {},
    "colab_type": "code",
    "id": "DFrbj4s6N9fq"
   },
   "outputs": [],
   "source": [
    "normalized_cd_corpus=pd.read_csv(\"normalized_cd_corpus.csv\",dtype={\"0\":str})[\"0\"].apply(lambda x: np.str_(x))"
   ]
  },
  {
   "cell_type": "markdown",
   "metadata": {
    "colab_type": "text",
    "id": "9CEmqq6XqXUK"
   },
   "source": [
    "### Split dataset"
   ]
  },
  {
   "cell_type": "code",
   "execution_count": null,
   "metadata": {
    "colab": {},
    "colab_type": "code",
    "id": "EpX7DVEf7Mm3"
   },
   "outputs": [],
   "source": [
    "other_info=pd.read_csv(\"merge_df_other_info.csv\")\n",
    "polarity=other_info[\"overall\"]\n",
    "product=other_info[\"brand\"]\n",
    "\n",
    "from sklearn.model_selection import train_test_split\n",
    "train_reviews, test_reviews, train_polarity, test_polarity,train_product,test_product = train_test_split(normalized_cd_corpus, \n",
    "                                                                                                         polarity, \n",
    "                                                                                                         test_size=0.2)"
   ]
  },
  {
   "cell_type": "code",
   "execution_count": null,
   "metadata": {
    "colab": {},
    "colab_type": "code",
    "id": "S7U-lixlBPoJ"
   },
   "outputs": [],
   "source": [
    "def get_polarity(score):\n",
    "    if score>3:\n",
    "        return \"positive\"\n",
    "    elif score==3:\n",
    "        return \"neutral\"\n",
    "    else:\n",
    "        return \"negative\"\n",
    "\n",
    "train_polarity=train_polarity.apply(get_polarity)\n",
    "test_polarity=test_polarity.apply(get_polarity)"
   ]
  },
  {
   "cell_type": "code",
   "execution_count": 9,
   "metadata": {
    "colab": {
     "base_uri": "https://localhost:8080/",
     "height": 69
    },
    "colab_type": "code",
    "id": "aTkrCJS0AEDA",
    "outputId": "fcdb36d9-61e3-4769-a9f1-0d2601f69bcd"
   },
   "outputs": [
    {
     "name": "stdout",
     "output_type": "stream",
     "text": [
      "[nltk_data] Downloading package vader_lexicon to /root/nltk_data...\n",
      "[nltk_data]   Package vader_lexicon is already up-to-date!\n"
     ]
    },
    {
     "data": {
      "text/plain": [
       "True"
      ]
     },
     "execution_count": 9,
     "metadata": {
      "tags": []
     },
     "output_type": "execute_result"
    }
   ],
   "source": [
    "nltk.download('vader_lexicon')"
   ]
  },
  {
   "cell_type": "markdown",
   "metadata": {
    "colab_type": "text",
    "id": "oTYyZchsayxD"
   },
   "source": [
    "### Bag-of-words\n",
    "Limit the number of features to 1000 most frequent features."
   ]
  },
  {
   "cell_type": "code",
   "execution_count": null,
   "metadata": {
    "colab": {},
    "colab_type": "code",
    "id": "sxsCzvSQVllb"
   },
   "outputs": [],
   "source": [
    "from sklearn.feature_extraction.text import CountVectorizer\n",
    "\n",
    "vectorizer = CountVectorizer(max_features=1000) \n",
    "feature_matrix_TRAIN = vectorizer.fit_transform(train_reviews).astype(float)"
   ]
  },
  {
   "cell_type": "code",
   "execution_count": 105,
   "metadata": {
    "colab": {
     "base_uri": "https://localhost:8080/",
     "height": 1000
    },
    "colab_type": "code",
    "id": "HJihEBfKV6DB",
    "outputId": "18c8657f-84f6-4bec-ed31-6d6033aef749",
    "scrolled": true
   },
   "outputs": [
    {
     "data": {
      "text/plain": [
       "['2nd',\n",
       " '60s',\n",
       " '70s',\n",
       " '80s',\n",
       " '90s',\n",
       " 'ability',\n",
       " 'able',\n",
       " 'absolute',\n",
       " 'absolutely',\n",
       " 'accompany',\n",
       " 'acoustic',\n",
       " 'across',\n",
       " 'act',\n",
       " 'actual',\n",
       " 'actually',\n",
       " 'add',\n",
       " 'addition',\n",
       " 'admit',\n",
       " 'age',\n",
       " 'ago',\n",
       " 'agree',\n",
       " 'ahead',\n",
       " 'air',\n",
       " 'al',\n",
       " 'album',\n",
       " 'alive',\n",
       " 'allow',\n",
       " 'almost',\n",
       " 'alone',\n",
       " 'along',\n",
       " 'already',\n",
       " 'although',\n",
       " 'always',\n",
       " 'amaze',\n",
       " 'amazing',\n",
       " 'amazon',\n",
       " 'america',\n",
       " 'american',\n",
       " 'among',\n",
       " 'angel',\n",
       " 'another',\n",
       " 'anyone',\n",
       " 'anything',\n",
       " 'anyway',\n",
       " 'appeal',\n",
       " 'appear',\n",
       " 'appreciate',\n",
       " 'approach',\n",
       " 'around',\n",
       " 'arrangement',\n",
       " 'arrive',\n",
       " 'art',\n",
       " 'artist',\n",
       " 'attempt',\n",
       " 'attention',\n",
       " 'audience',\n",
       " 'audio',\n",
       " 'available',\n",
       " 'away',\n",
       " 'awesome',\n",
       " 'baby',\n",
       " 'bach',\n",
       " 'background',\n",
       " 'bad',\n",
       " 'balance',\n",
       " 'ballad',\n",
       " 'band',\n",
       " 'bar',\n",
       " 'base',\n",
       " 'bass',\n",
       " 'beach',\n",
       " 'bear',\n",
       " 'beat',\n",
       " 'beatles',\n",
       " 'beautiful',\n",
       " 'beautifully',\n",
       " 'beauty',\n",
       " 'become',\n",
       " 'beethoven',\n",
       " 'begin',\n",
       " 'beginning',\n",
       " 'behind',\n",
       " 'believe',\n",
       " 'best',\n",
       " 'beyond',\n",
       " 'big',\n",
       " 'bill',\n",
       " 'billy',\n",
       " 'bit',\n",
       " 'black',\n",
       " 'blend',\n",
       " 'blow',\n",
       " 'blue',\n",
       " 'bob',\n",
       " 'body',\n",
       " 'bonus',\n",
       " 'book',\n",
       " 'booklet',\n",
       " 'box',\n",
       " 'boy',\n",
       " 'brahms',\n",
       " 'break',\n",
       " 'brilliant',\n",
       " 'bring',\n",
       " 'british',\n",
       " 'brother',\n",
       " 'brown',\n",
       " 'build',\n",
       " 'buy',\n",
       " 'call',\n",
       " 'capture',\n",
       " 'car',\n",
       " 'care',\n",
       " 'career',\n",
       " 'carry',\n",
       " 'case',\n",
       " 'cast',\n",
       " 'catch',\n",
       " 'catchy',\n",
       " 'cd',\n",
       " 'cello',\n",
       " 'century',\n",
       " 'certain',\n",
       " 'certainly',\n",
       " 'chamber',\n",
       " 'chance',\n",
       " 'change',\n",
       " 'character',\n",
       " 'chart',\n",
       " 'cheap',\n",
       " 'check',\n",
       " 'chicago',\n",
       " 'child',\n",
       " 'choice',\n",
       " 'choir',\n",
       " 'choose',\n",
       " 'chord',\n",
       " 'chorus',\n",
       " 'chris',\n",
       " 'christian',\n",
       " 'christmas',\n",
       " 'city',\n",
       " 'class',\n",
       " 'classic',\n",
       " 'classical',\n",
       " 'clean',\n",
       " 'clear',\n",
       " 'clearly',\n",
       " 'close',\n",
       " 'club',\n",
       " 'collection',\n",
       " 'collector',\n",
       " 'color',\n",
       " 'combination',\n",
       " 'combine',\n",
       " 'comment',\n",
       " 'commercial',\n",
       " 'company',\n",
       " 'compare',\n",
       " 'comparison',\n",
       " 'compilation',\n",
       " 'complaint',\n",
       " 'complete',\n",
       " 'completely',\n",
       " 'complex',\n",
       " 'compose',\n",
       " 'composer',\n",
       " 'composition',\n",
       " 'concept',\n",
       " 'concert',\n",
       " 'concerto',\n",
       " 'conduct',\n",
       " 'conductor',\n",
       " 'consider',\n",
       " 'contain',\n",
       " 'contemporary',\n",
       " 'content',\n",
       " 'continue',\n",
       " 'control',\n",
       " 'cool',\n",
       " 'copy',\n",
       " 'could',\n",
       " 'country',\n",
       " 'couple',\n",
       " 'course',\n",
       " 'cover',\n",
       " 'crazy',\n",
       " 'create',\n",
       " 'creative',\n",
       " 'credit',\n",
       " 'cry',\n",
       " 'current',\n",
       " 'cut',\n",
       " 'dance',\n",
       " 'dark',\n",
       " 'date',\n",
       " 'daughter',\n",
       " 'dave',\n",
       " 'david',\n",
       " 'davis',\n",
       " 'day',\n",
       " 'de',\n",
       " 'dead',\n",
       " 'deal',\n",
       " 'death',\n",
       " 'debut',\n",
       " 'decade',\n",
       " 'decent',\n",
       " 'decide',\n",
       " 'deep',\n",
       " 'definitely',\n",
       " 'delight',\n",
       " 'deliver',\n",
       " 'depth',\n",
       " 'describe',\n",
       " 'deserve',\n",
       " 'despite',\n",
       " 'detail',\n",
       " 'die',\n",
       " 'difference',\n",
       " 'different',\n",
       " 'difficult',\n",
       " 'digital',\n",
       " 'direction',\n",
       " 'disappoint',\n",
       " 'disappointed',\n",
       " 'disappointment',\n",
       " 'disc',\n",
       " 'disco',\n",
       " 'discover',\n",
       " 'disk',\n",
       " 'display',\n",
       " 'double',\n",
       " 'doubt',\n",
       " 'download',\n",
       " 'dramatic',\n",
       " 'draw',\n",
       " 'dream',\n",
       " 'drive',\n",
       " 'drop',\n",
       " 'drum',\n",
       " 'drummer',\n",
       " 'due',\n",
       " 'duet',\n",
       " 'dvd',\n",
       " 'dylan',\n",
       " 'dynamic',\n",
       " 'ear',\n",
       " 'early',\n",
       " 'earth',\n",
       " 'easily',\n",
       " 'easy',\n",
       " 'edge',\n",
       " 'edition',\n",
       " 'effect',\n",
       " 'effort',\n",
       " 'either',\n",
       " 'electric',\n",
       " 'electronic',\n",
       " 'element',\n",
       " 'else',\n",
       " 'elvis',\n",
       " 'emotion',\n",
       " 'emotional',\n",
       " 'end',\n",
       " 'energy',\n",
       " 'english',\n",
       " 'enjoy',\n",
       " 'enjoyable',\n",
       " 'enough',\n",
       " 'ensemble',\n",
       " 'entire',\n",
       " 'epic',\n",
       " 'era',\n",
       " 'especially',\n",
       " 'essential',\n",
       " 'etc',\n",
       " 'even',\n",
       " 'ever',\n",
       " 'every',\n",
       " 'everyone',\n",
       " 'everything',\n",
       " 'exactly',\n",
       " 'example',\n",
       " 'excellent',\n",
       " 'except',\n",
       " 'exception',\n",
       " 'excite',\n",
       " 'expect',\n",
       " 'experience',\n",
       " 'extra',\n",
       " 'extremely',\n",
       " 'eye',\n",
       " 'fabulous',\n",
       " 'face',\n",
       " 'fact',\n",
       " 'fall',\n",
       " 'familiar',\n",
       " 'family',\n",
       " 'famous',\n",
       " 'fan',\n",
       " 'fantastic',\n",
       " 'far',\n",
       " 'fast',\n",
       " 'father',\n",
       " 'favorite',\n",
       " 'feature',\n",
       " 'feel',\n",
       " 'feeling',\n",
       " 'felt',\n",
       " 'female',\n",
       " 'figure',\n",
       " 'fill',\n",
       " 'film',\n",
       " 'final',\n",
       " 'finally',\n",
       " 'fine',\n",
       " 'finish',\n",
       " 'fire',\n",
       " 'first',\n",
       " 'fit',\n",
       " 'flat',\n",
       " 'flow',\n",
       " 'flute',\n",
       " 'focus',\n",
       " 'folk',\n",
       " 'follow',\n",
       " 'force',\n",
       " 'forever',\n",
       " 'forget',\n",
       " 'form',\n",
       " 'format',\n",
       " 'forward',\n",
       " 'frank',\n",
       " 'free',\n",
       " 'french',\n",
       " 'fresh',\n",
       " 'friend',\n",
       " 'front',\n",
       " 'full',\n",
       " 'fully',\n",
       " 'fun',\n",
       " 'funk',\n",
       " 'funky',\n",
       " 'funny',\n",
       " 'future',\n",
       " 'game',\n",
       " 'gem',\n",
       " 'general',\n",
       " 'generally',\n",
       " 'generation',\n",
       " 'genius',\n",
       " 'genre',\n",
       " 'george',\n",
       " 'german',\n",
       " 'gift',\n",
       " 'girl',\n",
       " 'give',\n",
       " 'glad',\n",
       " 'god',\n",
       " 'gold',\n",
       " 'good',\n",
       " 'gorgeous',\n",
       " 'gospel',\n",
       " 'grand',\n",
       " 'great',\n",
       " 'green',\n",
       " 'groove',\n",
       " 'group',\n",
       " 'grow',\n",
       " 'guess',\n",
       " 'guitar',\n",
       " 'guitarist',\n",
       " 'guy',\n",
       " 'half',\n",
       " 'hall',\n",
       " 'hand',\n",
       " 'happen',\n",
       " 'happy',\n",
       " 'hard',\n",
       " 'harmony',\n",
       " 'hate',\n",
       " 'head',\n",
       " 'hear',\n",
       " 'heard',\n",
       " 'heart',\n",
       " 'heaven',\n",
       " 'heavy',\n",
       " 'hell',\n",
       " 'help',\n",
       " 'high',\n",
       " 'highlight',\n",
       " 'highly',\n",
       " 'hip',\n",
       " 'history',\n",
       " 'hit',\n",
       " 'hold',\n",
       " 'holiday',\n",
       " 'home',\n",
       " 'hook',\n",
       " 'hop',\n",
       " 'hope',\n",
       " 'horn',\n",
       " 'hot',\n",
       " 'hour',\n",
       " 'house',\n",
       " 'however',\n",
       " 'huge',\n",
       " 'human',\n",
       " 'idea',\n",
       " 'ii',\n",
       " 'imagine',\n",
       " 'immediately',\n",
       " 'important',\n",
       " 'impressive',\n",
       " 'include',\n",
       " 'incredible',\n",
       " 'indeed',\n",
       " 'individual',\n",
       " 'influence',\n",
       " 'information',\n",
       " 'inside',\n",
       " 'inspire',\n",
       " 'instead',\n",
       " 'instrument',\n",
       " 'instrumental',\n",
       " 'interest',\n",
       " 'interested',\n",
       " 'interesting',\n",
       " 'interpretation',\n",
       " 'interview',\n",
       " 'introduce',\n",
       " 'introduction',\n",
       " 'issue',\n",
       " 'italian',\n",
       " 'item',\n",
       " 'jam',\n",
       " 'james',\n",
       " 'jazz',\n",
       " 'jimmy',\n",
       " 'job',\n",
       " 'joe',\n",
       " 'john',\n",
       " 'johnny',\n",
       " 'jones',\n",
       " 'journey',\n",
       " 'joy',\n",
       " 'keep',\n",
       " 'key',\n",
       " 'keyboard',\n",
       " 'kick',\n",
       " 'kid',\n",
       " 'kind',\n",
       " 'king',\n",
       " 'know',\n",
       " 'la',\n",
       " 'label',\n",
       " 'lack',\n",
       " 'lady',\n",
       " 'language',\n",
       " 'large',\n",
       " 'last',\n",
       " 'late',\n",
       " 'later',\n",
       " 'lay',\n",
       " 'le',\n",
       " 'lead',\n",
       " 'learn',\n",
       " 'least',\n",
       " 'leave',\n",
       " 'lee',\n",
       " 'length',\n",
       " 'less',\n",
       " 'let',\n",
       " 'level',\n",
       " 'life',\n",
       " 'light',\n",
       " 'like',\n",
       " 'likely',\n",
       " 'line',\n",
       " 'liner',\n",
       " 'list',\n",
       " 'listener',\n",
       " 'listening',\n",
       " 'little',\n",
       " 'live',\n",
       " 'london',\n",
       " 'long',\n",
       " 'longer',\n",
       " 'look',\n",
       " 'lose',\n",
       " 'lot',\n",
       " 'loud',\n",
       " 'love',\n",
       " 'lovely',\n",
       " 'lover',\n",
       " 'low',\n",
       " 'lp',\n",
       " 'lyric',\n",
       " 'lyrical',\n",
       " 'machine',\n",
       " 'magic',\n",
       " 'magnificent',\n",
       " 'mahler',\n",
       " 'main',\n",
       " 'major',\n",
       " 'man',\n",
       " 'manage',\n",
       " 'many',\n",
       " 'mark',\n",
       " 'martin',\n",
       " 'master',\n",
       " 'masterpiece',\n",
       " 'match',\n",
       " 'material',\n",
       " 'matter',\n",
       " 'mature',\n",
       " 'may',\n",
       " 'maybe',\n",
       " 'mean',\n",
       " 'meet',\n",
       " 'mellow',\n",
       " 'melodic',\n",
       " 'melody',\n",
       " 'member',\n",
       " 'memorable',\n",
       " 'memory',\n",
       " 'mention',\n",
       " 'message',\n",
       " 'metal',\n",
       " 'michael',\n",
       " 'mid',\n",
       " 'middle',\n",
       " 'might',\n",
       " 'mike',\n",
       " 'mile',\n",
       " 'mind',\n",
       " 'mine',\n",
       " 'minor',\n",
       " 'minute',\n",
       " 'miss',\n",
       " 'mix',\n",
       " 'mixed',\n",
       " 'modern',\n",
       " 'moment',\n",
       " 'money',\n",
       " 'mono',\n",
       " 'month',\n",
       " 'mood',\n",
       " 'moon',\n",
       " 'morning',\n",
       " 'mostly',\n",
       " 'mother',\n",
       " 'move',\n",
       " 'movement',\n",
       " 'movie',\n",
       " 'mozart',\n",
       " 'mp3',\n",
       " 'much',\n",
       " 'music',\n",
       " 'musical',\n",
       " 'musically',\n",
       " 'musician',\n",
       " 'musicianship',\n",
       " 'must',\n",
       " 'na',\n",
       " 'name',\n",
       " 'nature',\n",
       " 'near',\n",
       " 'nearly',\n",
       " 'need',\n",
       " 'never',\n",
       " 'new',\n",
       " 'next',\n",
       " 'nice',\n",
       " 'nicely',\n",
       " 'night',\n",
       " 'noise',\n",
       " 'non',\n",
       " 'none',\n",
       " 'notch',\n",
       " 'note',\n",
       " 'nothing',\n",
       " 'notice',\n",
       " 'number',\n",
       " 'obvious',\n",
       " 'obviously',\n",
       " 'offer',\n",
       " 'often',\n",
       " 'oh',\n",
       " 'ok',\n",
       " 'old',\n",
       " 'op',\n",
       " 'open',\n",
       " 'opening',\n",
       " 'opera',\n",
       " 'opinion',\n",
       " 'orchestra',\n",
       " 'orchestral',\n",
       " 'order',\n",
       " 'organ',\n",
       " 'original',\n",
       " 'originally',\n",
       " 'others',\n",
       " 'otherwise',\n",
       " 'outstanding',\n",
       " 'overall',\n",
       " 'pace',\n",
       " 'package',\n",
       " 'packaging',\n",
       " 'page',\n",
       " 'part',\n",
       " 'particular',\n",
       " 'particularly',\n",
       " 'party',\n",
       " 'pass',\n",
       " 'passage',\n",
       " 'passion',\n",
       " 'past',\n",
       " 'paul',\n",
       " 'pay',\n",
       " 'people',\n",
       " 'percussion',\n",
       " 'perfect',\n",
       " 'perfectly',\n",
       " 'perform',\n",
       " 'performance',\n",
       " 'performer',\n",
       " 'perhaps',\n",
       " 'period',\n",
       " 'person',\n",
       " 'personal',\n",
       " 'personally',\n",
       " 'peter',\n",
       " 'photo',\n",
       " 'pianist',\n",
       " 'piano',\n",
       " 'pick',\n",
       " 'picture',\n",
       " 'piece',\n",
       " 'place',\n",
       " 'play',\n",
       " 'player',\n",
       " 'playing',\n",
       " 'pleasant',\n",
       " 'please',\n",
       " 'pleasure',\n",
       " 'plenty',\n",
       " 'plus',\n",
       " 'point',\n",
       " 'poor',\n",
       " 'pop',\n",
       " 'popular',\n",
       " 'possible',\n",
       " 'possibly',\n",
       " 'post',\n",
       " 'power',\n",
       " 'powerful',\n",
       " 'praise',\n",
       " 'pre',\n",
       " 'prefer',\n",
       " 'present',\n",
       " 'pretty',\n",
       " 'previous',\n",
       " 'previously',\n",
       " 'price',\n",
       " 'print',\n",
       " 'probably',\n",
       " 'problem',\n",
       " 'produce',\n",
       " 'producer',\n",
       " 'product',\n",
       " 'production',\n",
       " 'prog',\n",
       " 'program',\n",
       " 'progressive',\n",
       " 'project',\n",
       " 'prove',\n",
       " 'provide',\n",
       " 'pull',\n",
       " 'punk',\n",
       " 'purchase',\n",
       " 'pure',\n",
       " 'put',\n",
       " 'quality',\n",
       " 'quartet',\n",
       " 'question',\n",
       " 'quickly',\n",
       " 'quiet',\n",
       " 'quite',\n",
       " 'radio',\n",
       " 'range',\n",
       " 'rap',\n",
       " 'rare',\n",
       " 'rate',\n",
       " 'rather',\n",
       " 'rating',\n",
       " 'raw',\n",
       " 'ray',\n",
       " 'reach',\n",
       " 'read',\n",
       " 'reading',\n",
       " 'real',\n",
       " 'realize',\n",
       " 'really',\n",
       " 'reason',\n",
       " 'receive',\n",
       " 'recent',\n",
       " 'recently',\n",
       " 'recommend',\n",
       " 'record',\n",
       " 'recording',\n",
       " 'red',\n",
       " 'regard',\n",
       " 'regret',\n",
       " 'reissue',\n",
       " 'relax',\n",
       " 'release',\n",
       " 'remain',\n",
       " 'remarkable',\n",
       " 'remastered',\n",
       " 'remastering',\n",
       " 'remember',\n",
       " 'remind',\n",
       " 'remix',\n",
       " 'rendition',\n",
       " 'repeat',\n",
       " 'replace',\n",
       " 'represent',\n",
       " 'respect',\n",
       " 'rest',\n",
       " 'result',\n",
       " 'return',\n",
       " 'review',\n",
       " 'reviewer',\n",
       " 'rhythm',\n",
       " 'rich',\n",
       " 'richard',\n",
       " 'ride',\n",
       " 'riff',\n",
       " 'right',\n",
       " 'rip',\n",
       " 'road',\n",
       " 'robert',\n",
       " 'rock',\n",
       " 'rocker',\n",
       " 'role',\n",
       " 'roll',\n",
       " 'romantic',\n",
       " 'room',\n",
       " 'root',\n",
       " 'run',\n",
       " 'rush',\n",
       " 'sacd',\n",
       " 'sad',\n",
       " 'sample',\n",
       " 'save',\n",
       " 'saw',\n",
       " 'sax',\n",
       " 'scene',\n",
       " 'school',\n",
       " 'score',\n",
       " 'search',\n",
       " 'season',\n",
       " 'second',\n",
       " 'section',\n",
       " 'seem',\n",
       " 'selection',\n",
       " 'self',\n",
       " 'sell',\n",
       " 'send',\n",
       " 'sense',\n",
       " 'series',\n",
       " 'serious',\n",
       " 'session',\n",
       " 'set',\n",
       " 'several',\n",
       " 'shame',\n",
       " 'share',\n",
       " 'shine',\n",
       " 'short',\n",
       " 'show',\n",
       " 'side',\n",
       " 'similar',\n",
       " 'simple',\n",
       " 'simply',\n",
       " 'since',\n",
       " 'sing',\n",
       " 'singer',\n",
       " 'singing',\n",
       " 'single',\n",
       " 'sings',\n",
       " 'sister',\n",
       " 'sit',\n",
       " 'skill',\n",
       " 'skip',\n",
       " 'sleep',\n",
       " 'sleeve',\n",
       " 'slightly',\n",
       " 'slow',\n",
       " 'small',\n",
       " 'smile',\n",
       " 'smooth',\n",
       " 'soft',\n",
       " 'solid',\n",
       " 'solo',\n",
       " 'soloist',\n",
       " 'somehow',\n",
       " 'someone',\n",
       " 'something',\n",
       " 'sometimes',\n",
       " 'somewhat',\n",
       " 'son',\n",
       " 'sonata',\n",
       " 'song',\n",
       " 'songwriter',\n",
       " 'songwriting',\n",
       " 'soon',\n",
       " 'soprano',\n",
       " 'sorry',\n",
       " 'sort',\n",
       " 'soul',\n",
       " 'soulful',\n",
       " 'sound',\n",
       " 'sounding',\n",
       " 'soundtrack',\n",
       " 'space',\n",
       " 'speak',\n",
       " 'special',\n",
       " 'spend',\n",
       " 'spirit',\n",
       " 'spot',\n",
       " 'stage',\n",
       " 'stand',\n",
       " 'standard',\n",
       " 'star',\n",
       " 'start',\n",
       " 'state',\n",
       " 'station',\n",
       " 'stay',\n",
       " 'step',\n",
       " 'stereo',\n",
       " 'steve',\n",
       " 'stick',\n",
       " 'still',\n",
       " 'stone',\n",
       " 'stop',\n",
       " 'story',\n",
       " 'straight',\n",
       " 'strange',\n",
       " 'street',\n",
       " 'string',\n",
       " 'strong',\n",
       " 'studio',\n",
       " 'stuff',\n",
       " 'style',\n",
       " 'success',\n",
       " 'suggest',\n",
       " 'suite',\n",
       " 'summer',\n",
       " 'sun',\n",
       " 'sung',\n",
       " 'super',\n",
       " 'superb',\n",
       " 'support',\n",
       " 'suppose',\n",
       " 'sure',\n",
       " 'surprise',\n",
       " 'surround',\n",
       " 'sweet',\n",
       " 'swing',\n",
       " 'symphony',\n",
       " 'system',\n",
       " 'take',\n",
       " 'talent',\n",
       " 'talented',\n",
       " 'talk',\n",
       " 'tape',\n",
       " 'taste',\n",
       " 'tear',\n",
       " 'technical',\n",
       " 'technique',\n",
       " 'tempo',\n",
       " 'ten',\n",
       " 'tend',\n",
       " 'tenor',\n",
       " 'term',\n",
       " 'terrific',\n",
       " 'thank',\n",
       " 'thanks',\n",
       " 'theme',\n",
       " 'thing',\n",
       " 'think',\n",
       " 'third',\n",
       " 'though',\n",
       " 'thought',\n",
       " 'thrill',\n",
       " 'throughout',\n",
       " 'throw',\n",
       " 'tight',\n",
       " 'time',\n",
       " 'title',\n",
       " 'today',\n",
       " 'together',\n",
       " 'tom',\n",
       " 'tone',\n",
       " 'top',\n",
       " 'total',\n",
       " 'totally',\n",
       " 'touch',\n",
       " 'tour',\n",
       " 'track',\n",
       " 'traditional',\n",
       " 'treasure',\n",
       " 'treat',\n",
       " 'tribute',\n",
       " 'trio',\n",
       " 'trip',\n",
       " 'true',\n",
       " 'truly',\n",
       " 'trumpet',\n",
       " 'tune',\n",
       " 'turn',\n",
       " 'tv',\n",
       " 'type',\n",
       " 'typical',\n",
       " 'understand',\n",
       " 'unfortunately',\n",
       " 'unique',\n",
       " 'unlike',\n",
       " 'upbeat',\n",
       " 'upon',\n",
       " 'us',\n",
       " 'use',\n",
       " 'usual',\n",
       " 'usually',\n",
       " 'value',\n",
       " 'van',\n",
       " 'variation',\n",
       " 'variety',\n",
       " 'various',\n",
       " 'version',\n",
       " 'vibe',\n",
       " 'video',\n",
       " 'view',\n",
       " 'vinyl',\n",
       " 'violin',\n",
       " 'vocal',\n",
       " 'vocalist',\n",
       " 'voice',\n",
       " 'volume',\n",
       " 'wa',\n",
       " 'wait',\n",
       " 'walk',\n",
       " 'want',\n",
       " 'war',\n",
       " 'warm',\n",
       " 'waste',\n",
       " 'watch',\n",
       " 'water',\n",
       " 'wave',\n",
       " 'way',\n",
       " 'weak',\n",
       " 'wear',\n",
       " 'week',\n",
       " 'welcome',\n",
       " 'well',\n",
       " 'west',\n",
       " 'whatever',\n",
       " 'whether',\n",
       " 'white',\n",
       " 'whole',\n",
       " 'whose',\n",
       " 'wide',\n",
       " 'wife',\n",
       " 'wild',\n",
       " 'williams',\n",
       " 'wilson',\n",
       " 'win',\n",
       " 'wind',\n",
       " 'wish',\n",
       " 'within',\n",
       " 'without',\n",
       " 'woman',\n",
       " 'wonder',\n",
       " 'wonderful',\n",
       " 'word',\n",
       " 'work',\n",
       " 'world',\n",
       " 'worth',\n",
       " 'worthy',\n",
       " 'wow',\n",
       " 'write',\n",
       " 'writing',\n",
       " 'wrong',\n",
       " 'year',\n",
       " 'yes',\n",
       " 'yet',\n",
       " 'york',\n",
       " 'young']"
      ]
     },
     "execution_count": 105,
     "metadata": {
      "tags": []
     },
     "output_type": "execute_result"
    }
   ],
   "source": [
    "feature_matrix_TRAIN_names = vectorizer.get_feature_names()\n",
    "feature_matrix_TRAIN_names"
   ]
  },
  {
   "cell_type": "code",
   "execution_count": null,
   "metadata": {
    "colab": {},
    "colab_type": "code",
    "id": "NRXyfVHNdS3t"
   },
   "outputs": [],
   "source": [
    "feature_matrix_TEST = vectorizer.transform(test_reviews)"
   ]
  },
  {
   "cell_type": "markdown",
   "metadata": {
    "colab_type": "text",
    "id": "8fYQEURWbI_r"
   },
   "source": [
    "## SVM Classifier"
   ]
  },
  {
   "cell_type": "code",
   "execution_count": null,
   "metadata": {
    "colab": {},
    "colab_type": "code",
    "id": "Al9vR5NKgAEz"
   },
   "outputs": [],
   "source": [
    "from sklearn import linear_model\n",
    "\n",
    "svm = linear_model.SGDClassifier(loss='hinge', random_state = 0) \n",
    "svm.fit(feature_matrix_TRAIN, train_polarity)\n",
    "predicted_svm = svm.predict(feature_matrix_TEST)"
   ]
  },
  {
   "cell_type": "code",
   "execution_count": 29,
   "metadata": {
    "colab": {
     "base_uri": "https://localhost:8080/",
     "height": 35
    },
    "colab_type": "code",
    "id": "i5tEZuS2gFKe",
    "outputId": "cbf87e4f-5505-4322-be53-03f481dafc08"
   },
   "outputs": [
    {
     "name": "stdout",
     "output_type": "stream",
     "text": [
      "Accuracy rate: 0.864\n"
     ]
    }
   ],
   "source": [
    "from sklearn import metrics\n",
    "print('Accuracy rate:', np.round(metrics.accuracy_score(test_polarity, predicted_svm), 3))"
   ]
  },
  {
   "cell_type": "markdown",
   "metadata": {
    "colab_type": "text",
    "id": "GdvbBRVinzd8"
   },
   "source": [
    "## Lexicon-based Score"
   ]
  },
  {
   "cell_type": "code",
   "execution_count": null,
   "metadata": {
    "colab": {},
    "colab_type": "code",
    "id": "3k9irPtbnqdi"
   },
   "outputs": [],
   "source": [
    "def analyze_sentiment_vader_lexicon(review, threshold = 0.1, verbose = False):\n",
    "    scores = analyzer.polarity_scores(review)  \n",
    "    # binary_sentiment = 'positive' if scores['compound'] >= threshold else 'negative'\n",
    "    non_binary_sentiment = ('positive' if scores['compound'] > threshold else 'negative') if scores['compound']!=threshold else \"neutral\"\n",
    "\n",
    "    if verbose:                             \n",
    "        # print('VADER Polarity (Binary):', binary_sentiment)\n",
    "        print('VADER Polarity:', non_binary_sentiment)\n",
    "        print('VADER Score:', round(scores['compound'], 2))\n",
    "    return non_binary_sentiment,scores['compound']  "
   ]
  },
  {
   "cell_type": "code",
   "execution_count": null,
   "metadata": {
    "colab": {},
    "colab_type": "code",
    "id": "BoANAeDjCr3N"
   },
   "outputs": [],
   "source": [
    "from nltk.sentiment.vader import SentimentIntensityAnalyzer\n",
    "analyzer = SentimentIntensityAnalyzer()"
   ]
  },
  {
   "cell_type": "code",
   "execution_count": null,
   "metadata": {
    "colab": {},
    "colab_type": "code",
    "id": "RcqhAf92ny1-"
   },
   "outputs": [],
   "source": [
    "VADER_polarity_test = [analyze_sentiment_vader_lexicon(review, threshold=0.1)\\\n",
    "                       for review in test_reviews]"
   ]
  },
  {
   "cell_type": "code",
   "execution_count": 48,
   "metadata": {
    "colab": {
     "base_uri": "https://localhost:8080/",
     "height": 407
    },
    "colab_type": "code",
    "id": "L9Tl21mnoPbX",
    "outputId": "3fc31772-7502-4652-fe8b-39585174c35b"
   },
   "outputs": [
    {
     "data": {
      "text/html": [
       "<div>\n",
       "<style scoped>\n",
       "    .dataframe tbody tr th:only-of-type {\n",
       "        vertical-align: middle;\n",
       "    }\n",
       "\n",
       "    .dataframe tbody tr th {\n",
       "        vertical-align: top;\n",
       "    }\n",
       "\n",
       "    .dataframe thead th {\n",
       "        text-align: right;\n",
       "    }\n",
       "</style>\n",
       "<table border=\"1\" class=\"dataframe\">\n",
       "  <thead>\n",
       "    <tr style=\"text-align: right;\">\n",
       "      <th></th>\n",
       "      <th>VADER Polarity</th>\n",
       "      <th>VADER Score</th>\n",
       "    </tr>\n",
       "  </thead>\n",
       "  <tbody>\n",
       "    <tr>\n",
       "      <th>0</th>\n",
       "      <td>positive</td>\n",
       "      <td>0.9100</td>\n",
       "    </tr>\n",
       "    <tr>\n",
       "      <th>1</th>\n",
       "      <td>positive</td>\n",
       "      <td>0.9623</td>\n",
       "    </tr>\n",
       "    <tr>\n",
       "      <th>2</th>\n",
       "      <td>positive</td>\n",
       "      <td>0.9895</td>\n",
       "    </tr>\n",
       "    <tr>\n",
       "      <th>3</th>\n",
       "      <td>positive</td>\n",
       "      <td>0.7096</td>\n",
       "    </tr>\n",
       "    <tr>\n",
       "      <th>4</th>\n",
       "      <td>positive</td>\n",
       "      <td>0.7506</td>\n",
       "    </tr>\n",
       "    <tr>\n",
       "      <th>...</th>\n",
       "      <td>...</td>\n",
       "      <td>...</td>\n",
       "    </tr>\n",
       "    <tr>\n",
       "      <th>88172</th>\n",
       "      <td>positive</td>\n",
       "      <td>0.9287</td>\n",
       "    </tr>\n",
       "    <tr>\n",
       "      <th>88173</th>\n",
       "      <td>positive</td>\n",
       "      <td>0.9509</td>\n",
       "    </tr>\n",
       "    <tr>\n",
       "      <th>88174</th>\n",
       "      <td>positive</td>\n",
       "      <td>0.9627</td>\n",
       "    </tr>\n",
       "    <tr>\n",
       "      <th>88175</th>\n",
       "      <td>positive</td>\n",
       "      <td>0.2500</td>\n",
       "    </tr>\n",
       "    <tr>\n",
       "      <th>88176</th>\n",
       "      <td>positive</td>\n",
       "      <td>0.9761</td>\n",
       "    </tr>\n",
       "  </tbody>\n",
       "</table>\n",
       "<p>88177 rows × 2 columns</p>\n",
       "</div>"
      ],
      "text/plain": [
       "      VADER Polarity  VADER Score\n",
       "0           positive       0.9100\n",
       "1           positive       0.9623\n",
       "2           positive       0.9895\n",
       "3           positive       0.7096\n",
       "4           positive       0.7506\n",
       "...              ...          ...\n",
       "88172       positive       0.9287\n",
       "88173       positive       0.9509\n",
       "88174       positive       0.9627\n",
       "88175       positive       0.2500\n",
       "88176       positive       0.9761\n",
       "\n",
       "[88177 rows x 2 columns]"
      ]
     },
     "execution_count": 48,
     "metadata": {
      "tags": []
     },
     "output_type": "execute_result"
    }
   ],
   "source": [
    "VADER_polarity_test_df = pd.DataFrame(VADER_polarity_test, columns = ['VADER Polarity','VADER Score'])\n",
    "VADER_polarity_test_df"
   ]
  },
  {
   "cell_type": "markdown",
   "metadata": {
    "colab_type": "text",
    "id": "zWah4Or9TggX"
   },
   "source": [
    "### Crosstab"
   ]
  },
  {
   "cell_type": "code",
   "execution_count": 28,
   "metadata": {
    "colab": {
     "base_uri": "https://localhost:8080/",
     "height": 198
    },
    "colab_type": "code",
    "id": "w1zuV-APn6RG",
    "outputId": "7af1e43f-a7b9-4b01-988d-78d207fcbe88"
   },
   "outputs": [
    {
     "data": {
      "text/html": [
       "<div>\n",
       "<style scoped>\n",
       "    .dataframe tbody tr th:only-of-type {\n",
       "        vertical-align: middle;\n",
       "    }\n",
       "\n",
       "    .dataframe tbody tr th {\n",
       "        vertical-align: top;\n",
       "    }\n",
       "\n",
       "    .dataframe thead th {\n",
       "        text-align: right;\n",
       "    }\n",
       "</style>\n",
       "<table border=\"1\" class=\"dataframe\">\n",
       "  <thead>\n",
       "    <tr style=\"text-align: right;\">\n",
       "      <th>Predicted:</th>\n",
       "      <th>negative</th>\n",
       "      <th>positive</th>\n",
       "      <th>All</th>\n",
       "    </tr>\n",
       "    <tr>\n",
       "      <th>True:</th>\n",
       "      <th></th>\n",
       "      <th></th>\n",
       "      <th></th>\n",
       "    </tr>\n",
       "  </thead>\n",
       "  <tbody>\n",
       "    <tr>\n",
       "      <th>negative</th>\n",
       "      <td>90</td>\n",
       "      <td>1308</td>\n",
       "      <td>1398</td>\n",
       "    </tr>\n",
       "    <tr>\n",
       "      <th>neutral</th>\n",
       "      <td>79</td>\n",
       "      <td>1066</td>\n",
       "      <td>1145</td>\n",
       "    </tr>\n",
       "    <tr>\n",
       "      <th>positive</th>\n",
       "      <td>1025</td>\n",
       "      <td>14139</td>\n",
       "      <td>15164</td>\n",
       "    </tr>\n",
       "    <tr>\n",
       "      <th>All</th>\n",
       "      <td>1194</td>\n",
       "      <td>16513</td>\n",
       "      <td>17707</td>\n",
       "    </tr>\n",
       "  </tbody>\n",
       "</table>\n",
       "</div>"
      ],
      "text/plain": [
       "Predicted:  negative  positive    All\n",
       "True:                                \n",
       "negative          90      1308   1398\n",
       "neutral           79      1066   1145\n",
       "positive        1025     14139  15164\n",
       "All             1194     16513  17707"
      ]
     },
     "execution_count": 28,
     "metadata": {
      "tags": []
     },
     "output_type": "execute_result"
    }
   ],
   "source": [
    "pd.crosstab(pd.Series(test_polarity), \n",
    "            pd.Series(VADER_polarity_test_df['VADER Polarity']), \n",
    "            rownames = ['True:'], \n",
    "            colnames = ['Predicted:'], \n",
    "            margins = True)"
   ]
  },
  {
   "cell_type": "markdown",
   "metadata": {
    "colab_type": "text",
    "id": "w5dqsJMxTcn6"
   },
   "source": [
    "### The threshold value that maximizes"
   ]
  },
  {
   "cell_type": "code",
   "execution_count": 38,
   "metadata": {
    "colab": {
     "base_uri": "https://localhost:8080/",
     "height": 69
    },
    "colab_type": "code",
    "id": "lYA04VRVoQeU",
    "outputId": "d303bcfc-63ef-46d0-a6a4-c032dfe096e7"
   },
   "outputs": [
    {
     "name": "stdout",
     "output_type": "stream",
     "text": [
      "The threshold value that maximizes the prediction accuracy rate is -0.415.\n",
      "The threshold value that maximizes the precision of the prediction is -0.421.\n",
      "The threshold value that maximizes the recall rate of the prediction is -0.421.\n"
     ]
    }
   ],
   "source": [
    "def try_threshold_for_accuracy(sentiment_scores, threshold_for_pos):\n",
    "    VADER_binary_polarity = [('positive' if s > threshold_for_pos else 'negative') if s!=threshold_for_pos else \"neutral\" for s in list(sentiment_scores)]\n",
    "    accuracy = metrics.accuracy_score(test_polarity, VADER_binary_polarity)\n",
    "    return(accuracy) \n",
    "\n",
    "def try_threshold_for_precision(sentiment_scores, threshold_for_pos):\n",
    "    VADER_binary_polarity = [('positive' if s > threshold_for_pos else 'negative') if s!=threshold_for_pos else \"neutral\" for s in list(sentiment_scores)]\n",
    "    precision=np.round(metrics.precision_score(test_polarity, VADER_binary_polarity, pos_label='positive',average=\"micro\"), 3)\n",
    "    return(precision) \n",
    "\n",
    "def try_threshold_for_recall(sentiment_scores, threshold_for_pos):\n",
    "    VADER_binary_polarity = [('positive' if s > threshold_for_pos else 'negative') if s!=threshold_for_pos else \"neutral\" for s in list(sentiment_scores)]\n",
    "    recall=np.round(metrics.recall_score(test_polarity, VADER_binary_polarity, pos_label='positive',average=\"micro\"), 3)\n",
    "    return(recall)  \n"
   ]
  },
  {
   "cell_type": "code",
   "execution_count": null,
   "metadata": {
    "colab": {},
    "colab_type": "code",
    "id": "GWIVXc2gTPs2"
   },
   "outputs": [],
   "source": [
    "thresholds = np.linspace(-1,1,1000)\n",
    "acc_rates = [try_threshold_for_accuracy(VADER_polarity_test_df['VADER Score'],threshold) for threshold in thresholds]\n",
    "pre_rates=[try_threshold_for_precision(VADER_polarity_test_df['VADER Score'],threshold) for threshold in thresholds]\n",
    "recall_rates=[try_threshold_for_recall(VADER_polarity_test_df['VADER Score'],threshold) for threshold in thresholds]\n",
    "\n",
    "acc_thresh=thresholds[acc_rates.index(max(acc_rates))]\n",
    "pre_thresh=thresholds[pre_rates.index(max(pre_rates))]\n",
    "recall_thresh=thresholds[recall_rates.index(max(recall_rates))]\n",
    "\n",
    "print(f\"The threshold value that maximizes the prediction accuracy rate is {round(acc_thresh,3)}.\")\n",
    "print(f\"The threshold value that maximizes the precision of the prediction is {round(pre_thresh,3)}.\")\n",
    "print(f\"The threshold value that maximizes the recall rate of the prediction is {round(recall_thresh,3)}.\")"
   ]
  },
  {
   "cell_type": "markdown",
   "metadata": {
    "colab_type": "text",
    "id": "gIeUC3XUb8Nw"
   },
   "source": [
    "### The maximized rates"
   ]
  },
  {
   "cell_type": "code",
   "execution_count": 43,
   "metadata": {
    "colab": {
     "base_uri": "https://localhost:8080/",
     "height": 69
    },
    "colab_type": "code",
    "id": "h-wkgOZHXrId",
    "outputId": "0b53d31f-1499-4dcc-fe29-8348aabac81e"
   },
   "outputs": [
    {
     "name": "stdout",
     "output_type": "stream",
     "text": [
      "The prediction accuracy rate is 0.849541263594815.\n",
      "The precision of the prediction is 0.85.\n",
      "The recall rate of the prediction is 0.85.\n"
     ]
    }
   ],
   "source": [
    "print(f\"The maximized prediction accuracy rate is {max(acc_rates)}.\")\n",
    "print(f\"The maximized precision of the prediction is {max(pre_rates)}.\")\n",
    "print(f\"The maximized recall rate of the prediction is {max(recall_rates)}.\")"
   ]
  },
  {
   "cell_type": "code",
   "execution_count": 110,
   "metadata": {
    "colab": {
     "base_uri": "https://localhost:8080/",
     "height": 407
    },
    "colab_type": "code",
    "id": "Z_7BvmrPJU6A",
    "outputId": "30eb08ad-c667-470f-c886-08cafc7ae3b4"
   },
   "outputs": [
    {
     "data": {
      "text/html": [
       "<div>\n",
       "<style scoped>\n",
       "    .dataframe tbody tr th:only-of-type {\n",
       "        vertical-align: middle;\n",
       "    }\n",
       "\n",
       "    .dataframe tbody tr th {\n",
       "        vertical-align: top;\n",
       "    }\n",
       "\n",
       "    .dataframe thead th {\n",
       "        text-align: right;\n",
       "    }\n",
       "</style>\n",
       "<table border=\"1\" class=\"dataframe\">\n",
       "  <thead>\n",
       "    <tr style=\"text-align: right;\">\n",
       "      <th></th>\n",
       "      <th>VADER Polarity</th>\n",
       "      <th>VADER Score</th>\n",
       "    </tr>\n",
       "  </thead>\n",
       "  <tbody>\n",
       "    <tr>\n",
       "      <th>0</th>\n",
       "      <td>positive</td>\n",
       "      <td>-0.3999</td>\n",
       "    </tr>\n",
       "    <tr>\n",
       "      <th>1</th>\n",
       "      <td>positive</td>\n",
       "      <td>0.4125</td>\n",
       "    </tr>\n",
       "    <tr>\n",
       "      <th>2</th>\n",
       "      <td>positive</td>\n",
       "      <td>0.6486</td>\n",
       "    </tr>\n",
       "    <tr>\n",
       "      <th>3</th>\n",
       "      <td>positive</td>\n",
       "      <td>0.0000</td>\n",
       "    </tr>\n",
       "    <tr>\n",
       "      <th>4</th>\n",
       "      <td>positive</td>\n",
       "      <td>0.0000</td>\n",
       "    </tr>\n",
       "    <tr>\n",
       "      <th>...</th>\n",
       "      <td>...</td>\n",
       "      <td>...</td>\n",
       "    </tr>\n",
       "    <tr>\n",
       "      <th>88172</th>\n",
       "      <td>positive</td>\n",
       "      <td>0.9839</td>\n",
       "    </tr>\n",
       "    <tr>\n",
       "      <th>88173</th>\n",
       "      <td>positive</td>\n",
       "      <td>0.9726</td>\n",
       "    </tr>\n",
       "    <tr>\n",
       "      <th>88174</th>\n",
       "      <td>positive</td>\n",
       "      <td>0.8074</td>\n",
       "    </tr>\n",
       "    <tr>\n",
       "      <th>88175</th>\n",
       "      <td>positive</td>\n",
       "      <td>0.3182</td>\n",
       "    </tr>\n",
       "    <tr>\n",
       "      <th>88176</th>\n",
       "      <td>positive</td>\n",
       "      <td>0.8271</td>\n",
       "    </tr>\n",
       "  </tbody>\n",
       "</table>\n",
       "<p>88177 rows × 2 columns</p>\n",
       "</div>"
      ],
      "text/plain": [
       "      VADER Polarity  VADER Score\n",
       "0           positive      -0.3999\n",
       "1           positive       0.4125\n",
       "2           positive       0.6486\n",
       "3           positive       0.0000\n",
       "4           positive       0.0000\n",
       "...              ...          ...\n",
       "88172       positive       0.9839\n",
       "88173       positive       0.9726\n",
       "88174       positive       0.8074\n",
       "88175       positive       0.3182\n",
       "88176       positive       0.8271\n",
       "\n",
       "[88177 rows x 2 columns]"
      ]
     },
     "execution_count": 110,
     "metadata": {
      "tags": []
     },
     "output_type": "execute_result"
    }
   ],
   "source": [
    "VADER_polarity_best_test = [analyze_sentiment_vader_lexicon(review, threshold=-0.415)\\\n",
    "                            for review in test_reviews]\n",
    "VADER_polarity_best_test_df = pd.DataFrame(VADER_polarity_best_test, columns = ['VADER Polarity','VADER Score'])\n",
    "VADER_polarity_best_test_df"
   ]
  },
  {
   "cell_type": "markdown",
   "metadata": {
    "colab_type": "text",
    "id": "KN8GFF5Bb_xg"
   },
   "source": [
    "### Plots of rates"
   ]
  },
  {
   "cell_type": "code",
   "execution_count": 40,
   "metadata": {
    "colab": {
     "base_uri": "https://localhost:8080/",
     "height": 325
    },
    "colab_type": "code",
    "id": "zeMpj2TLpnnu",
    "outputId": "3875dcda-0d77-40bf-8e47-d6f943b5c543"
   },
   "outputs": [
    {
     "data": {
      "image/png": "[encoded data removed]",
      "text/plain": [
       "<Figure size 432x288 with 1 Axes>"
      ]
     },
     "metadata": {
      "needs_background": "light",
      "tags": []
     },
     "output_type": "display_data"
    }
   ],
   "source": [
    "import matplotlib.pyplot as plt\n",
    "\n",
    "plt.plot(thresholds, acc_rates)\n",
    "plt.xlabel(\"Threshold score for positive sentiment polarity\")\n",
    "plt.ylabel(\"Accuracy rate\")\n",
    "plt.title(\"Accuracy Rate of Sentiment Polarity Prediction \\n as a Function of Threshold for VADER Scores \\n\")\n",
    "plt.show()"
   ]
  },
  {
   "cell_type": "code",
   "execution_count": 41,
   "metadata": {
    "colab": {
     "base_uri": "https://localhost:8080/",
     "height": 325
    },
    "colab_type": "code",
    "id": "6cpO_OEivZLk",
    "outputId": "393f9d78-4fe6-4c33-e1ab-5e3290a0c90d"
   },
   "outputs": [
    {
     "data": {
      "image/png": "[encoded data removed]",
      "text/plain": [
       "<Figure size 432x288 with 1 Axes>"
      ]
     },
     "metadata": {
      "needs_background": "light",
      "tags": []
     },
     "output_type": "display_data"
    }
   ],
   "source": [
    "## Precision\n",
    "plt.plot(thresholds, pre_rates)\n",
    "plt.xlabel(\"Threshold score for positive sentiment polarity\")\n",
    "plt.ylabel(\"Precision\")\n",
    "plt.title(\"Precision of Sentiment Polarity Prediction \\n as a Function of Threshold for VADER Scores \\n\")\n",
    "plt.show()"
   ]
  },
  {
   "cell_type": "code",
   "execution_count": 42,
   "metadata": {
    "colab": {
     "base_uri": "https://localhost:8080/",
     "height": 325
    },
    "colab_type": "code",
    "id": "nul7Dkb2P5vU",
    "outputId": "c64367f3-e098-4b86-bf1b-739c21b9ba69"
   },
   "outputs": [
    {
     "data": {
      "image/png": "[encoded data removed]",
      "text/plain": [
       "<Figure size 432x288 with 1 Axes>"
      ]
     },
     "metadata": {
      "needs_background": "light",
      "tags": []
     },
     "output_type": "display_data"
    }
   ],
   "source": [
    "## Recall\n",
    "plt.plot(thresholds, recall_rates)\n",
    "plt.xlabel(\"Threshold score for positive sentiment polarity\")\n",
    "plt.ylabel(\"Recall Rate\")\n",
    "plt.title(\"Recall Rate of Sentiment Polarity Prediction \\n as a Function of Threshold for VADER Scores \\n\")\n",
    "plt.show()"
   ]
  },
  {
   "cell_type": "markdown",
   "metadata": {
    "colab_type": "text",
    "id": "lan84VcKbNFd"
   },
   "source": [
    "## Word Weights"
   ]
  },
  {
   "cell_type": "code",
   "execution_count": null,
   "metadata": {
    "colab": {},
    "colab_type": "code",
    "id": "CHs_Ftm-bMf-"
   },
   "outputs": [],
   "source": [
    "from sklearn.decomposition import LatentDirichletAllocation\n",
    "\n",
    "lda_corpus_5 = LatentDirichletAllocation(n_components=5, max_iter=100,\n",
    "                                         doc_topic_prior = 0.9,\n",
    "                                         topic_word_prior = 0.3).fit(feature_matrix_TEST)"
   ]
  },
  {
   "cell_type": "code",
   "execution_count": null,
   "metadata": {
    "colab": {},
    "colab_type": "code",
    "id": "GLYBHrhHtdaT"
   },
   "outputs": [],
   "source": [
    "#lda_news_topic_weights_TRAIN = lda_corpus_5.transform(feature_matrix_TRAIN)\n",
    "lda_news_topic_weights_TEST = lda_corpus_5.transform(feature_matrix_TEST)\n",
    "\n",
    "#pd.DataFrame(lda_news_topic_weights_TRAIN).to_csv(\"lda_news_topic_weights_TRAIN.csv\",index=False)\n",
    "pd.DataFrame(lda_news_topic_weights_TEST).to_csv(\"lda_news_topic_weights_TEST.csv\")\n"
   ]
  },
  {
   "cell_type": "markdown",
   "metadata": {
    "colab_type": "text",
    "id": "pYEOONeNgpKT"
   },
   "source": [
    "### Match the topic names with topic modeling results"
   ]
  },
  {
   "cell_type": "code",
   "execution_count": 38,
   "metadata": {
    "colab": {
     "base_uri": "https://localhost:8080/",
     "height": 210
    },
    "colab_type": "code",
    "id": "1MPqLPbatfhs",
    "outputId": "7fdf85d8-b6e5-4ba9-be8e-c38fc63c62d9"
   },
   "outputs": [
    {
     "name": "stdout",
     "output_type": "stream",
     "text": [
      "Topic 0:\n",
      "sound version record track set original disc release cd collection quality good include hit well\n",
      "Topic 1:\n",
      "recording music work performance play piece sound jazz well piano hear first musical symphony orchestra\n",
      "Topic 2:\n",
      "song music love voice sing like beautiful artist singer life know favorite wonderful time every\n",
      "Topic 3:\n",
      "album song like band track sound rock good guitar vocal time first really best new\n",
      "Topic 4:\n",
      "cd great buy hear good fan time play year live really best dvd like show\n"
     ]
    }
   ],
   "source": [
    "no_top_words = 15\n",
    "display_topics(lda_corpus_5, vectorizer.get_feature_names(), no_top_words)"
   ]
  },
  {
   "cell_type": "markdown",
   "metadata": {
    "colab_type": "text",
    "id": "J6EbbKfLg0AQ"
   },
   "source": [
    "### Fixed-Effect Regression on Topics\n",
    "To find out which topic is more focused on when positive reviews are more easily given. To make it faster, we use test dataset to run the regression."
   ]
  },
  {
   "cell_type": "code",
   "execution_count": null,
   "metadata": {
    "colab": {},
    "colab_type": "code",
    "id": "-U8B5MxbtD3I"
   },
   "outputs": [],
   "source": [
    "artist=other_info[\"brand\"]\n",
    "test_score=VADER_polarity_best_test_df[\"VADER Score\"]\n",
    "test_artist=artist[test_polarity.index].fillna(\"John Doe\").reset_index(drop=True)"
   ]
  },
  {
   "cell_type": "code",
   "execution_count": 57,
   "metadata": {
    "colab": {
     "base_uri": "https://localhost:8080/",
     "height": 69
    },
    "colab_type": "code",
    "id": "OGZAr3YR9I3m",
    "outputId": "8898bdbd-aada-482f-997e-5102a8433a45"
   },
   "outputs": [
    {
     "data": {
      "text/plain": [
       "Index(['asin', 'overall', 'summary', 'vote', 'category', 'title', 'brand',\n",
       "       'rank', 'price'],\n",
       "      dtype='object')"
      ]
     },
     "execution_count": 57,
     "metadata": {
      "tags": []
     },
     "output_type": "execute_result"
    }
   ],
   "source": [
    "other_info.columns"
   ]
  },
  {
   "cell_type": "code",
   "execution_count": 122,
   "metadata": {
    "colab": {
     "base_uri": "https://localhost:8080/",
     "height": 407
    },
    "colab_type": "code",
    "id": "oCIPwpuJhaFU",
    "outputId": "8cfda620-a24d-4a44-9cf4-eb0691d81689"
   },
   "outputs": [
    {
     "data": {
      "text/html": [
       "<div>\n",
       "<style scoped>\n",
       "    .dataframe tbody tr th:only-of-type {\n",
       "        vertical-align: middle;\n",
       "    }\n",
       "\n",
       "    .dataframe tbody tr th {\n",
       "        vertical-align: top;\n",
       "    }\n",
       "\n",
       "    .dataframe thead th {\n",
       "        text-align: right;\n",
       "    }\n",
       "</style>\n",
       "<table border=\"1\" class=\"dataframe\">\n",
       "  <thead>\n",
       "    <tr style=\"text-align: right;\">\n",
       "      <th></th>\n",
       "      <th>quality</th>\n",
       "      <th>classic</th>\n",
       "      <th>appreciation</th>\n",
       "      <th>genre</th>\n",
       "      <th>eval</th>\n",
       "      <th>score</th>\n",
       "      <th>artist</th>\n",
       "    </tr>\n",
       "  </thead>\n",
       "  <tbody>\n",
       "    <tr>\n",
       "      <th>0</th>\n",
       "      <td>0.089026</td>\n",
       "      <td>0.080445</td>\n",
       "      <td>0.122314</td>\n",
       "      <td>0.473549</td>\n",
       "      <td>0.234665</td>\n",
       "      <td>-0.3999</td>\n",
       "      <td>Lifehouse</td>\n",
       "    </tr>\n",
       "    <tr>\n",
       "      <th>1</th>\n",
       "      <td>0.050883</td>\n",
       "      <td>0.059167</td>\n",
       "      <td>0.615599</td>\n",
       "      <td>0.061678</td>\n",
       "      <td>0.212674</td>\n",
       "      <td>0.4125</td>\n",
       "      <td>Susan Boyle</td>\n",
       "    </tr>\n",
       "    <tr>\n",
       "      <th>2</th>\n",
       "      <td>0.129650</td>\n",
       "      <td>0.152409</td>\n",
       "      <td>0.269436</td>\n",
       "      <td>0.112840</td>\n",
       "      <td>0.335665</td>\n",
       "      <td>0.6486</td>\n",
       "      <td>Johnny Cash</td>\n",
       "    </tr>\n",
       "    <tr>\n",
       "      <th>3</th>\n",
       "      <td>0.243790</td>\n",
       "      <td>0.128635</td>\n",
       "      <td>0.129401</td>\n",
       "      <td>0.377990</td>\n",
       "      <td>0.120184</td>\n",
       "      <td>0.0000</td>\n",
       "      <td>Leon Russell</td>\n",
       "    </tr>\n",
       "    <tr>\n",
       "      <th>4</th>\n",
       "      <td>0.079376</td>\n",
       "      <td>0.261324</td>\n",
       "      <td>0.209773</td>\n",
       "      <td>0.132138</td>\n",
       "      <td>0.317389</td>\n",
       "      <td>0.0000</td>\n",
       "      <td>Gregorio Paniagua</td>\n",
       "    </tr>\n",
       "    <tr>\n",
       "      <th>...</th>\n",
       "      <td>...</td>\n",
       "      <td>...</td>\n",
       "      <td>...</td>\n",
       "      <td>...</td>\n",
       "      <td>...</td>\n",
       "      <td>...</td>\n",
       "      <td>...</td>\n",
       "    </tr>\n",
       "    <tr>\n",
       "      <th>88172</th>\n",
       "      <td>0.396120</td>\n",
       "      <td>0.291942</td>\n",
       "      <td>0.215556</td>\n",
       "      <td>0.053322</td>\n",
       "      <td>0.043060</td>\n",
       "      <td>0.9839</td>\n",
       "      <td>Various Artists</td>\n",
       "    </tr>\n",
       "    <tr>\n",
       "      <th>88173</th>\n",
       "      <td>0.123409</td>\n",
       "      <td>0.230862</td>\n",
       "      <td>0.179149</td>\n",
       "      <td>0.416377</td>\n",
       "      <td>0.050204</td>\n",
       "      <td>0.9726</td>\n",
       "      <td>Jami Seiber</td>\n",
       "    </tr>\n",
       "    <tr>\n",
       "      <th>88174</th>\n",
       "      <td>0.107776</td>\n",
       "      <td>0.163003</td>\n",
       "      <td>0.221497</td>\n",
       "      <td>0.406313</td>\n",
       "      <td>0.101411</td>\n",
       "      <td>0.8074</td>\n",
       "      <td>Vangelis</td>\n",
       "    </tr>\n",
       "    <tr>\n",
       "      <th>88175</th>\n",
       "      <td>0.305797</td>\n",
       "      <td>0.102754</td>\n",
       "      <td>0.106360</td>\n",
       "      <td>0.210742</td>\n",
       "      <td>0.274347</td>\n",
       "      <td>0.3182</td>\n",
       "      <td>Beyonce</td>\n",
       "    </tr>\n",
       "    <tr>\n",
       "      <th>88176</th>\n",
       "      <td>0.259394</td>\n",
       "      <td>0.170809</td>\n",
       "      <td>0.250259</td>\n",
       "      <td>0.093650</td>\n",
       "      <td>0.225888</td>\n",
       "      <td>0.8271</td>\n",
       "      <td>John Doe</td>\n",
       "    </tr>\n",
       "  </tbody>\n",
       "</table>\n",
       "<p>88177 rows × 7 columns</p>\n",
       "</div>"
      ],
      "text/plain": [
       "        quality   classic  appreciation  ...      eval   score             artist\n",
       "0      0.089026  0.080445      0.122314  ...  0.234665 -0.3999          Lifehouse\n",
       "1      0.050883  0.059167      0.615599  ...  0.212674  0.4125        Susan Boyle\n",
       "2      0.129650  0.152409      0.269436  ...  0.335665  0.6486        Johnny Cash\n",
       "3      0.243790  0.128635      0.129401  ...  0.120184  0.0000       Leon Russell\n",
       "4      0.079376  0.261324      0.209773  ...  0.317389  0.0000  Gregorio Paniagua\n",
       "...         ...       ...           ...  ...       ...     ...                ...\n",
       "88172  0.396120  0.291942      0.215556  ...  0.043060  0.9839    Various Artists\n",
       "88173  0.123409  0.230862      0.179149  ...  0.050204  0.9726        Jami Seiber\n",
       "88174  0.107776  0.163003      0.221497  ...  0.101411  0.8074           Vangelis\n",
       "88175  0.305797  0.102754      0.106360  ...  0.274347  0.3182            Beyonce\n",
       "88176  0.259394  0.170809      0.250259  ...  0.225888  0.8271           John Doe\n",
       "\n",
       "[88177 rows x 7 columns]"
      ]
     },
     "execution_count": 122,
     "metadata": {
      "tags": []
     },
     "output_type": "execute_result"
    }
   ],
   "source": [
    "## Train:\n",
    "## topic_names = [\"general evaluation\",\"classic music\",\"genre\",\\\n",
    "##                \"appreciation\",\"format and quality\"]\n",
    "column_names=[\"quality\",\"classic\",\"appreciation\",\"genre\",\"eval\",\"score\",\"artist\"]\n",
    "\n",
    "lda_topic_weights_TEST=pd.read_csv(\"lda_news_topic_weights_TEST.csv\").iloc[:,1:]\n",
    "\n",
    "lda_topic_weights_TEST= pd.concat([lda_news_topic_weights_TEST,test_score,test_artist],axis=1).reset_index(drop=True)\n",
    "lda_topic_weights_TEST.columns=column_names\n",
    "lda_topic_weights_TEST"
   ]
  },
  {
   "cell_type": "code",
   "execution_count": 124,
   "metadata": {
    "colab": {
     "base_uri": "https://localhost:8080/",
     "height": 363
    },
    "colab_type": "code",
    "id": "vg5U2WW8m_ub",
    "outputId": "6c783f94-97d9-48ed-b614-df3bf8fbcb4d"
   },
   "outputs": [
    {
     "name": "stdout",
     "output_type": "stream",
     "text": [
      "             Mixed Linear Model Regression Results\n",
      "===============================================================\n",
      "Model:              MixedLM   Dependent Variable:   score      \n",
      "No. Observations:   88177     Method:               REML       \n",
      "No. Groups:         22562     Scale:                0.1167     \n",
      "Min. group size:    1         Likelihood:           -32960.0056\n",
      "Max. group size:    2817      Converged:            No         \n",
      "Mean group size:    3.9                                        \n",
      "---------------------------------------------------------------\n",
      "             Coef.   Std.Err.   z    P>|z|   [0.025     0.975] \n",
      "---------------------------------------------------------------\n",
      "Intercept    -1.538 21529.928 -0.000 1.000 -42199.420 42196.345\n",
      "quality       2.048 21529.928  0.000 1.000 -42195.835 42199.931\n",
      "classic       2.473 21529.928  0.000 1.000 -42195.410 42200.356\n",
      "appreciation  2.483 21529.928  0.000 1.000 -42195.399 42200.366\n",
      "genre         2.343 21529.928  0.000 1.000 -42195.540 42200.226\n",
      "eval          2.220 21529.928  0.000 1.000 -42195.663 42200.103\n",
      "Group Var     0.011     0.002                                  \n",
      "===============================================================\n",
      "\n"
     ]
    }
   ],
   "source": [
    "# !pip install statsmodels\n",
    "# regression\n",
    "import statsmodels.api as sm\n",
    "import statsmodels.formula.api as smf\n",
    "\n",
    "## linear fixed effect model\n",
    "felm = smf.mixedlm(\" score~ quality+classic+appreciation+genre+eval\", \n",
    "                 data=lda_topic_weights_TEST, \n",
    "                 groups=lda_topic_weights_TEST[\"artist\"])\n",
    "felmf = felm.fit()\n",
    "print(felmf.summary())"
   ]
  },
  {
   "cell_type": "markdown",
   "metadata": {},
   "source": [
    "# Sentiment Analysis - another method"
   ]
  },
  {
   "cell_type": "markdown",
   "metadata": {
    "colab_type": "text",
    "id": "9fpu7__sd-BT"
   },
   "source": [
    "### Extract Aspect - words with top occurance"
   ]
  },
  {
   "cell_type": "code",
   "execution_count": 4,
   "metadata": {
    "colab": {},
    "colab_type": "code",
    "collapsed": true,
    "id": "SAsc_T64-x_D",
    "jupyter": {
     "outputs_hidden": true
    }
   },
   "outputs": [
    {
     "data": {
      "text/plain": [
       "{'album': 413309,\n",
       " 'song': 367446,\n",
       " 'music': 319150,\n",
       " 'cd': 318224,\n",
       " 'sound': 217663,\n",
       " 'love': 169702,\n",
       " 'time': 163417,\n",
       " 'track': 150633,\n",
       " 'hear': 146577,\n",
       " 'record': 117562,\n",
       " 'band': 116241,\n",
       " 'play': 110907,\n",
       " 'work': 110080,\n",
       " 'fan': 102320,\n",
       " 'year': 101586,\n",
       " 'release': 89359,\n",
       " 'think': 86806,\n",
       " 'version': 81889,\n",
       " 'voice': 80323,\n",
       " 'set': 79279,\n",
       " 'rock': 73808,\n",
       " 'way': 72189,\n",
       " 'performance': 69451,\n",
       " 'disc': 67358,\n",
       " 'collection': 63819,\n",
       " 'want': 61411,\n",
       " 'favorite': 61350,\n",
       " 'guitar': 60273,\n",
       " 'show': 58508,\n",
       " 'enjoy': 56970,\n",
       " 'quality': 55340,\n",
       " 'include': 54920,\n",
       " 'day': 52202,\n",
       " 'thing': 49443,\n",
       " 'dvd': 49075,\n",
       " 'star': 46733,\n",
       " 'look': 46368,\n",
       " 'feel': 46339,\n",
       " 'beautiful': 46183,\n",
       " 'seem': 45917,\n",
       " 'use': 45755,\n",
       " 'hit': 45566,\n",
       " 'lyric': 43405,\n",
       " 'excellent': 42480,\n",
       " 'recommend': 42316,\n",
       " 'piece': 42120,\n",
       " 'lot': 41570,\n",
       " 'write': 41080,\n",
       " 'artist': 40998,\n",
       " 'put': 40987,\n",
       " 'note': 40811,\n",
       " 'review': 40676,\n",
       " 'style': 40437,\n",
       " 'something': 40139,\n",
       " 'blue': 39832,\n",
       " 'jazz': 38700,\n",
       " 'wonderful': 38592,\n",
       " 'end': 37961,\n",
       " 'bit': 37509,\n",
       " 'tune': 37112}"
      ]
     },
     "execution_count": 4,
     "metadata": {},
     "output_type": "execute_result"
    }
   ],
   "source": [
    "df = pd.read_csv(\"Final_data.csv\")\n",
    "Corpus = df[\"normalized\"]\n",
    "def get_aspect(reviews):\n",
    "    dic = {}\n",
    "    STOPWORDS = set(stopwords.words('english'))\n",
    "    for review in reviews:\n",
    "        if type(review) == str: ###还是有nan(float)\n",
    "            words = review.split()\n",
    "            for word in words:\n",
    "                if word in dic.keys()and word not in STOPWORDS:\n",
    "                    dic[word] = dic[word]+1\n",
    "                else:\n",
    "                    dic[word] = 1\n",
    "    dic = {k: v for k, v in sorted(dic.items(), key=lambda item: item[1], reverse=True)}\n",
    "    return dic\n",
    "Top_words = get_aspect(Corpus) #words and count\n",
    "Top_100_words = nlargest(100,Top_words,key=Top_words.get) #only words\n",
    "#Top nouns\n",
    "Top_nouns = [] \n",
    "for word in Top_100_words:\n",
    "    key_type = TextBlob(word).tags[0][1]\n",
    "    if key_type == \"NN\" or key_type == \"NNP\":\n",
    "        Top_nouns.append(word)\n",
    "#top nouns with count\n",
    "Top_noun_count = {}\n",
    "for i in Top_nouns:\n",
    "    Top_noun_count[i] = Top_words[i]\n",
    "Top_noun_count "
   ]
  },
  {
   "cell_type": "markdown",
   "metadata": {},
   "source": [
    "#### Our conclusion: aspects can be grouped this way\n",
    "##### The album itself: \n",
    "album, song, music, sound, track, record, collection, dvd <br />\n",
    "##### Other attributes of the CD: \n",
    "band, voice, way, guitar, lyric, artist, style, tune<br />\n",
    "##### Music genre: \n",
    "rock, jazz<br />\n",
    "##### Overall evaluation: \n",
    "performance, quality, star, look, feel, use, work<br />"
   ]
  },
  {
   "cell_type": "markdown",
   "metadata": {
    "colab_type": "text",
    "id": "9fpu7__sd-BT"
   },
   "source": [
    "### Read Lexicons"
   ]
  },
  {
   "cell_type": "code",
   "execution_count": 5,
   "metadata": {},
   "outputs": [],
   "source": [
    "# read in the Lexicons\n",
    "PATH_TO_LEXICONS = \"/Users/xinyifang/Desktop/Amazon Reviews\"\n",
    "pos_path = PATH_TO_LEXICONS + \"/Liu/positive-words.txt\"\n",
    "neg_path = PATH_TO_LEXICONS + \"/Liu/negative-words.txt\"\n",
    "\n",
    "def read_lexicon(path):\n",
    "\tstart_read = False\n",
    "\tlexicon = set()\n",
    "\twith open(path, 'r',encoding = \"ISO-8859-1\") as f:\n",
    "# \twith open(path, 'r') as f: \n",
    "\t\tfor line in f: \n",
    "\t\t\tif start_read:\n",
    "\t\t\t\tlexicon.add(line.strip())\n",
    "\t\t\tif line.strip() == \"\":\n",
    "\t\t\t\tstart_read = True\n",
    "\treturn lexicon\n",
    "\n",
    "pos_lex = read_lexicon(pos_path)\n",
    "neg_lex = read_lexicon(neg_path)"
   ]
  },
  {
   "cell_type": "markdown",
   "metadata": {},
   "source": [
    "### Predict Score\n",
    "Here we try to measure sentiment score by the proportion of absolute number of positive words(number of positive words minus number of negative words) to number of words tokenized sentence."
   ]
  },
  {
   "cell_type": "code",
   "execution_count": 6,
   "metadata": {},
   "outputs": [],
   "source": [
    "def predict(tokenized_sent): #input: a reveiw split by word， not a whole sentence.\n",
    "\tdoc_len = len(tokenized_sent)\n",
    "\tassert doc_len > 0, \"Can't featurize document with no tokens.\" \n",
    "\tnum_pos = sum([1 if tok in pos_lex else 0 for tok in tokenized_sent]) #number of positive lexicons in the sentence\n",
    "\tnum_neg = sum([1 if tok in neg_lex else 0 for tok in tokenized_sent])\n",
    "\tscore = (num_pos - num_neg)/doc_len #no range, can only compare high/low\n",
    "\treturn score"
   ]
  },
  {
   "cell_type": "code",
   "execution_count": 7,
   "metadata": {},
   "outputs": [],
   "source": [
    "def score(sentence):\n",
    "\ttokenized_sentence = sentence.split()\n",
    "\tscore = predict(tokenized_sentence)\n",
    "\treturn score"
   ]
  },
  {
   "cell_type": "code",
   "execution_count": 46,
   "metadata": {},
   "outputs": [
    {
     "data": {
      "text/plain": [
       "(0.5, -0.2857142857142857)"
      ]
     },
     "execution_count": 46,
     "metadata": {},
     "output_type": "execute_result"
    }
   ],
   "source": [
    "## Demo\n",
    "tokenized_1 = \"really love album. recommend\"\n",
    "tokenized_2 = \"disgusting music and record, bad. however cheap\"\n",
    "(score(tokenized_1),score(tokenized_2))"
   ]
  },
  {
   "cell_type": "markdown",
   "metadata": {},
   "source": [
    "### Get Score by Aspect"
   ]
  },
  {
   "cell_type": "code",
   "execution_count": 48,
   "metadata": {},
   "outputs": [],
   "source": [
    "def get_review_by_aspect(aspect,reviews): # from many reviews, get reviews which contain the aspect\n",
    "    review_selected = []\n",
    "    for review in reviews:\n",
    "        if type(review)==str:\n",
    "            words = review.split()\n",
    "            if aspect in words:\n",
    "                review_selected.append(review)\n",
    "    return review_selected #return the review if it contains the aspect."
   ]
  },
  {
   "cell_type": "code",
   "execution_count": 43,
   "metadata": {},
   "outputs": [],
   "source": [
    "def score_aspect(reviews, aspect):  # From a set of reviews, get the score of aspect of these reviews\n",
    "    aspect_sentences = get_review_by_aspect(aspect, reviews)\n",
    "    scores = [score(sent) for sent in aspect_sentences]\n",
    "    return scores\n",
    "    #return np.mean(scores)"
   ]
  },
  {
   "cell_type": "code",
   "execution_count": 54,
   "metadata": {},
   "outputs": [],
   "source": [
    "## Demo\n",
    "reviews = df[\"normalized\"]\n",
    "# get_review_by_aspect(\"lyric\",reviews) \n",
    "scores_song = score_aspect(reviews,\"song\")\n",
    "scores_lyric = score_aspect(reviews,\"lyric\")"
   ]
  },
  {
   "cell_type": "code",
   "execution_count": 56,
   "metadata": {},
   "outputs": [
    {
     "data": {
      "text/plain": [
       "(161303, 32149)"
      ]
     },
     "execution_count": 56,
     "metadata": {},
     "output_type": "execute_result"
    }
   ],
   "source": [
    "len(scores_song),len(scores_lyric)"
   ]
  },
  {
   "cell_type": "markdown",
   "metadata": {},
   "source": [
    "There are 161303 reviews mention the aspect \"song\", 32149 reviews mention the aspect \"lyric\".<br />\n",
    "Let's see the distribution of scores"
   ]
  },
  {
   "cell_type": "markdown",
   "metadata": {},
   "source": [
    "### Distribution of Scores"
   ]
  },
  {
   "cell_type": "code",
   "execution_count": 96,
   "metadata": {},
   "outputs": [
    {
     "data": {
      "image/png": "[encoded data removed]",
      "text/plain": [
       "<Figure size 432x288 with 1 Axes>"
      ]
     },
     "metadata": {
      "needs_background": "light"
     },
     "output_type": "display_data"
    }
   ],
   "source": [
    "def mean(list):\n",
    "    avg = sum(list)/len(list)\n",
    "    return avg\n",
    "\n",
    "x = scores_song\n",
    "y = scores_lyric\n",
    "\n",
    "bins = np.linspace(-0.5, 0.5, 100)\n",
    "\n",
    "plt.hist(x, bins, alpha=0.5, label='scores_song')\n",
    "plt.hist(y, bins, alpha=0.5, label='scores_lyric')\n",
    "plt.legend(loc='upper right')\n",
    "plt.axvline(mean(x), color='b', linestyle='dashed', linewidth=1) \n",
    "plt.axvline(mean(y), color='r', linestyle='dashed', linewidth=1)\n",
    "plt.xlabel('Score')\n",
    "plt.ylabel('Frequency')\n",
    "plt.title('Song/Lyric')\n",
    "plt.show()"
   ]
  },
  {
   "cell_type": "markdown",
   "metadata": {},
   "source": [
    "Comparing to people who mentioned \"song\" in their reviews, people mentioned \"lyric\" are very few. Meanwhile, people's attitude towards lyric is a little bit lower than song. <br />\n",
    "Let's see another example."
   ]
  },
  {
   "cell_type": "code",
   "execution_count": 97,
   "metadata": {},
   "outputs": [
    {
     "data": {
      "image/png": "[encoded data removed]",
      "text/plain": [
       "<Figure size 432x288 with 1 Axes>"
      ]
     },
     "metadata": {
      "needs_background": "light"
     },
     "output_type": "display_data"
    }
   ],
   "source": [
    "scores_rock = score_aspect(reviews,\"rock\")\n",
    "scores_jazz = score_aspect(reviews,\"jazz\")\n",
    "x = scores_rock\n",
    "y = scores_jazz\n",
    "\n",
    "bins = np.linspace(-0.5, 0.5, 100)\n",
    "\n",
    "plt.hist(x, bins, alpha=0.5, label='scores_rock')\n",
    "plt.hist(y, bins, alpha=0.5, label='scores_jazz')\n",
    "plt.legend(loc='upper right')\n",
    "plt.axvline(mean(x), color='b', linestyle='dashed', linewidth=1) \n",
    "plt.axvline(mean(y), color='r', linestyle='dashed', linewidth=1)\n",
    "plt.xlabel('Score')\n",
    "plt.ylabel('Frequency')\n",
    "plt.title('Rock/Jazz')\n",
    "plt.show()"
   ]
  },
  {
   "cell_type": "markdown",
   "metadata": {},
   "source": [
    "Comparing to people who mentioned \"rock\" in their reviews, people mentioned \"jazz\" are very few. Meanwhile, people's attitude towards rock is a little bit lower than jazz. This tells us that rock is more popular among people but people's overall preference for jazz is higher than rock music. <br \\>\n",
    "\n",
    "Let's see how people mention quality."
   ]
  },
  {
   "cell_type": "code",
   "execution_count": 98,
   "metadata": {},
   "outputs": [
    {
     "data": {
      "text/plain": [
       "Text(0.5, 1.0, 'Quality')"
      ]
     },
     "execution_count": 98,
     "metadata": {},
     "output_type": "execute_result"
    },
    {
     "data": {
      "image/png": "[encoded data removed]",
      "text/plain": [
       "<Figure size 432x288 with 1 Axes>"
      ]
     },
     "metadata": {
      "needs_background": "light"
     },
     "output_type": "display_data"
    }
   ],
   "source": [
    "scores_quality = score_aspect(reviews,\"quality\")\n",
    "x = scores_quality\n",
    "bins = np.linspace(-0.5, 0.5, 100)\n",
    "plt.hist(x, bins, alpha=0.5, label='scores_quality')\n",
    "plt.legend(loc='upper right')\n",
    "plt.axvline(mean(x), color='b', linestyle='dashed', linewidth=1) \n",
    "plt.xlabel('Score')\n",
    "plt.ylabel('Frequency')\n",
    "plt.title('Quality')"
   ]
  },
  {
   "cell_type": "markdown",
   "metadata": {},
   "source": [
    "I used to think when people mentioned quality, they must be complaining about it. From the distribution, we can see it's not the case. The majority of people mentioning quality provide positive review (score higher than 0). People like to praise the quality of CD rather than just complaining about it."
   ]
  },
  {
   "cell_type": "markdown",
   "metadata": {},
   "source": [
    "### Analyze review by product\n",
    "Let's check one product: <br />\n",
    "I Dreamed A Dream (product_id:B0026P3G12) ----->1 "
   ]
  },
  {
   "cell_type": "code",
   "execution_count": 123,
   "metadata": {},
   "outputs": [],
   "source": [
    "def get_review_by_product(product_id):\n",
    "    reviews = []\n",
    "    for index,row in df.iterrows():\n",
    "        if row[\"asin\"]==product_id:\n",
    "            reviews.append(row[\"normalized\"])\n",
    "    return reviews"
   ]
  },
  {
   "cell_type": "code",
   "execution_count": 124,
   "metadata": {},
   "outputs": [],
   "source": [
    "reviews_1 = get_review_by_product(\"B0026P3G12\") #I Dreamed A Dream"
   ]
  },
  {
   "cell_type": "code",
   "execution_count": 125,
   "metadata": {},
   "outputs": [
    {
     "data": {
      "image/png": "[encoded data removed]",
      "text/plain": [
       "<Figure size 432x288 with 1 Axes>"
      ]
     },
     "metadata": {
      "needs_background": "light"
     },
     "output_type": "display_data"
    }
   ],
   "source": [
    "#The scores that mention all aspect about the CD it self\n",
    "scores_1 = score_aspect(reviews_1,\"album\") + score_aspect(reviews_1,\"song\") +score_aspect(reviews_1,\"music\")\\\n",
    "    + score_aspect(reviews_1,\"sound\") + score_aspect(reviews_1,\"track\") + score_aspect(reviews_1,\"record\")\\\n",
    "    + score_aspect(reviews_1,\"collection\") + score_aspect(reviews_1,\"dvd\")\n",
    "x = scores_1\n",
    "\n",
    "bins = np.linspace(-0.5, 0.5, 100)\n",
    "\n",
    "plt.hist(x, bins, alpha=0.5, label='scores_1')\n",
    "plt.legend(loc='upper right')\n",
    "plt.axvline(mean(x), color='b', linestyle='dashed', linewidth=1) \n",
    "plt.xlabel('Score')\n",
    "plt.ylabel('Frequency')\n",
    "plt.title('I Dreamed A Dream')\n",
    "plt.show()"
   ]
  },
  {
   "cell_type": "markdown",
   "metadata": {},
   "source": [
    "I Dreamed A Dream is the CD that have most reviews in our dataset. It was released on 23 November 2009. In only six weeks of sales, it became the biggest selling album in the world for 2009. From our scores, we can also tell that people like it. Lots of people buy it and most of them hold positive view on it."
   ]
  }
 ],
 "metadata": {
  "colab": {
   "collapsed_sections": [
    "SmN6mXFCemBu",
    "pZfM0TfqeEUn",
    "LzCXsAyldy_D",
    "Oy08-F55d6Ve"
   ],
   "machine_shape": "hm",
   "name": "final.ipynb",
   "provenance": []
  },
  "kernelspec": {
   "display_name": "Python 3",
   "language": "python",
   "name": "python3"
  },
  "language_info": {
   "codemirror_mode": {
    "name": "ipython",
    "version": 3
   },
   "file_extension": ".py",
   "mimetype": "text/x-python",
   "name": "python",
   "nbconvert_exporter": "python",
   "pygments_lexer": "ipython3",
   "version": "3.7.6"
  }
 },
 "nbformat": 4,
 "nbformat_minor": 4
}
